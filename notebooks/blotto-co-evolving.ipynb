{
 "cells": [
  {
   "cell_type": "code",
   "execution_count": 15,
   "metadata": {
    "ExecuteTime": {
     "end_time": "2019-10-22T01:45:19.274865Z",
     "start_time": "2019-10-22T01:45:19.253422Z"
    }
   },
   "outputs": [],
   "source": [
    "import sys\n",
    "sys.path.append(\"../code\")\n",
    "import pandas as pd\n",
    "import random\n",
    "from glob import glob"
   ]
  },
  {
   "cell_type": "code",
   "execution_count": 16,
   "metadata": {
    "ExecuteTime": {
     "end_time": "2019-10-22T01:45:19.296955Z",
     "start_time": "2019-10-22T01:45:19.277928Z"
    }
   },
   "outputs": [],
   "source": [
    "import blotto_utils as bu"
   ]
  },
  {
   "cell_type": "code",
   "execution_count": 17,
   "metadata": {
    "ExecuteTime": {
     "end_time": "2019-10-22T01:45:19.338472Z",
     "start_time": "2019-10-22T01:45:19.299292Z"
    }
   },
   "outputs": [
    {
     "name": "stdout",
     "output_type": "stream",
     "text": [
      "The autoreload extension is already loaded. To reload it, use:\n",
      "  %reload_ext autoreload\n"
     ]
    }
   ],
   "source": [
    "%load_ext autoreload\n",
    "%autoreload 2"
   ]
  },
  {
   "cell_type": "code",
   "execution_count": 18,
   "metadata": {
    "ExecuteTime": {
     "end_time": "2019-10-22T01:45:19.387046Z",
     "start_time": "2019-10-22T01:45:19.347393Z"
    }
   },
   "outputs": [
    {
     "data": {
      "text/html": [
       "<style>.container { width:95% !important; }</style>"
      ],
      "text/plain": [
       "<IPython.core.display.HTML object>"
      ]
     },
     "metadata": {},
     "output_type": "display_data"
    }
   ],
   "source": [
    "from IPython.core.display import display, HTML\n",
    "display(HTML(\"<style>.container { width:95% !important; }</style>\"))"
   ]
  },
  {
   "cell_type": "markdown",
   "metadata": {},
   "source": [
    "# 538 Data"
   ]
  },
  {
   "cell_type": "code",
   "execution_count": 5,
   "metadata": {
    "ExecuteTime": {
     "end_time": "2019-10-22T01:34:36.638959Z",
     "start_time": "2019-10-22T01:34:36.569722Z"
    }
   },
   "outputs": [],
   "source": [
    "weights = [1, 2, 3, 4, 5, 6, 7, 8, 9, 10]\n",
    "\n",
    "data_dir = '/Users/Alex/Documents/Alex/Yale/Fall 2019/CPSC_490/blotto/data/'\n",
    "\n",
    "fivethirtyeight_data_dir = data_dir + 'fivethirtyeight/'\n",
    "\n",
    "sorted(glob(fivethirtyeight_data_dir + '*'))\n",
    "\n",
    "temp_df = pd.read_csv(glob(fivethirtyeight_data_dir + '*')[0])\n",
    "\n",
    "new_column_names = list(map((lambda x : '_'.join(x.split(' ')).lower()), list(temp_df.columns)))\n",
    "new_column_names[-1] = 'reason'\n",
    "\n",
    "temp_df.rename(dict(zip(list(temp_df.columns), new_column_names)), axis=1, inplace=True)\n",
    "\n",
    "temp_df['total_troops'] = temp_df['castle_1'] + \\\n",
    "                          temp_df['castle_2'] + \\\n",
    "                          temp_df['castle_3'] + \\\n",
    "                          temp_df['castle_4'] + \\\n",
    "                          temp_df['castle_5'] + \\\n",
    "                          temp_df['castle_6'] + \\\n",
    "                          temp_df['castle_7'] + \\\n",
    "                          temp_df['castle_8'] + \\\n",
    "                          temp_df['castle_9'] + \\\n",
    "                          temp_df['castle_10']\n",
    "\n",
    "full_strats_df = temp_df[temp_df.total_troops == 100].copy()\n",
    "\n",
    "full_strats_list = full_strats_df.to_dict('records')\n",
    "\n",
    "simp_strats_list = [[x[1] for x in list(y.items())[:10]] for y in full_strats_list]"
   ]
  },
  {
   "cell_type": "markdown",
   "metadata": {},
   "source": [
    "## Divide into two players"
   ]
  },
  {
   "cell_type": "code",
   "execution_count": 27,
   "metadata": {
    "ExecuteTime": {
     "end_time": "2019-10-22T01:48:40.079138Z",
     "start_time": "2019-10-22T01:48:40.059082Z"
    }
   },
   "outputs": [],
   "source": [
    "random.seed(0)"
   ]
  },
  {
   "cell_type": "code",
   "execution_count": 28,
   "metadata": {
    "ExecuteTime": {
     "end_time": "2019-10-22T01:48:40.117402Z",
     "start_time": "2019-10-22T01:48:40.081500Z"
    }
   },
   "outputs": [],
   "source": [
    "a_strat_init = random.sample(simp_strats_list, 100)\n",
    "b_strat_init = random.sample(simp_strats_list, 100)"
   ]
  },
  {
   "cell_type": "code",
   "execution_count": 29,
   "metadata": {
    "ExecuteTime": {
     "end_time": "2019-10-22T01:48:40.162118Z",
     "start_time": "2019-10-22T01:48:40.126256Z"
    }
   },
   "outputs": [
    {
     "data": {
      "text/plain": [
       "(100, 100)"
      ]
     },
     "execution_count": 29,
     "metadata": {},
     "output_type": "execute_result"
    }
   ],
   "source": [
    "len(a_strat_init), len(b_strat_init)"
   ]
  },
  {
   "cell_type": "markdown",
   "metadata": {},
   "source": [
    "# Co-Evolving Algorithm"
   ]
  },
  {
   "cell_type": "markdown",
   "metadata": {},
   "source": [
    "## compute fitness (pairwise battle)"
   ]
  },
  {
   "cell_type": "markdown",
   "metadata": {},
   "source": [
    "we could even do groups of (n) battle to compute fitness"
   ]
  },
  {
   "cell_type": "code",
   "execution_count": 30,
   "metadata": {
    "ExecuteTime": {
     "end_time": "2019-10-22T01:48:42.175768Z",
     "start_time": "2019-10-22T01:48:42.051388Z"
    }
   },
   "outputs": [],
   "source": [
    "a_results = bu.eval_strats(a_strat_init, b_strat_init, weights)\n",
    "\n",
    "b_results = bu.eval_strats(b_strat_init, a_strat_init, weights)"
   ]
  },
  {
   "cell_type": "code",
   "execution_count": 32,
   "metadata": {
    "ExecuteTime": {
     "end_time": "2019-10-22T01:48:43.102831Z",
     "start_time": "2019-10-22T01:48:43.079119Z"
    },
    "collapsed": true
   },
   "outputs": [
    {
     "data": {
      "text/plain": [
       "[([0.0, 3.0, 4.0, 14.0, 15.0, 5.0, 5.0, 5.0, 33.0, 16.0], 72),\n",
       " ([1.0, 1.0, 1.0, 15.0, 20.0, 1.0, 1.0, 1.0, 30.0, 29.0], 71),\n",
       " ([0.0, 0.0, 3.0, 9.0, 12.0, 22.0, 6.0, 32.0, 8.0, 8.0], 68),\n",
       " ([1.0, 0.0, 9.0, 12.0, 15.0, 4.0, 21.0, 5.0, 28.0, 5.0], 66),\n",
       " ([0.0, 0.0, 11.0, 11.0, 16.0, 3.0, 21.0, 3.0, 31.0, 4.0], 65),\n",
       " ([5.0, 6.0, 6.0, 14.0, 6.0, 23.0, 22.0, 6.0, 6.0, 6.0], 64),\n",
       " ([0.0, 0.0, 0.0, 0.0, 17.0, 22.0, 23.0, 0.0, 0.0, 38.0], 64),\n",
       " ([2.0, 3.0, 3.0, 16.0, 11.0, 6.0, 16.0, 16.0, 16.0, 11.0], 63),\n",
       " ([6.0, 0.0, 0.0, 0.0, 0.0, 0.0, 0.0, 31.0, 31.0, 32.0], 61),\n",
       " ([0.0, 0.0, 3.0, 6.0, 13.0, 9.0, 6.0, 35.0, 23.0, 5.0], 61)]"
      ]
     },
     "execution_count": 32,
     "metadata": {},
     "output_type": "execute_result"
    }
   ],
   "source": [
    "sorted(a_results, key=(lambda x : x[1]), reverse=True)[:10]"
   ]
  },
  {
   "cell_type": "code",
   "execution_count": 33,
   "metadata": {
    "ExecuteTime": {
     "end_time": "2019-10-22T01:48:44.007697Z",
     "start_time": "2019-10-22T01:48:43.983929Z"
    },
    "collapsed": true
   },
   "outputs": [
    {
     "data": {
      "text/plain": [
       "[([3.0, 5.0, 8.0, 10.0, 13.0, 1.0, 26.0, 30.0, 2.0, 2.0], 33),\n",
       " ([2.0, 1.0, 8.0, 8.0, 9.0, 0.0, 0.0, 22.0, 20.0, 30.0], 32),\n",
       " ([1.0, 3.0, 7.0, 11.0, 16.0, 16.0, 16.0, 11.0, 18.0, 1.0], 32),\n",
       " ([24.0, 3.0, 3.0, 24.0, 14.0, 2.0, 11.0, 9.0, 6.0, 4.0], 31),\n",
       " ([11.0, 7.0, 12.0, 10.0, 15.0, 20.0, 25.0, 0.0, 0.0, 0.0], 27),\n",
       " ([8.0, 12.0, 6.0, 7.0, 13.0, 14.0, 22.0, 10.0, 5.0, 3.0], 25),\n",
       " ([7.0, 7.0, 7.0, 9.0, 15.0, 25.0, 30.0, 0.0, 0.0, 0.0], 24),\n",
       " ([13.0, 21.0, 5.0, 5.0, 14.0, 16.0, 10.0, 8.0, 5.0, 3.0], 22),\n",
       " ([4.0, 2.0, 24.0, 28.0, 2.0, 12.0, 14.0, 6.0, 5.0, 3.0], 21),\n",
       " ([10.0, 15.0, 20.0, 30.0, 20.0, 1.0, 1.0, 1.0, 2.0, 0.0], 9)]"
      ]
     },
     "execution_count": 33,
     "metadata": {},
     "output_type": "execute_result"
    }
   ],
   "source": [
    "sorted(a_results, key=(lambda x : x[1]), reverse=True)[-10:]"
   ]
  },
  {
   "cell_type": "code",
   "execution_count": 34,
   "metadata": {
    "ExecuteTime": {
     "end_time": "2019-10-22T01:48:45.638401Z",
     "start_time": "2019-10-22T01:48:45.613137Z"
    },
    "collapsed": true
   },
   "outputs": [
    {
     "data": {
      "text/plain": [
       "[([0.0, 0.0, 11.0, 15.0, 18.0, 22.0, 0.0, 0.0, 0.0, 34.0], 73),\n",
       " ([0.0, 2.0, 2.0, 2.0, 21.0, 22.0, 2.0, 2.0, 23.0, 24.0], 73),\n",
       " ([0.0, 1.0, 8.0, 14.0, 16.0, 1.0, 22.0, 3.0, 25.0, 10.0], 72),\n",
       " ([4.0, 0.0, 6.0, 13.0, 13.0, 25.0, 1.0, 3.0, 26.0, 9.0], 69),\n",
       " ([7.0, 0.0, 0.0, 0.0, 0.0, 0.0, 0.0, 31.0, 31.0, 31.0], 68),\n",
       " ([4.0, 7.0, 10.0, 13.0, 4.0, 4.0, 4.0, 4.0, 23.0, 27.0], 68),\n",
       " ([1.0, 2.0, 4.0, 7.0, 14.0, 22.0, 3.0, 3.0, 23.0, 21.0], 67),\n",
       " ([12.0, 0.0, 0.0, 0.0, 0.0, 0.0, 0.0, 29.0, 29.0, 30.0], 67),\n",
       " ([1.0, 1.0, 1.0, 6.0, 17.0, 17.0, 6.0, 6.0, 22.0, 23.0], 67),\n",
       " ([0.0, 0.0, 3.0, 9.0, 12.0, 22.0, 6.0, 32.0, 8.0, 8.0], 66)]"
      ]
     },
     "execution_count": 34,
     "metadata": {},
     "output_type": "execute_result"
    }
   ],
   "source": [
    "sorted(b_results, key=(lambda x : x[1]), reverse=True)[:10]"
   ]
  },
  {
   "cell_type": "code",
   "execution_count": 35,
   "metadata": {
    "ExecuteTime": {
     "end_time": "2019-10-22T01:48:46.154840Z",
     "start_time": "2019-10-22T01:48:46.128100Z"
    },
    "collapsed": true
   },
   "outputs": [
    {
     "data": {
      "text/plain": [
       "[([1.0, 10.0, 10.0, 10.0, 10.0, 10.0, 13.0, 14.0, 21.0, 1.0], 21),\n",
       " ([2.0, 6.0, 1.0, 6.0, 12.0, 13.0, 26.0, 30.0, 2.0, 2.0], 21),\n",
       " ([2.0, 0.0, 0.0, 1.0, 12.0, 14.0, 12.0, 15.0, 0.0, 44.0], 20),\n",
       " ([4.0, 2.0, 24.0, 28.0, 2.0, 12.0, 14.0, 6.0, 5.0, 3.0], 18),\n",
       " ([9.0, 10.0, 11.0, 12.0, 13.0, 14.0, 15.0, 16.0, 0.0, 0.0], 17),\n",
       " ([19.0, 17.0, 15.0, 13.0, 11.0, 11.0, 8.0, 6.0, 0.0, 0.0], 5),\n",
       " ([0.0, 0.0, 1.0, 1.0, 3.0, 1.0, 3.0, 3.0, 1.0, 87.0], 5),\n",
       " ([1.0, 1.0, 1.0, 1.0, 1.0, 1.0, 1.0, 1.0, 1.0, 91.0], 5),\n",
       " ([0.0, 0.0, 0.0, 0.0, 0.0, 0.0, 0.0, 0.0, 0.0, 100.0], 0),\n",
       " ([100.0, 0.0, 0.0, 0.0, 0.0, 0.0, 0.0, 0.0, 0.0, 0.0], 0)]"
      ]
     },
     "execution_count": 35,
     "metadata": {},
     "output_type": "execute_result"
    }
   ],
   "source": [
    "sorted(b_results, key=(lambda x : x[1]), reverse=True)[-10:]"
   ]
  },
  {
   "cell_type": "markdown",
   "metadata": {},
   "source": [
    "keep half"
   ]
  },
  {
   "cell_type": "code",
   "execution_count": 36,
   "metadata": {
    "ExecuteTime": {
     "end_time": "2019-10-22T01:53:01.679354Z",
     "start_time": "2019-10-22T01:53:01.654436Z"
    }
   },
   "outputs": [],
   "source": [
    "a_fittest = sorted(a_results, key=(lambda x : x[1]), reverse=True)[:50]"
   ]
  },
  {
   "cell_type": "code",
   "execution_count": 37,
   "metadata": {
    "ExecuteTime": {
     "end_time": "2019-10-22T01:53:07.645161Z",
     "start_time": "2019-10-22T01:53:07.620613Z"
    }
   },
   "outputs": [
    {
     "data": {
      "text/plain": [
       "[([0.0, 3.0, 4.0, 14.0, 15.0, 5.0, 5.0, 5.0, 33.0, 16.0], 72),\n",
       " ([1.0, 1.0, 1.0, 15.0, 20.0, 1.0, 1.0, 1.0, 30.0, 29.0], 71),\n",
       " ([0.0, 0.0, 3.0, 9.0, 12.0, 22.0, 6.0, 32.0, 8.0, 8.0], 68),\n",
       " ([1.0, 0.0, 9.0, 12.0, 15.0, 4.0, 21.0, 5.0, 28.0, 5.0], 66),\n",
       " ([0.0, 0.0, 11.0, 11.0, 16.0, 3.0, 21.0, 3.0, 31.0, 4.0], 65),\n",
       " ([5.0, 6.0, 6.0, 14.0, 6.0, 23.0, 22.0, 6.0, 6.0, 6.0], 64),\n",
       " ([0.0, 0.0, 0.0, 0.0, 17.0, 22.0, 23.0, 0.0, 0.0, 38.0], 64),\n",
       " ([2.0, 3.0, 3.0, 16.0, 11.0, 6.0, 16.0, 16.0, 16.0, 11.0], 63),\n",
       " ([6.0, 0.0, 0.0, 0.0, 0.0, 0.0, 0.0, 31.0, 31.0, 32.0], 61),\n",
       " ([0.0, 0.0, 3.0, 6.0, 13.0, 9.0, 6.0, 35.0, 23.0, 5.0], 61)]"
      ]
     },
     "execution_count": 37,
     "metadata": {},
     "output_type": "execute_result"
    }
   ],
   "source": [
    "a_fittest[:10]"
   ]
  },
  {
   "cell_type": "markdown",
   "metadata": {},
   "source": [
    "## crossover"
   ]
  },
  {
   "cell_type": "code",
   "execution_count": 68,
   "metadata": {
    "ExecuteTime": {
     "end_time": "2019-10-22T02:09:41.392117Z",
     "start_time": "2019-10-22T02:09:41.365044Z"
    }
   },
   "outputs": [],
   "source": [
    "a_next_gen = []\n",
    "for i in range(14):\n",
    "    for j in range(i+1, 15):\n",
    "        a_next_gen.append(bu.make_integer(bu.cross([a_fittest[i][0], a_fittest[j][0]])))"
   ]
  },
  {
   "cell_type": "markdown",
   "metadata": {},
   "source": [
    "# Entire GA"
   ]
  },
  {
   "cell_type": "code",
   "execution_count": 245,
   "metadata": {
    "ExecuteTime": {
     "end_time": "2019-10-24T15:21:06.273181Z",
     "start_time": "2019-10-24T15:20:53.679459Z"
    }
   },
   "outputs": [],
   "source": [
    "random.seed(0)\n",
    "a_strat_init = random.sample(simp_strats_list, 100)\n",
    "b_strat_init = random.sample(simp_strats_list, 100)\n",
    "\n",
    "a_strats = a_strat_init\n",
    "b_strats = b_strat_init\n",
    "\n",
    "temp_noise = bu.generate_noise_arrays(5)\n",
    "\n",
    "for i in range(100):\n",
    "    a_results, b_results = bu.eval_strats(a_strats, b_strats, weights)\n",
    "    \n",
    "    a_fittest = sorted(a_results, key=(lambda x: (x[1], -(x[0][-1]))), reverse=True)\n",
    "    b_fittest = sorted(b_results, key=(lambda x: (x[1], -(x[0][-1]))), reverse=True)\n",
    "    \n",
    "    a_next_gen = []\n",
    "    b_next_gen = []\n",
    "    for i in range(14):\n",
    "        for j in range(i+1, 15):\n",
    "            a_next_gen.append(bu.mutate_noise(bu.make_integer(bu.cross([a_fittest[i][0], a_fittest[j][0]]), seed=(i+j)), temp_noise, seed=(i+j)))\n",
    "\n",
    "            b_next_gen.append(bu.mutate_noise(bu.make_integer(bu.cross([b_fittest[i][0], b_fittest[j][0]]), seed=(i+j)), temp_noise, seed=(i+j)))\n",
    "    \n",
    "    a_strats = a_next_gen\n",
    "    b_strats = b_next_gen"
   ]
  },
  {
   "cell_type": "markdown",
   "metadata": {},
   "source": [
    "### 100 generations"
   ]
  },
  {
   "cell_type": "code",
   "execution_count": 246,
   "metadata": {
    "ExecuteTime": {
     "end_time": "2019-10-24T15:21:07.670375Z",
     "start_time": "2019-10-24T15:21:07.648991Z"
    }
   },
   "outputs": [
    {
     "data": {
      "text/plain": [
       "[([1, 2, 0, 4, 9, 8, 12, 7, 47, 10], 86),\n",
       " ([1, 3, 6, 4, 1, 9, 6, 2, 57, 11], 81),\n",
       " ([3, 4, 0, 4, 0, 4, 8, 7, 57, 13], 81),\n",
       " ([1, 2, 5, 2, 1, 4, 12, 3, 60, 10], 80),\n",
       " ([2, 3, 0, 5, 1, 6, 7, 5, 57, 14], 79)]"
      ]
     },
     "execution_count": 246,
     "metadata": {},
     "output_type": "execute_result"
    }
   ],
   "source": [
    "a_fittest[:5]"
   ]
  },
  {
   "cell_type": "code",
   "execution_count": 247,
   "metadata": {
    "ExecuteTime": {
     "end_time": "2019-10-24T15:21:21.803822Z",
     "start_time": "2019-10-24T15:21:21.782177Z"
    }
   },
   "outputs": [
    {
     "data": {
      "text/plain": [
       "[([2, 4, 4, 4, 9, 5, 2, 0, 58, 12], 85),\n",
       " ([2, 0, 5, 4, 6, 7, 1, 12, 59, 4], 83),\n",
       " ([2, 3, 10, 4, 5, 6, 4, 8, 58, 0], 82),\n",
       " ([2, 4, 5, 4, 3, 5, 5, 3, 59, 10], 78),\n",
       " ([2, 3, 2, 3, 5, 5, 6, 5, 58, 11], 77)]"
      ]
     },
     "execution_count": 247,
     "metadata": {},
     "output_type": "execute_result"
    }
   ],
   "source": [
    "b_fittest[:5]"
   ]
  },
  {
   "cell_type": "code",
   "execution_count": 248,
   "metadata": {
    "ExecuteTime": {
     "end_time": "2019-10-24T15:21:27.610693Z",
     "start_time": "2019-10-24T15:21:27.586551Z"
    }
   },
   "outputs": [
    {
     "data": {
      "text/plain": [
       "[([2, 10, 4, 4, 3, 5, 1, 8, 55, 8], 33),\n",
       " ([3, 6, 3, 3, 6, 5, 11, 2, 52, 9], 33),\n",
       " ([2, 2, 3, 3, 2, 10, 11, 2, 52, 13], 32),\n",
       " ([3, 7, 9, 4, 3, 6, 7, 4, 54, 3], 27),\n",
       " ([8, 5, 4, 3, 4, 5, 2, 3, 55, 11], 24)]"
      ]
     },
     "execution_count": 248,
     "metadata": {},
     "output_type": "execute_result"
    }
   ],
   "source": [
    "a_fittest[-5:]"
   ]
  },
  {
   "cell_type": "code",
   "execution_count": 249,
   "metadata": {
    "ExecuteTime": {
     "end_time": "2019-10-24T15:21:34.664931Z",
     "start_time": "2019-10-24T15:21:34.641598Z"
    }
   },
   "outputs": [
    {
     "data": {
      "text/plain": [
       "[([3, 2, 4, 5, 14, 4, 3, 4, 54, 7], 18),\n",
       " ([3, 3, 5, 4, 14, 4, 3, 5, 51, 8], 18),\n",
       " ([3, 1, 4, 11, 9, 2, 4, 2, 57, 7], 17),\n",
       " ([2, 2, 2, 2, 14, 0, 5, 9, 56, 8], 15),\n",
       " ([2, 4, 4, 2, 12, 4, 6, 4, 55, 7], 13)]"
      ]
     },
     "execution_count": 249,
     "metadata": {},
     "output_type": "execute_result"
    }
   ],
   "source": [
    "b_fittest[-5:]"
   ]
  },
  {
   "cell_type": "markdown",
   "metadata": {},
   "source": [
    "### 50 generations"
   ]
  },
  {
   "cell_type": "code",
   "execution_count": 239,
   "metadata": {
    "ExecuteTime": {
     "end_time": "2019-10-24T15:17:52.343716Z",
     "start_time": "2019-10-24T15:17:52.317878Z"
    }
   },
   "outputs": [
    {
     "data": {
      "text/plain": [
       "[([2, 4, 6, 9, 14, 7, 20, 9, 27, 2], 80),\n",
       " ([3, 2, 2, 0, 20, 7, 15, 10, 30, 11], 77),\n",
       " ([3, 1, 4, 8, 21, 7, 15, 15, 24, 2], 76),\n",
       " ([2, 6, 4, 8, 21, 8, 14, 14, 21, 2], 74),\n",
       " ([2, 2, 2, 6, 21, 7, 16, 6, 29, 9], 72)]"
      ]
     },
     "execution_count": 239,
     "metadata": {},
     "output_type": "execute_result"
    }
   ],
   "source": [
    "a_fittest[:5]"
   ]
  },
  {
   "cell_type": "code",
   "execution_count": 240,
   "metadata": {
    "ExecuteTime": {
     "end_time": "2019-10-24T15:17:53.650560Z",
     "start_time": "2019-10-24T15:17:53.619442Z"
    }
   },
   "outputs": [
    {
     "data": {
      "text/plain": [
       "[([3, 7, 5, 9, 24, 2, 3, 25, 11, 11], 95),\n",
       " ([1, 4, 0, 9, 14, 9, 5, 26, 16, 16], 95),\n",
       " ([1, 3, 6, 0, 16, 5, 18, 24, 17, 10], 93),\n",
       " ([3, 9, 5, 9, 19, 4, 2, 23, 16, 10], 91),\n",
       " ([1, 5, 4, 8, 18, 8, 11, 23, 11, 11], 90)]"
      ]
     },
     "execution_count": 240,
     "metadata": {},
     "output_type": "execute_result"
    }
   ],
   "source": [
    "b_fittest[:5]"
   ]
  },
  {
   "cell_type": "code",
   "execution_count": 241,
   "metadata": {
    "ExecuteTime": {
     "end_time": "2019-10-24T15:17:54.917687Z",
     "start_time": "2019-10-24T15:17:54.892991Z"
    }
   },
   "outputs": [
    {
     "data": {
      "text/plain": [
       "[([2, 2, 0, 7, 26, 2, 12, 16, 30, 3], 17),\n",
       " ([2, 3, 3, 6, 19, 2, 15, 18, 27, 5], 15),\n",
       " ([2, 3, 4, 6, 23, 1, 15, 15, 27, 4], 14),\n",
       " ([4, 10, 3, 7, 14, 6, 7, 15, 30, 4], 8),\n",
       " ([2, 4, 2, 3, 13, 8, 14, 17, 35, 2], 6)]"
      ]
     },
     "execution_count": 241,
     "metadata": {},
     "output_type": "execute_result"
    }
   ],
   "source": [
    "a_fittest[-5:]"
   ]
  },
  {
   "cell_type": "code",
   "execution_count": 242,
   "metadata": {
    "ExecuteTime": {
     "end_time": "2019-10-24T15:17:56.222103Z",
     "start_time": "2019-10-24T15:17:56.201029Z"
    }
   },
   "outputs": [
    {
     "data": {
      "text/plain": [
       "[([1, 2, 0, 6, 14, 7, 9, 26, 18, 17], 30),\n",
       " ([2, 0, 4, 8, 17, 2, 9, 25, 17, 16], 29),\n",
       " ([1, 3, 3, 3, 13, 5, 10, 27, 23, 12], 27),\n",
       " ([1, 3, 4, 5, 14, 2, 10, 31, 18, 12], 26),\n",
       " ([1, 2, 5, 3, 18, 5, 9, 23, 17, 17], 25)]"
      ]
     },
     "execution_count": 242,
     "metadata": {},
     "output_type": "execute_result"
    }
   ],
   "source": [
    "b_fittest[-5:]"
   ]
  },
  {
   "cell_type": "markdown",
   "metadata": {},
   "source": [
    "## mutation"
   ]
  },
  {
   "cell_type": "code",
   "execution_count": 32,
   "metadata": {
    "ExecuteTime": {
     "end_time": "2019-10-22T00:05:18.723529Z",
     "start_time": "2019-10-22T00:05:18.704434Z"
    }
   },
   "outputs": [],
   "source": [
    "temp_noise = bu.generate_noise_arrays(5)"
   ]
  },
  {
   "cell_type": "code",
   "execution_count": 33,
   "metadata": {
    "ExecuteTime": {
     "end_time": "2019-10-22T00:05:19.638125Z",
     "start_time": "2019-10-22T00:05:19.613011Z"
    }
   },
   "outputs": [],
   "source": [
    "mutated_strats = []\n",
    "for fit_strat in fittest:\n",
    "    random.seed(0)\n",
    "    noise = random.choice(temp_noise)\n",
    "    new_strat = [x+y for x, y in zip(fit_strat[0], noise)]\n",
    "    if all(map((lambda x : x >= 0), new_strat)):\n",
    "        mutated_strats.append(new_strat)\n",
    "    else:\n",
    "#         print(new_strat)\n",
    "        pass"
   ]
  },
  {
   "cell_type": "code",
   "execution_count": 34,
   "metadata": {
    "ExecuteTime": {
     "end_time": "2019-10-22T00:05:22.276783Z",
     "start_time": "2019-10-22T00:05:22.254220Z"
    }
   },
   "outputs": [
    {
     "data": {
      "text/plain": [
       "285"
      ]
     },
     "execution_count": 34,
     "metadata": {},
     "output_type": "execute_result"
    }
   ],
   "source": [
    "len(mutated_strats)"
   ]
  },
  {
   "cell_type": "code",
   "execution_count": 35,
   "metadata": {
    "ExecuteTime": {
     "end_time": "2019-10-22T00:05:32.051025Z",
     "start_time": "2019-10-22T00:05:32.017116Z"
    }
   },
   "outputs": [],
   "source": [
    "fittest_mutated_strats = [x[0] for x in fittest] + mutated_strats"
   ]
  },
  {
   "cell_type": "code",
   "execution_count": 36,
   "metadata": {
    "ExecuteTime": {
     "end_time": "2019-10-22T00:05:39.693698Z",
     "start_time": "2019-10-22T00:05:33.738264Z"
    }
   },
   "outputs": [],
   "source": [
    "new_results = []\n",
    "for i in range(len(fittest_mutated_strats)):\n",
    "    temp_result = 0\n",
    "    strat_a = fittest_mutated_strats[i]\n",
    "    for j in range(len(fittest_mutated_strats)):\n",
    "        if not i == j:\n",
    "            strat_b = fittest_mutated_strats[j]\n",
    "            temp_result += bu.battle(strat_a, strat_b, weights, weights)\n",
    "            \n",
    "    new_results.append((strat_a, temp_result))"
   ]
  },
  {
   "cell_type": "code",
   "execution_count": 37,
   "metadata": {
    "ExecuteTime": {
     "end_time": "2019-10-22T00:05:39.908261Z",
     "start_time": "2019-10-22T00:05:39.866090Z"
    }
   },
   "outputs": [
    {
     "data": {
      "text/plain": [
       "[([0.0, 0.0, 0.0, 16.0, 21.0, 0.0, 0.0, 0.0, 36.0, 27.0], 580),\n",
       " ([0.0, 0.0, 0.0, 16.0, 21.0, 0.0, 0.0, 0.0, 31.0, 32.0], 575),\n",
       " ([0.0, 0.0, 0.0, 15.0, 19.0, 1.0, 1.0, 1.0, 32.0, 31.0], 567),\n",
       " ([1.0, 1.0, 12.0, 1.0, 1.0, 24.0, 1.0, 1.0, 28.0, 30.0], 555),\n",
       " ([0.0, 0.0, 12.0, 0.0, 1.0, 22.0, 1.0, 1.0, 32.0, 31.0], 554),\n",
       " ([0.0, 0.0, 0.0, 0.0, 22.0, 23.0, 28.0, 0.0, 0.0, 27.0], 552),\n",
       " ([0.0, 0.0, 0.0, 17.0, 17.0, 0.0, 0.0, 0.0, 30.0, 36.0], 549),\n",
       " ([0.0, 0.0, 0.0, 0.0, 19.0, 24.0, 27.0, 0.0, 0.0, 30.0], 549),\n",
       " ([1.0, 1.0, 2.0, 16.0, 19.0, 4.0, 4.0, 4.0, 22.0, 27.0], 546),\n",
       " ([1.0, 1.0, 2.0, 18.0, 23.0, 2.0, 3.0, 3.0, 26.0, 21.0], 542),\n",
       " ([1.0, 1.0, 1.0, 1.0, 17.0, 17.0, 6.0, 11.0, 22.0, 23.0], 542),\n",
       " ([1.0, 1.0, 2.0, 18.0, 18.0, 2.0, 3.0, 3.0, 26.0, 26.0], 538),\n",
       " ([0.0, 1.0, 2.0, 16.0, 21.0, 3.0, 2.0, 1.0, 32.0, 22.0], 534),\n",
       " ([0.0, 8.0, 0.0, 0.0, 0.0, 1.0, 28.0, 1.0, 33.0, 29.0], 534),\n",
       " ([0.0, 3.0, 4.0, 14.0, 15.0, 5.0, 5.0, 5.0, 33.0, 16.0], 534),\n",
       " ([3.0, 3.0, 3.0, 17.0, 17.0, 3.0, 4.0, 4.0, 23.0, 23.0], 528),\n",
       " ([0.0, 0.0, 0.0, 16.0, 16.0, 2.0, 2.0, 2.0, 31.0, 31.0], 527),\n",
       " ([1.0, 1.0, 1.0, 6.0, 17.0, 17.0, 6.0, 6.0, 22.0, 23.0], 527),\n",
       " ([0.0, 0.0, 0.0, 16.0, 21.0, 5.0, 0.0, 0.0, 26.0, 32.0], 527),\n",
       " ([1.0, 3.0, 3.0, 20.0, 20.0, 3.0, 5.0, 5.0, 20.0, 20.0], 526),\n",
       " ([1.0, 1.0, 1.0, 15.0, 20.0, 1.0, 1.0, 1.0, 30.0, 29.0], 525),\n",
       " ([9.0, 0.0, 0.0, 0.0, 0.0, 0.0, 0.0, 32.0, 32.0, 27.0], 525),\n",
       " ([2.0, 6.0, 2.0, 14.0, 21.0, 2.0, 6.0, 5.0, 21.0, 21.0], 522),\n",
       " ([0.0, 8.0, 0.0, 0.0, 0.0, 0.0, 28.0, 0.0, 32.0, 32.0], 520),\n",
       " ([6.0, 0.0, 0.0, 0.0, 0.0, 1.0, 2.0, 33.0, 33.0, 25.0], 515),\n",
       " ([0.0, 0.0, 0.0, 16.0, 16.0, 5.0, 0.0, 0.0, 36.0, 27.0], 514),\n",
       " ([6.0, 0.0, 0.0, 0.0, 0.0, 0.0, 0.0, 33.0, 32.0, 29.0], 514),\n",
       " ([6.0, 0.0, 0.0, 0.0, 0.0, 0.0, 0.0, 38.0, 32.0, 24.0], 513),\n",
       " ([9.0, 1.0, 1.0, 1.0, 1.0, 1.0, 1.0, 35.0, 25.0, 25.0], 509),\n",
       " ([0.0, 0.0, 0.0, 15.0, 18.0, 1.0, 1.0, 1.0, 26.0, 38.0], 503)]"
      ]
     },
     "execution_count": 37,
     "metadata": {},
     "output_type": "execute_result"
    }
   ],
   "source": [
    "sorted(new_results, key=(lambda x: x[1]), reverse=True)[:30]"
   ]
  },
  {
   "cell_type": "code",
   "execution_count": 38,
   "metadata": {
    "ExecuteTime": {
     "end_time": "2019-10-22T00:05:40.173198Z",
     "start_time": "2019-10-22T00:05:40.141127Z"
    }
   },
   "outputs": [
    {
     "data": {
      "text/plain": [
       "[([0.0, 4.0, 6.0, 9.0, 12.0, 0.0, 27.0, 32.0, 5.0, 5.0], 147),\n",
       " ([0.0, 5.0, 6.0, 13.0, 14.0, 21.0, 1.0, 31.0, 6.0, 3.0], 146),\n",
       " ([1.0, 3.0, 14.0, 12.0, 12.0, 19.0, 1.0, 2.0, 32.0, 4.0], 145),\n",
       " ([3.0, 6.0, 8.0, 7.0, 21.0, 16.0, 2.0, 33.0, 4.0, 0.0], 141),\n",
       " ([7.0, 3.0, 3.0, 4.0, 6.0, 11.0, 26.0, 26.0, 12.0, 2.0], 141),\n",
       " ([0.0, 4.0, 6.0, 14.0, 12.0, 0.0, 27.0, 32.0, 5.0, 0.0], 137),\n",
       " ([2.0, 5.0, 7.0, 11.0, 11.0, 21.0, 2.0, 31.0, 5.0, 5.0], 135),\n",
       " ([4.0, 5.0, 5.0, 1.0, 10.0, 20.0, 20.0, 25.0, 2.0, 8.0], 134),\n",
       " ([5.0, 6.0, 2.0, 12.0, 12.0, 21.0, 3.0, 31.0, 3.0, 5.0], 131),\n",
       " ([0.0, 0.0, 5.0, 5.0, 5.0, 5.0, 35.0, 40.0, 0.0, 5.0], 130),\n",
       " ([0.0, 5.0, 7.0, 9.0, 12.0, 1.0, 26.0, 31.0, 4.0, 5.0], 129),\n",
       " ([5.0, 5.0, 7.0, 9.0, 18.0, 16.0, 3.0, 31.0, 1.0, 5.0], 129),\n",
       " ([3.0, 3.0, 3.0, 8.0, 20.0, 20.0, 31.0, 2.0, 5.0, 5.0], 126),\n",
       " ([0.0, 5.0, 6.0, 9.0, 12.0, 1.0, 26.0, 31.0, 5.0, 5.0], 125),\n",
       " ([1.0, 6.0, 8.0, 11.0, 5.0, 5.0, 27.0, 27.0, 5.0, 5.0], 124),\n",
       " ([3.0, 3.0, 3.0, 3.0, 3.0, 10.0, 30.0, 38.0, 6.0, 1.0], 119),\n",
       " ([5.0, 3.0, 3.0, 3.0, 16.0, 16.0, 21.0, 26.0, 6.0, 1.0], 108),\n",
       " ([7.0, 5.0, 7.0, 11.0, 11.0, 21.0, 2.0, 26.0, 5.0, 5.0], 100),\n",
       " ([4.0, 9.0, 5.0, 5.0, 5.0, 31.0, 31.0, 0.0, 5.0, 5.0], 99),\n",
       " ([1.0, 6.0, 8.0, 11.0, 5.0, 10.0, 27.0, 27.0, 0.0, 5.0], 99)]"
      ]
     },
     "execution_count": 38,
     "metadata": {},
     "output_type": "execute_result"
    }
   ],
   "source": [
    "sorted(new_results, key=(lambda x: x[1]), reverse=True)[-20:]"
   ]
  },
  {
   "cell_type": "code",
   "execution_count": null,
   "metadata": {
    "ExecuteTime": {
     "end_time": "2019-10-21T01:44:24.349526Z",
     "start_time": "2019-10-21T01:44:24.310532Z"
    }
   },
   "outputs": [],
   "source": [
    "sorted(results, key=(lambda x: x[1]), reverse=True)[:30]"
   ]
  },
  {
   "cell_type": "markdown",
   "metadata": {},
   "source": [
    "### fitness\n",
    "Only can compute relative to current population of strategies.\n",
    "* by running all the strategies against all other strategies\n",
    "* keep a percentage -> mutation then run again"
   ]
  },
  {
   "cell_type": "markdown",
   "metadata": {},
   "source": [
    "### crossover"
   ]
  },
  {
   "cell_type": "markdown",
   "metadata": {},
   "source": [
    "i guess it's generating a new strategy from previous strategy(s). One way we can do this - for 2 strategies $a$ and $b$. see who wins and by how much then do a weighted average of each ocmponent to form the new strategy\n",
    "$$c = cross(a, b)$$\n"
   ]
  },
  {
   "cell_type": "markdown",
   "metadata": {},
   "source": [
    "### mutation\n",
    "how do i mutate a strategy?\n",
    "* generate noise arrays and add them to strategies\n",
    "* use the noisiness as the degree of mutation/variation\n",
    "\n",
    "not really a mutation, but we could take the average of all 'better' strategies and see how that performs\n",
    "* hypothesize that it won't do as well since strategies are good when they don't waste resources and by smoothing out edge in battlefields we lose that literal edge\n",
    "* move all of one troop to another battle field -> extreme mutation"
   ]
  },
  {
   "cell_type": "code",
   "execution_count": 50,
   "metadata": {
    "ExecuteTime": {
     "end_time": "2019-10-19T19:30:41.029846Z",
     "start_time": "2019-10-19T19:30:41.009228Z"
    }
   },
   "outputs": [],
   "source": [
    "temp_noise = generate_noise_arrays(5)"
   ]
  },
  {
   "cell_type": "code",
   "execution_count": 51,
   "metadata": {
    "ExecuteTime": {
     "end_time": "2019-10-19T19:30:44.122344Z",
     "start_time": "2019-10-19T19:30:44.070312Z"
    }
   },
   "outputs": [
    {
     "data": {
      "text/plain": [
       "90"
      ]
     },
     "execution_count": 51,
     "metadata": {},
     "output_type": "execute_result"
    }
   ],
   "source": [
    "len(temp_noise)"
   ]
  },
  {
   "cell_type": "code",
   "execution_count": 52,
   "metadata": {
    "ExecuteTime": {
     "end_time": "2019-10-19T19:30:48.506966Z",
     "start_time": "2019-10-19T19:30:48.482953Z"
    }
   },
   "outputs": [
    {
     "data": {
      "text/plain": [
       "[[5, -5, 0, 0, 0, 0, 0, 0, 0, 0],\n",
       " [-5, 5, 0, 0, 0, 0, 0, 0, 0, 0],\n",
       " [5, 0, -5, 0, 0, 0, 0, 0, 0, 0],\n",
       " [-5, 0, 5, 0, 0, 0, 0, 0, 0, 0],\n",
       " [5, 0, 0, -5, 0, 0, 0, 0, 0, 0]]"
      ]
     },
     "execution_count": 52,
     "metadata": {},
     "output_type": "execute_result"
    }
   ],
   "source": [
    "temp_noise[:5]"
   ]
  },
  {
   "cell_type": "code",
   "execution_count": 53,
   "metadata": {
    "ExecuteTime": {
     "end_time": "2019-10-19T19:31:24.029376Z",
     "start_time": "2019-10-19T19:31:24.006614Z"
    }
   },
   "outputs": [],
   "source": [
    "temp_strat = [0.0, 1.0, 2.0, 16.0, 21.0, 3.0, 2.0, 1.0, 32.0, 22.0]"
   ]
  },
  {
   "cell_type": "code",
   "execution_count": 63,
   "metadata": {
    "ExecuteTime": {
     "end_time": "2019-10-19T19:38:07.025087Z",
     "start_time": "2019-10-19T19:38:06.987790Z"
    },
    "collapsed": true
   },
   "outputs": [
    {
     "name": "stdout",
     "output_type": "stream",
     "text": [
      "[5.0, -4.0, 2.0, 16.0, 21.0, 3.0, 2.0, 1.0, 32.0, 22.0]\n",
      "[-5.0, 6.0, 2.0, 16.0, 21.0, 3.0, 2.0, 1.0, 32.0, 22.0]\n",
      "[5.0, 1.0, -3.0, 16.0, 21.0, 3.0, 2.0, 1.0, 32.0, 22.0]\n",
      "[-5.0, 1.0, 7.0, 16.0, 21.0, 3.0, 2.0, 1.0, 32.0, 22.0]\n",
      "[-5.0, 1.0, 2.0, 21.0, 21.0, 3.0, 2.0, 1.0, 32.0, 22.0]\n",
      "[-5.0, 1.0, 2.0, 16.0, 26.0, 3.0, 2.0, 1.0, 32.0, 22.0]\n",
      "[5.0, 1.0, 2.0, 16.0, 21.0, -2.0, 2.0, 1.0, 32.0, 22.0]\n",
      "[-5.0, 1.0, 2.0, 16.0, 21.0, 8.0, 2.0, 1.0, 32.0, 22.0]\n",
      "[5.0, 1.0, 2.0, 16.0, 21.0, 3.0, -3.0, 1.0, 32.0, 22.0]\n",
      "[-5.0, 1.0, 2.0, 16.0, 21.0, 3.0, 7.0, 1.0, 32.0, 22.0]\n",
      "[5.0, 1.0, 2.0, 16.0, 21.0, 3.0, 2.0, -4.0, 32.0, 22.0]\n",
      "[-5.0, 1.0, 2.0, 16.0, 21.0, 3.0, 2.0, 6.0, 32.0, 22.0]\n",
      "[-5.0, 1.0, 2.0, 16.0, 21.0, 3.0, 2.0, 1.0, 37.0, 22.0]\n",
      "[-5.0, 1.0, 2.0, 16.0, 21.0, 3.0, 2.0, 1.0, 32.0, 27.0]\n",
      "[0.0, 6.0, -3.0, 16.0, 21.0, 3.0, 2.0, 1.0, 32.0, 22.0]\n",
      "[0.0, -4.0, 7.0, 16.0, 21.0, 3.0, 2.0, 1.0, 32.0, 22.0]\n",
      "[0.0, -4.0, 2.0, 21.0, 21.0, 3.0, 2.0, 1.0, 32.0, 22.0]\n",
      "[0.0, -4.0, 2.0, 16.0, 26.0, 3.0, 2.0, 1.0, 32.0, 22.0]\n",
      "[0.0, 6.0, 2.0, 16.0, 21.0, -2.0, 2.0, 1.0, 32.0, 22.0]\n",
      "[0.0, -4.0, 2.0, 16.0, 21.0, 8.0, 2.0, 1.0, 32.0, 22.0]\n",
      "[0.0, 6.0, 2.0, 16.0, 21.0, 3.0, -3.0, 1.0, 32.0, 22.0]\n",
      "[0.0, -4.0, 2.0, 16.0, 21.0, 3.0, 7.0, 1.0, 32.0, 22.0]\n",
      "[0.0, 6.0, 2.0, 16.0, 21.0, 3.0, 2.0, -4.0, 32.0, 22.0]\n",
      "[0.0, -4.0, 2.0, 16.0, 21.0, 3.0, 2.0, 6.0, 32.0, 22.0]\n",
      "[0.0, -4.0, 2.0, 16.0, 21.0, 3.0, 2.0, 1.0, 37.0, 22.0]\n",
      "[0.0, -4.0, 2.0, 16.0, 21.0, 3.0, 2.0, 1.0, 32.0, 27.0]\n",
      "[0.0, 1.0, -3.0, 21.0, 21.0, 3.0, 2.0, 1.0, 32.0, 22.0]\n",
      "[0.0, 1.0, -3.0, 16.0, 26.0, 3.0, 2.0, 1.0, 32.0, 22.0]\n",
      "[0.0, 1.0, 7.0, 16.0, 21.0, -2.0, 2.0, 1.0, 32.0, 22.0]\n",
      "[0.0, 1.0, -3.0, 16.0, 21.0, 8.0, 2.0, 1.0, 32.0, 22.0]\n",
      "[0.0, 1.0, 7.0, 16.0, 21.0, 3.0, -3.0, 1.0, 32.0, 22.0]\n",
      "[0.0, 1.0, -3.0, 16.0, 21.0, 3.0, 7.0, 1.0, 32.0, 22.0]\n",
      "[0.0, 1.0, 7.0, 16.0, 21.0, 3.0, 2.0, -4.0, 32.0, 22.0]\n",
      "[0.0, 1.0, -3.0, 16.0, 21.0, 3.0, 2.0, 6.0, 32.0, 22.0]\n",
      "[0.0, 1.0, -3.0, 16.0, 21.0, 3.0, 2.0, 1.0, 37.0, 22.0]\n",
      "[0.0, 1.0, -3.0, 16.0, 21.0, 3.0, 2.0, 1.0, 32.0, 27.0]\n",
      "[0.0, 1.0, 2.0, 21.0, 21.0, -2.0, 2.0, 1.0, 32.0, 22.0]\n",
      "[0.0, 1.0, 2.0, 21.0, 21.0, 3.0, -3.0, 1.0, 32.0, 22.0]\n",
      "[0.0, 1.0, 2.0, 21.0, 21.0, 3.0, 2.0, -4.0, 32.0, 22.0]\n",
      "[0.0, 1.0, 2.0, 16.0, 26.0, -2.0, 2.0, 1.0, 32.0, 22.0]\n",
      "[0.0, 1.0, 2.0, 16.0, 26.0, 3.0, -3.0, 1.0, 32.0, 22.0]\n",
      "[0.0, 1.0, 2.0, 16.0, 26.0, 3.0, 2.0, -4.0, 32.0, 22.0]\n",
      "[0.0, 1.0, 2.0, 16.0, 21.0, 8.0, -3.0, 1.0, 32.0, 22.0]\n",
      "[0.0, 1.0, 2.0, 16.0, 21.0, -2.0, 7.0, 1.0, 32.0, 22.0]\n",
      "[0.0, 1.0, 2.0, 16.0, 21.0, 8.0, 2.0, -4.0, 32.0, 22.0]\n",
      "[0.0, 1.0, 2.0, 16.0, 21.0, -2.0, 2.0, 6.0, 32.0, 22.0]\n",
      "[0.0, 1.0, 2.0, 16.0, 21.0, -2.0, 2.0, 1.0, 37.0, 22.0]\n",
      "[0.0, 1.0, 2.0, 16.0, 21.0, -2.0, 2.0, 1.0, 32.0, 27.0]\n",
      "[0.0, 1.0, 2.0, 16.0, 21.0, 3.0, 7.0, -4.0, 32.0, 22.0]\n",
      "[0.0, 1.0, 2.0, 16.0, 21.0, 3.0, -3.0, 6.0, 32.0, 22.0]\n",
      "[0.0, 1.0, 2.0, 16.0, 21.0, 3.0, -3.0, 1.0, 37.0, 22.0]\n",
      "[0.0, 1.0, 2.0, 16.0, 21.0, 3.0, -3.0, 1.0, 32.0, 27.0]\n",
      "[0.0, 1.0, 2.0, 16.0, 21.0, 3.0, 2.0, -4.0, 37.0, 22.0]\n",
      "[0.0, 1.0, 2.0, 16.0, 21.0, 3.0, 2.0, -4.0, 32.0, 27.0]\n"
     ]
    }
   ],
   "source": [
    "mutated_strats = []\n",
    "for noise in temp_noise:\n",
    "    new_strat = [x+y for x, y in zip(temp_strat, noise)]\n",
    "    if all(map((lambda x : x >= 0), new_strat)):\n",
    "        mutated_strats.append(new_strat)\n",
    "    else:\n",
    "#         print(new_strat)\n",
    "        pass"
   ]
  },
  {
   "cell_type": "code",
   "execution_count": 64,
   "metadata": {
    "ExecuteTime": {
     "end_time": "2019-10-19T19:38:19.980664Z",
     "start_time": "2019-10-19T19:38:19.957839Z"
    }
   },
   "outputs": [
    {
     "data": {
      "text/plain": [
       "36"
      ]
     },
     "execution_count": 64,
     "metadata": {},
     "output_type": "execute_result"
    }
   ],
   "source": [
    "len(mutated_strats)"
   ]
  },
  {
   "cell_type": "code",
   "execution_count": 65,
   "metadata": {
    "ExecuteTime": {
     "end_time": "2019-10-21T01:34:01.527540Z",
     "start_time": "2019-10-21T01:34:01.493459Z"
    }
   },
   "outputs": [
    {
     "data": {
      "text/plain": [
       "[[5.0, 1.0, 2.0, 11.0, 21.0, 3.0, 2.0, 1.0, 32.0, 22.0],\n",
       " [5.0, 1.0, 2.0, 16.0, 16.0, 3.0, 2.0, 1.0, 32.0, 22.0],\n",
       " [5.0, 1.0, 2.0, 16.0, 21.0, 3.0, 2.0, 1.0, 27.0, 22.0],\n",
       " [5.0, 1.0, 2.0, 16.0, 21.0, 3.0, 2.0, 1.0, 32.0, 17.0]]"
      ]
     },
     "execution_count": 65,
     "metadata": {},
     "output_type": "execute_result"
    }
   ],
   "source": [
    "mutated_strats[:4]"
   ]
  },
  {
   "cell_type": "markdown",
   "metadata": {},
   "source": [
    "what about mixed strategies - also mutation mixed strategies"
   ]
  },
  {
   "cell_type": "code",
   "execution_count": 106,
   "metadata": {},
   "outputs": [
    {
     "data": {
      "text/plain": [
       "array(['I spent way too much time running genetic algorithms to do well against the strategies that did well last time, and then eventually randomly settled on this.'],\n",
       "      dtype=object)"
      ]
     },
     "execution_count": 106,
     "metadata": {},
     "output_type": "execute_result"
    }
   ],
   "source": [
    "temp_df[temp_df.total_troops != 100].loc[:, ['reason']].values[0]"
   ]
  },
  {
   "cell_type": "code",
   "execution_count": null,
   "metadata": {},
   "outputs": [],
   "source": []
  },
  {
   "cell_type": "markdown",
   "metadata": {},
   "source": [
    "## Mixed Strategies"
   ]
  },
  {
   "cell_type": "code",
   "execution_count": null,
   "metadata": {},
   "outputs": [],
   "source": []
  }
 ],
 "metadata": {
  "kernelspec": {
   "display_name": "Python 3",
   "language": "python",
   "name": "python3"
  },
  "language_info": {
   "codemirror_mode": {
    "name": "ipython",
    "version": 3
   },
   "file_extension": ".py",
   "mimetype": "text/x-python",
   "name": "python",
   "nbconvert_exporter": "python",
   "pygments_lexer": "ipython3",
   "version": "3.6.8"
  },
  "varInspector": {
   "cols": {
    "lenName": 16,
    "lenType": 16,
    "lenVar": 40
   },
   "kernels_config": {
    "python": {
     "delete_cmd_postfix": "",
     "delete_cmd_prefix": "del ",
     "library": "var_list.py",
     "varRefreshCmd": "print(var_dic_list())"
    },
    "r": {
     "delete_cmd_postfix": ") ",
     "delete_cmd_prefix": "rm(",
     "library": "var_list.r",
     "varRefreshCmd": "cat(var_dic_list()) "
    }
   },
   "types_to_exclude": [
    "module",
    "function",
    "builtin_function_or_method",
    "instance",
    "_Feature"
   ],
   "window_display": false
  }
 },
 "nbformat": 4,
 "nbformat_minor": 2
}
