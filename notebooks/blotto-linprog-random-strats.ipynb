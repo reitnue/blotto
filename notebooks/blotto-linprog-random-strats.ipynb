{
 "cells": [
  {
   "cell_type": "code",
   "execution_count": 3,
   "metadata": {
    "ExecuteTime": {
     "end_time": "2019-12-11T02:56:42.861320Z",
     "start_time": "2019-12-11T02:56:42.172029Z"
    }
   },
   "outputs": [],
   "source": [
    "import sys\n",
    "sys.path.append(\"../code\")\n",
    "import pandas as pd\n",
    "import random\n",
    "from glob import glob\n",
    "import matplotlib.pyplot as plt\n",
    "%matplotlib inline"
   ]
  },
  {
   "cell_type": "code",
   "execution_count": 4,
   "metadata": {
    "ExecuteTime": {
     "end_time": "2019-12-11T02:56:43.231530Z",
     "start_time": "2019-12-11T02:56:42.884911Z"
    }
   },
   "outputs": [],
   "source": [
    "import blotto_utils as bu\n",
    "from agent import Agent\n",
    "import agent_utils as au"
   ]
  },
  {
   "cell_type": "code",
   "execution_count": 5,
   "metadata": {
    "ExecuteTime": {
     "end_time": "2019-12-11T02:56:43.268544Z",
     "start_time": "2019-12-11T02:56:43.264444Z"
    }
   },
   "outputs": [],
   "source": [
    "import scipy.optimize"
   ]
  },
  {
   "cell_type": "code",
   "execution_count": 6,
   "metadata": {
    "ExecuteTime": {
     "end_time": "2019-12-11T02:56:43.388986Z",
     "start_time": "2019-12-11T02:56:43.332144Z"
    }
   },
   "outputs": [],
   "source": [
    "%load_ext autoreload\n",
    "%autoreload 2"
   ]
  },
  {
   "cell_type": "code",
   "execution_count": 7,
   "metadata": {
    "ExecuteTime": {
     "end_time": "2019-12-11T02:56:43.501371Z",
     "start_time": "2019-12-11T02:56:43.459078Z"
    }
   },
   "outputs": [
    {
     "data": {
      "text/html": [
       "<style>.container { width:95% !important; }</style>"
      ],
      "text/plain": [
       "<IPython.core.display.HTML object>"
      ]
     },
     "metadata": {},
     "output_type": "display_data"
    }
   ],
   "source": [
    "from IPython.core.display import display, HTML\n",
    "display(HTML(\"<style>.container { width:95% !important; }</style>\"))"
   ]
  },
  {
   "cell_type": "markdown",
   "metadata": {},
   "source": [
    "# 538 Data"
   ]
  },
  {
   "cell_type": "code",
   "execution_count": 8,
   "metadata": {
    "ExecuteTime": {
     "end_time": "2019-12-11T02:56:44.321354Z",
     "start_time": "2019-12-11T02:56:44.230853Z"
    }
   },
   "outputs": [],
   "source": [
    "weights = [1, 2, 3, 4, 5, 6, 7, 8, 9, 10]\n",
    "\n",
    "data_dir = '/Users/Alex/Documents/Alex/Yale/Fall 2019/CPSC_490/blotto/data/'\n",
    "\n",
    "fivethirtyeight_data_dir = data_dir + 'fivethirtyeight/'\n",
    "\n",
    "sorted(glob(fivethirtyeight_data_dir + '*'))\n",
    "\n",
    "temp_df = pd.read_csv(glob(fivethirtyeight_data_dir + '*')[0])\n",
    "\n",
    "new_column_names = list(map((lambda x : '_'.join(x.split(' ')).lower()), list(temp_df.columns)))\n",
    "new_column_names[-1] = 'reason'\n",
    "\n",
    "temp_df.rename(dict(zip(list(temp_df.columns), new_column_names)), axis=1, inplace=True)\n",
    "\n",
    "temp_df['total_troops'] = temp_df['castle_1'] + \\\n",
    "                          temp_df['castle_2'] + \\\n",
    "                          temp_df['castle_3'] + \\\n",
    "                          temp_df['castle_4'] + \\\n",
    "                          temp_df['castle_5'] + \\\n",
    "                          temp_df['castle_6'] + \\\n",
    "                          temp_df['castle_7'] + \\\n",
    "                          temp_df['castle_8'] + \\\n",
    "                          temp_df['castle_9'] + \\\n",
    "                          temp_df['castle_10']\n",
    "\n",
    "full_strats_df = temp_df[temp_df.total_troops == 100].copy()\n",
    "\n",
    "full_strats_list = full_strats_df.to_dict('records')\n",
    "\n",
    "simp_strats_list = [[int(x[1]) for x in list(y.items())[:10]] for y in full_strats_list]"
   ]
  },
  {
   "cell_type": "code",
   "execution_count": 98,
   "metadata": {
    "ExecuteTime": {
     "end_time": "2019-12-11T05:11:33.583932Z",
     "start_time": "2019-12-11T05:11:33.558485Z"
    }
   },
   "outputs": [
    {
     "data": {
      "text/plain": [
       "903"
      ]
     },
     "execution_count": 98,
     "metadata": {},
     "output_type": "execute_result"
    }
   ],
   "source": [
    "len(simp_strats_list)"
   ]
  },
  {
   "cell_type": "code",
   "execution_count": 10,
   "metadata": {
    "ExecuteTime": {
     "end_time": "2019-12-11T02:57:28.122461Z",
     "start_time": "2019-12-11T02:57:20.999774Z"
    }
   },
   "outputs": [],
   "source": [
    "temp = bu.load_pickle('../data/temp2.pkl.gz')"
   ]
  },
  {
   "cell_type": "code",
   "execution_count": 50,
   "metadata": {
    "ExecuteTime": {
     "end_time": "2019-12-11T03:20:29.420433Z",
     "start_time": "2019-12-11T03:20:29.391753Z"
    }
   },
   "outputs": [],
   "source": [
    "np.random.seed(0)"
   ]
  },
  {
   "cell_type": "code",
   "execution_count": 51,
   "metadata": {
    "ExecuteTime": {
     "end_time": "2019-12-11T03:20:32.306796Z",
     "start_time": "2019-12-11T03:20:29.423371Z"
    }
   },
   "outputs": [],
   "source": [
    "temp_arr = np.array(temp)"
   ]
  },
  {
   "cell_type": "code",
   "execution_count": 52,
   "metadata": {
    "ExecuteTime": {
     "end_time": "2019-12-11T03:20:32.367295Z",
     "start_time": "2019-12-11T03:20:32.309157Z"
    }
   },
   "outputs": [],
   "source": [
    "random_strats_a = [np.random.permutation(x) for x in temp_arr[np.random.choice(np.arange(len(temp)), size=100)]]\n",
    "random_strats_b = [np.random.permutation(x) for x in temp_arr[np.random.choice(np.arange(len(temp)), size=100)]]"
   ]
  },
  {
   "cell_type": "code",
   "execution_count": 49,
   "metadata": {
    "ExecuteTime": {
     "end_time": "2019-12-11T03:19:32.327475Z",
     "start_time": "2019-12-11T03:19:32.267803Z"
    }
   },
   "outputs": [
    {
     "data": {
      "text/plain": [
       "[array([ 5, 18, 16, 23, 17,  1,  6,  7,  5,  2]),\n",
       " array([ 9, 45,  5, 10,  1,  4, 11,  4,  5,  6]),\n",
       " array([17,  2, 32,  3,  8, 19,  4,  4,  3,  8]),\n",
       " array([ 7,  7,  5, 10,  9, 18, 19, 22,  1,  2]),\n",
       " array([14,  7, 29,  3, 11,  4,  2,  4,  4, 22])]"
      ]
     },
     "execution_count": 49,
     "metadata": {},
     "output_type": "execute_result"
    }
   ],
   "source": [
    "random_strats_a[:5]\n",
    "random_strats_b[:5]"
   ]
  },
  {
   "cell_type": "markdown",
   "metadata": {},
   "source": [
    "# GA"
   ]
  },
  {
   "cell_type": "code",
   "execution_count": 55,
   "metadata": {
    "ExecuteTime": {
     "end_time": "2019-12-11T03:21:33.574488Z",
     "start_time": "2019-12-11T03:21:33.552130Z"
    }
   },
   "outputs": [],
   "source": [
    "random.seed(0)"
   ]
  },
  {
   "cell_type": "code",
   "execution_count": 56,
   "metadata": {
    "ExecuteTime": {
     "end_time": "2019-12-11T03:21:33.612454Z",
     "start_time": "2019-12-11T03:21:33.576698Z"
    }
   },
   "outputs": [],
   "source": [
    "temp_noise = bu.generate_noise_arrays(1)"
   ]
  },
  {
   "cell_type": "code",
   "execution_count": 57,
   "metadata": {
    "ExecuteTime": {
     "end_time": "2019-12-11T03:21:33.653949Z",
     "start_time": "2019-12-11T03:21:33.618551Z"
    }
   },
   "outputs": [
    {
     "data": {
      "text/plain": [
       "array([ 1,  1,  1,  1,  1,  1,  1,  3,  1, 89])"
      ]
     },
     "execution_count": 57,
     "metadata": {},
     "output_type": "execute_result"
    }
   ],
   "source": [
    "np.random.permutation(temp[2])"
   ]
  },
  {
   "cell_type": "code",
   "execution_count": 58,
   "metadata": {
    "ExecuteTime": {
     "end_time": "2019-12-11T03:21:33.749996Z",
     "start_time": "2019-12-11T03:21:33.669741Z"
    }
   },
   "outputs": [],
   "source": [
    "def evolve(a_strats, b_strats, generations, noise):\n",
    "    for _ in range(generations):\n",
    "        a_results, b_results = bu.eval_strats(a_strats, b_strats, weights)\n",
    "\n",
    "        a_fittest = sorted(a_results, key=(lambda x: (x[1], -(x[0][-1]))), reverse=True)\n",
    "        b_fittest = sorted(b_results, key=(lambda x: (x[1], -(x[0][-1]))), reverse=True)\n",
    "\n",
    "        a_next_gen = []\n",
    "        b_next_gen = []\n",
    "        for i in range(14):\n",
    "            for j in range(i+1, 15):\n",
    "                a_next_gen.append(bu.mutate_noise(bu.make_integer(bu.cross([a_fittest[i][0], a_fittest[j][0]]), seed=(i+j+i*j)), temp_noise, seed=(i+j)))\n",
    "                b_next_gen.append(bu.mutate_noise(bu.make_integer(bu.cross([b_fittest[i][0], b_fittest[j][0]]), seed=(i+j+i*j)), temp_noise, seed=(i+j)))\n",
    "\n",
    "        a_strats = a_next_gen\n",
    "        b_strats = b_next_gen\n",
    "        \n",
    "    return a_fittest, b_fittest, a_strats, b_strats"
   ]
  },
  {
   "cell_type": "code",
   "execution_count": 59,
   "metadata": {
    "ExecuteTime": {
     "end_time": "2019-12-11T03:22:24.533277Z",
     "start_time": "2019-12-11T03:22:24.512632Z"
    }
   },
   "outputs": [],
   "source": [
    "a_strat_init = random_strats_a\n",
    "b_strat_init = random_strats_b\n",
    "\n",
    "a_strats = a_strat_init\n",
    "b_strats = b_strat_init"
   ]
  },
  {
   "cell_type": "code",
   "execution_count": 60,
   "metadata": {
    "ExecuteTime": {
     "end_time": "2019-12-11T03:22:36.660981Z",
     "start_time": "2019-12-11T03:22:36.609553Z"
    }
   },
   "outputs": [],
   "source": [
    "temp_a_strats, temp_b_strats = a_strats, b_strats"
   ]
  },
  {
   "cell_type": "code",
   "execution_count": 61,
   "metadata": {
    "ExecuteTime": {
     "end_time": "2019-12-11T03:22:47.980049Z",
     "start_time": "2019-12-11T03:22:47.946817Z"
    }
   },
   "outputs": [],
   "source": [
    "best_a, best_b = [], []"
   ]
  },
  {
   "cell_type": "code",
   "execution_count": 62,
   "metadata": {
    "ExecuteTime": {
     "end_time": "2019-12-11T03:23:30.489406Z",
     "start_time": "2019-12-11T03:22:59.971608Z"
    },
    "scrolled": true
   },
   "outputs": [],
   "source": [
    "for i in range(200):\n",
    "#     print(i)\n",
    "    temp_a_fittest, temp_b_fittest, temp_a_strats, temp_b_strats = evolve(temp_a_strats, temp_b_strats, 1, temp_noise)\n",
    "    best_a.append(temp_a_fittest[0][0])\n",
    "    best_b.append(temp_b_fittest[0][0])\n",
    "#     print('\\n'.join(map(str,temp_a_fittest[:5])))"
   ]
  },
  {
   "cell_type": "code",
   "execution_count": 63,
   "metadata": {
    "ExecuteTime": {
     "end_time": "2019-12-11T03:23:40.678245Z",
     "start_time": "2019-12-11T03:23:40.650490Z"
    }
   },
   "outputs": [
    {
     "data": {
      "text/plain": [
       "(200, 200)"
      ]
     },
     "execution_count": 63,
     "metadata": {},
     "output_type": "execute_result"
    }
   ],
   "source": [
    "len(best_a), len(best_b)"
   ]
  },
  {
   "cell_type": "markdown",
   "metadata": {},
   "source": [
    "## Agent"
   ]
  },
  {
   "cell_type": "code",
   "execution_count": 64,
   "metadata": {
    "ExecuteTime": {
     "end_time": "2019-12-11T03:23:50.408272Z",
     "start_time": "2019-12-11T03:23:50.375073Z"
    }
   },
   "outputs": [],
   "source": [
    "agent_evol_a = Agent(best_a)\n",
    "agent_evol_b = Agent(best_b)"
   ]
  },
  {
   "cell_type": "code",
   "execution_count": 80,
   "metadata": {
    "ExecuteTime": {
     "end_time": "2019-12-11T03:26:57.609997Z",
     "start_time": "2019-12-11T03:26:57.481422Z"
    }
   },
   "outputs": [
    {
     "name": "stdout",
     "output_type": "stream",
     "text": [
      "0.3599114064230343\n",
      "0.3732004429678848\n"
     ]
    }
   ],
   "source": [
    "print(0.5 + au.play_game(agent_evol_a, simp_strats_list, weights, weights, trials=len(simp_strats_list)) / (2*len(simp_strats_list)))\n",
    "print(0.5 + au.play_game(agent_evol_b, simp_strats_list, weights, weights, trials=len(simp_strats_list)) / (2*len(simp_strats_list)))"
   ]
  },
  {
   "cell_type": "markdown",
   "metadata": {},
   "source": [
    "# Linear Programming Testing (Nash)"
   ]
  },
  {
   "cell_type": "markdown",
   "metadata": {},
   "source": [
    "input are two sets of strategies -> probabilities associated with each for Nash"
   ]
  },
  {
   "cell_type": "code",
   "execution_count": 72,
   "metadata": {
    "ExecuteTime": {
     "end_time": "2019-12-11T03:25:32.142287Z",
     "start_time": "2019-12-11T03:25:31.702560Z"
    }
   },
   "outputs": [],
   "source": [
    "probs_a, probs_b = bu.blotto_nash(a_strat_init, b_strat_init)"
   ]
  },
  {
   "cell_type": "code",
   "execution_count": 73,
   "metadata": {
    "ExecuteTime": {
     "end_time": "2019-12-11T03:25:42.215207Z",
     "start_time": "2019-12-11T03:25:42.188436Z"
    }
   },
   "outputs": [
    {
     "data": {
      "text/plain": [
       "(0.9999990000000004, 1.036798)"
      ]
     },
     "execution_count": 73,
     "metadata": {},
     "output_type": "execute_result"
    }
   ],
   "source": [
    "sum(probs_a), sum(probs_b)"
   ]
  },
  {
   "cell_type": "code",
   "execution_count": 74,
   "metadata": {
    "ExecuteTime": {
     "end_time": "2019-12-11T03:25:54.644805Z",
     "start_time": "2019-12-11T03:25:54.623790Z"
    }
   },
   "outputs": [],
   "source": [
    "probs_a_norm = bu.normalize_probabilities(probs_a)\n",
    "probs_b_norm = bu.normalize_probabilities(probs_b)"
   ]
  },
  {
   "cell_type": "code",
   "execution_count": 75,
   "metadata": {
    "ExecuteTime": {
     "end_time": "2019-12-11T03:26:05.443399Z",
     "start_time": "2019-12-11T03:26:05.422096Z"
    }
   },
   "outputs": [
    {
     "name": "stdout",
     "output_type": "stream",
     "text": [
      "1.0000000000000002\n",
      "0.9999999999999998\n"
     ]
    }
   ],
   "source": [
    "print(sum(probs_a_norm))\n",
    "print(sum(probs_b_norm))"
   ]
  },
  {
   "cell_type": "code",
   "execution_count": 76,
   "metadata": {
    "ExecuteTime": {
     "end_time": "2019-12-11T03:26:16.475713Z",
     "start_time": "2019-12-11T03:26:16.453198Z"
    }
   },
   "outputs": [],
   "source": [
    "agent_a = Agent(a_strat_init, list(probs_a_norm))\n",
    "agent_b = Agent(b_strat_init, list(probs_b_norm))"
   ]
  },
  {
   "cell_type": "code",
   "execution_count": 77,
   "metadata": {
    "ExecuteTime": {
     "end_time": "2019-12-11T03:26:26.466952Z",
     "start_time": "2019-12-11T03:26:26.419744Z"
    }
   },
   "outputs": [
    {
     "data": {
      "text/plain": [
       "0.36"
      ]
     },
     "execution_count": 77,
     "metadata": {},
     "output_type": "execute_result"
    }
   ],
   "source": [
    "au.play_game(agent_a, agent_b, weights, weights, trials=1000) / 1000 # b is the better agent on average"
   ]
  },
  {
   "cell_type": "code",
   "execution_count": 81,
   "metadata": {
    "ExecuteTime": {
     "end_time": "2019-12-11T03:27:08.835912Z",
     "start_time": "2019-12-11T03:27:08.749835Z"
    }
   },
   "outputs": [
    {
     "name": "stdout",
     "output_type": "stream",
     "text": [
      "0.539313399778516\n",
      "0.44629014396456257\n"
     ]
    }
   ],
   "source": [
    "print(0.5 + au.play_game(agent_a, simp_strats_list, weights, weights, trials=len(simp_strats_list)) / (2*len(simp_strats_list)))\n",
    "print(0.5 + au.play_game(agent_b, simp_strats_list, weights, weights, trials=len(simp_strats_list)) / (2*len(simp_strats_list)))"
   ]
  },
  {
   "cell_type": "markdown",
   "metadata": {},
   "source": [
    "## linear programming evolutionary strategies"
   ]
  },
  {
   "cell_type": "code",
   "execution_count": 82,
   "metadata": {
    "ExecuteTime": {
     "end_time": "2019-12-11T03:27:37.164568Z",
     "start_time": "2019-12-11T03:27:35.970361Z"
    }
   },
   "outputs": [],
   "source": [
    "probs_evol_a, probs_evol_b = bu.blotto_nash(best_a, best_b)"
   ]
  },
  {
   "cell_type": "code",
   "execution_count": 83,
   "metadata": {
    "ExecuteTime": {
     "end_time": "2019-12-11T03:27:37.203250Z",
     "start_time": "2019-12-11T03:27:37.166845Z"
    }
   },
   "outputs": [
    {
     "data": {
      "text/plain": [
       "(0.9999939999999995, 10.162731000000003)"
      ]
     },
     "execution_count": 83,
     "metadata": {},
     "output_type": "execute_result"
    }
   ],
   "source": [
    "sum(probs_evol_a), sum(probs_evol_b)"
   ]
  },
  {
   "cell_type": "code",
   "execution_count": 84,
   "metadata": {
    "ExecuteTime": {
     "end_time": "2019-12-11T03:27:37.245965Z",
     "start_time": "2019-12-11T03:27:37.207045Z"
    }
   },
   "outputs": [],
   "source": [
    "probs_evol_a_norm = bu.normalize_probabilities(probs_evol_a)\n",
    "probs_evol_b_norm = bu.normalize_probabilities(probs_evol_b)"
   ]
  },
  {
   "cell_type": "code",
   "execution_count": 85,
   "metadata": {
    "ExecuteTime": {
     "end_time": "2019-12-11T03:27:37.290960Z",
     "start_time": "2019-12-11T03:27:37.253917Z"
    }
   },
   "outputs": [
    {
     "data": {
      "text/plain": [
       "(0.9999999999999998, 0.999999999999999)"
      ]
     },
     "execution_count": 85,
     "metadata": {},
     "output_type": "execute_result"
    }
   ],
   "source": [
    "sum(probs_evol_a_norm), sum(probs_evol_b_norm)"
   ]
  },
  {
   "cell_type": "code",
   "execution_count": 86,
   "metadata": {
    "ExecuteTime": {
     "end_time": "2019-12-11T03:27:37.354126Z",
     "start_time": "2019-12-11T03:27:37.294056Z"
    }
   },
   "outputs": [],
   "source": [
    "agent_evol_lin_a = Agent(best_a, list(probs_evol_a_norm))\n",
    "agent_evol_lin_b = Agent(best_b, list(probs_evol_b_norm))"
   ]
  },
  {
   "cell_type": "code",
   "execution_count": 96,
   "metadata": {
    "ExecuteTime": {
     "end_time": "2019-12-11T03:56:32.156597Z",
     "start_time": "2019-12-11T03:56:32.072650Z"
    }
   },
   "outputs": [
    {
     "name": "stdout",
     "output_type": "stream",
     "text": [
      "0.4174972314507198\n",
      "0.46068660022148394\n"
     ]
    }
   ],
   "source": [
    "# random sample of all strategies\n",
    "print(0.5 + au.play_game(agent_evol_lin_a, simp_strats_list, trials=len(simp_strats_list)) / (2*len(simp_strats_list)))\n",
    "print(0.5 + au.play_game(agent_evol_lin_b, simp_strats_list, trials=len(simp_strats_list)) / (2*len(simp_strats_list)))"
   ]
  },
  {
   "cell_type": "markdown",
   "metadata": {},
   "source": [
    "## Agents against each other"
   ]
  },
  {
   "cell_type": "code",
   "execution_count": 88,
   "metadata": {
    "ExecuteTime": {
     "end_time": "2019-12-11T03:29:24.664134Z",
     "start_time": "2019-12-11T03:29:24.638926Z"
    }
   },
   "outputs": [],
   "source": [
    "trials = 10000"
   ]
  },
  {
   "cell_type": "code",
   "execution_count": 92,
   "metadata": {
    "ExecuteTime": {
     "end_time": "2019-12-11T03:30:46.499890Z",
     "start_time": "2019-12-11T03:30:46.001491Z"
    }
   },
   "outputs": [
    {
     "name": "stdout",
     "output_type": "stream",
     "text": [
      "0.4754\n",
      "0.5202\n"
     ]
    }
   ],
   "source": [
    "print(0.5 + au.play_game(agent_evol_lin_a, agent_a, trials=trials)/(2*trials))\n",
    "print(0.5 + au.play_game(agent_evol_lin_b, agent_b, trials=trials)/(2*trials))"
   ]
  },
  {
   "cell_type": "code",
   "execution_count": 93,
   "metadata": {
    "ExecuteTime": {
     "end_time": "2019-12-11T03:31:11.694054Z",
     "start_time": "2019-12-11T03:31:11.189463Z"
    }
   },
   "outputs": [
    {
     "name": "stdout",
     "output_type": "stream",
     "text": [
      "0.6485\n",
      "0.5769\n"
     ]
    }
   ],
   "source": [
    "print(0.5 + au.play_game(agent_evol_lin_a, agent_evol_a, trials=trials)/(2*trials))\n",
    "print(0.5 + au.play_game(agent_evol_lin_b, agent_evol_b, trials=trials)/(2*trials))"
   ]
  },
  {
   "cell_type": "code",
   "execution_count": 94,
   "metadata": {
    "ExecuteTime": {
     "end_time": "2019-12-11T03:31:24.189699Z",
     "start_time": "2019-12-11T03:31:23.691350Z"
    }
   },
   "outputs": [
    {
     "name": "stdout",
     "output_type": "stream",
     "text": [
      "0.3963\n",
      "0.4793\n"
     ]
    }
   ],
   "source": [
    "print(0.5 + au.play_game(agent_evol_a, agent_a, trials=trials)/(2*trials))\n",
    "print(0.5 + au.play_game(agent_evol_b, agent_b, trials=trials)/(2*trials))"
   ]
  }
 ],
 "metadata": {
  "kernelspec": {
   "display_name": "Python 3",
   "language": "python",
   "name": "python3"
  },
  "language_info": {
   "codemirror_mode": {
    "name": "ipython",
    "version": 3
   },
   "file_extension": ".py",
   "mimetype": "text/x-python",
   "name": "python",
   "nbconvert_exporter": "python",
   "pygments_lexer": "ipython3",
   "version": "3.6.8"
  },
  "varInspector": {
   "cols": {
    "lenName": 16,
    "lenType": 16,
    "lenVar": 40
   },
   "kernels_config": {
    "python": {
     "delete_cmd_postfix": "",
     "delete_cmd_prefix": "del ",
     "library": "var_list.py",
     "varRefreshCmd": "print(var_dic_list())"
    },
    "r": {
     "delete_cmd_postfix": ") ",
     "delete_cmd_prefix": "rm(",
     "library": "var_list.r",
     "varRefreshCmd": "cat(var_dic_list()) "
    }
   },
   "types_to_exclude": [
    "module",
    "function",
    "builtin_function_or_method",
    "instance",
    "_Feature"
   ],
   "window_display": false
  }
 },
 "nbformat": 4,
 "nbformat_minor": 2
}
