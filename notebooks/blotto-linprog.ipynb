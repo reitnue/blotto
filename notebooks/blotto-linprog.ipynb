{
 "cells": [
  {
   "cell_type": "code",
   "execution_count": 1,
   "metadata": {
    "ExecuteTime": {
     "end_time": "2019-12-07T19:36:14.257713Z",
     "start_time": "2019-12-07T19:36:13.620799Z"
    }
   },
   "outputs": [],
   "source": [
    "import sys\n",
    "sys.path.append(\"../code\")\n",
    "import pandas as pd\n",
    "import random\n",
    "from glob import glob\n",
    "import matplotlib.pyplot as plt\n",
    "%matplotlib inline"
   ]
  },
  {
   "cell_type": "code",
   "execution_count": 2,
   "metadata": {
    "ExecuteTime": {
     "end_time": "2019-12-07T19:36:14.371716Z",
     "start_time": "2019-12-07T19:36:14.259905Z"
    }
   },
   "outputs": [],
   "source": [
    "import blotto_utils as bu\n",
    "from agent import Agent\n",
    "import agent_utils as au"
   ]
  },
  {
   "cell_type": "code",
   "execution_count": 3,
   "metadata": {
    "ExecuteTime": {
     "end_time": "2019-12-07T19:36:14.381435Z",
     "start_time": "2019-12-07T19:36:14.374894Z"
    }
   },
   "outputs": [],
   "source": [
    "import scipy.optimize"
   ]
  },
  {
   "cell_type": "code",
   "execution_count": 4,
   "metadata": {
    "ExecuteTime": {
     "end_time": "2019-12-07T19:36:14.415445Z",
     "start_time": "2019-12-07T19:36:14.384128Z"
    }
   },
   "outputs": [],
   "source": [
    "%load_ext autoreload\n",
    "%autoreload 2"
   ]
  },
  {
   "cell_type": "code",
   "execution_count": 5,
   "metadata": {
    "ExecuteTime": {
     "end_time": "2019-12-07T19:36:14.477256Z",
     "start_time": "2019-12-07T19:36:14.417329Z"
    }
   },
   "outputs": [
    {
     "data": {
      "text/html": [
       "<style>.container { width:95% !important; }</style>"
      ],
      "text/plain": [
       "<IPython.core.display.HTML object>"
      ]
     },
     "metadata": {},
     "output_type": "display_data"
    }
   ],
   "source": [
    "from IPython.core.display import display, HTML\n",
    "display(HTML(\"<style>.container { width:95% !important; }</style>\"))"
   ]
  },
  {
   "cell_type": "markdown",
   "metadata": {},
   "source": [
    "# 538 Data"
   ]
  },
  {
   "cell_type": "code",
   "execution_count": 6,
   "metadata": {
    "ExecuteTime": {
     "end_time": "2019-12-07T19:36:14.554246Z",
     "start_time": "2019-12-07T19:36:14.479726Z"
    }
   },
   "outputs": [],
   "source": [
    "weights = [1, 2, 3, 4, 5, 6, 7, 8, 9, 10]\n",
    "\n",
    "data_dir = '/Users/Alex/Documents/Alex/Yale/Fall 2019/CPSC_490/blotto/data/'\n",
    "\n",
    "fivethirtyeight_data_dir = data_dir + 'fivethirtyeight/'\n",
    "\n",
    "sorted(glob(fivethirtyeight_data_dir + '*'))\n",
    "\n",
    "temp_df = pd.read_csv(glob(fivethirtyeight_data_dir + '*')[0])\n",
    "\n",
    "new_column_names = list(map((lambda x : '_'.join(x.split(' ')).lower()), list(temp_df.columns)))\n",
    "new_column_names[-1] = 'reason'\n",
    "\n",
    "temp_df.rename(dict(zip(list(temp_df.columns), new_column_names)), axis=1, inplace=True)\n",
    "\n",
    "temp_df['total_troops'] = temp_df['castle_1'] + \\\n",
    "                          temp_df['castle_2'] + \\\n",
    "                          temp_df['castle_3'] + \\\n",
    "                          temp_df['castle_4'] + \\\n",
    "                          temp_df['castle_5'] + \\\n",
    "                          temp_df['castle_6'] + \\\n",
    "                          temp_df['castle_7'] + \\\n",
    "                          temp_df['castle_8'] + \\\n",
    "                          temp_df['castle_9'] + \\\n",
    "                          temp_df['castle_10']\n",
    "\n",
    "full_strats_df = temp_df[temp_df.total_troops == 100].copy()\n",
    "\n",
    "full_strats_list = full_strats_df.to_dict('records')\n",
    "\n",
    "simp_strats_list = [[int(x[1]) for x in list(y.items())[:10]] for y in full_strats_list]"
   ]
  },
  {
   "cell_type": "markdown",
   "metadata": {},
   "source": [
    "## Divide into two players"
   ]
  },
  {
   "cell_type": "code",
   "execution_count": 7,
   "metadata": {
    "ExecuteTime": {
     "end_time": "2019-12-07T19:36:14.609610Z",
     "start_time": "2019-12-07T19:36:14.557616Z"
    }
   },
   "outputs": [],
   "source": [
    "random.seed(0)"
   ]
  },
  {
   "cell_type": "code",
   "execution_count": 8,
   "metadata": {
    "ExecuteTime": {
     "end_time": "2019-12-07T19:36:14.641716Z",
     "start_time": "2019-12-07T19:36:14.614446Z"
    }
   },
   "outputs": [],
   "source": [
    "a_strat_init = random.sample(simp_strats_list, 100)\n",
    "b_strat_init = random.sample(simp_strats_list, 100)"
   ]
  },
  {
   "cell_type": "code",
   "execution_count": 9,
   "metadata": {
    "ExecuteTime": {
     "end_time": "2019-12-07T19:36:14.675266Z",
     "start_time": "2019-12-07T19:36:14.644973Z"
    }
   },
   "outputs": [
    {
     "data": {
      "text/plain": [
       "(100, 100)"
      ]
     },
     "execution_count": 9,
     "metadata": {},
     "output_type": "execute_result"
    }
   ],
   "source": [
    "len(a_strat_init), len(b_strat_init)"
   ]
  },
  {
   "cell_type": "markdown",
   "metadata": {},
   "source": [
    "# Agent"
   ]
  },
  {
   "cell_type": "code",
   "execution_count": 101,
   "metadata": {
    "ExecuteTime": {
     "end_time": "2019-12-10T22:04:48.307570Z",
     "start_time": "2019-12-10T22:04:48.280732Z"
    }
   },
   "outputs": [],
   "source": [
    "random.seed(0)"
   ]
  },
  {
   "cell_type": "code",
   "execution_count": 102,
   "metadata": {
    "ExecuteTime": {
     "end_time": "2019-12-10T22:04:48.338849Z",
     "start_time": "2019-12-10T22:04:48.310349Z"
    }
   },
   "outputs": [],
   "source": [
    "temp_noise = bu.generate_noise_arrays(1)"
   ]
  },
  {
   "cell_type": "code",
   "execution_count": 103,
   "metadata": {
    "ExecuteTime": {
     "end_time": "2019-12-10T22:04:48.376036Z",
     "start_time": "2019-12-10T22:04:48.341659Z"
    }
   },
   "outputs": [],
   "source": [
    "def evolve(a_strats, b_strats, generations, noise):\n",
    "    for _ in range(generations):\n",
    "        a_results, b_results = bu.eval_strats(a_strats, b_strats, weights)\n",
    "\n",
    "        a_fittest = sorted(a_results, key=(lambda x: (x[1], -(x[0][-1]))), reverse=True)\n",
    "        b_fittest = sorted(b_results, key=(lambda x: (x[1], -(x[0][-1]))), reverse=True)\n",
    "\n",
    "        a_next_gen = []\n",
    "        b_next_gen = []\n",
    "        for i in range(14):\n",
    "            for j in range(i+1, 15):\n",
    "                a_next_gen.append(bu.mutate_noise(bu.make_integer(bu.cross([a_fittest[i][0], a_fittest[j][0]]), seed=(i+j+i*j)), temp_noise, seed=(i+j)))\n",
    "                b_next_gen.append(bu.mutate_noise(bu.make_integer(bu.cross([b_fittest[i][0], b_fittest[j][0]]), seed=(i+j+i*j)), temp_noise, seed=(i+j)))\n",
    "\n",
    "        a_strats = a_next_gen\n",
    "        b_strats = b_next_gen\n",
    "        \n",
    "    return a_fittest, b_fittest, a_strats, b_strats"
   ]
  },
  {
   "cell_type": "code",
   "execution_count": 104,
   "metadata": {
    "ExecuteTime": {
     "end_time": "2019-12-10T22:04:48.410090Z",
     "start_time": "2019-12-10T22:04:48.379512Z"
    }
   },
   "outputs": [],
   "source": [
    "a_strat_init = random.sample(simp_strats_list, 100)\n",
    "b_strat_init = random.sample(simp_strats_list, 100)\n",
    "\n",
    "a_strats = a_strat_init\n",
    "b_strats = b_strat_init"
   ]
  },
  {
   "cell_type": "code",
   "execution_count": 105,
   "metadata": {
    "ExecuteTime": {
     "end_time": "2019-12-10T22:04:48.434542Z",
     "start_time": "2019-12-10T22:04:48.412576Z"
    }
   },
   "outputs": [],
   "source": [
    "temp_a_strats, temp_b_strats = a_strats, b_strats"
   ]
  },
  {
   "cell_type": "code",
   "execution_count": 106,
   "metadata": {
    "ExecuteTime": {
     "end_time": "2019-12-10T22:04:48.458973Z",
     "start_time": "2019-12-10T22:04:48.436615Z"
    }
   },
   "outputs": [],
   "source": [
    "best_a, best_b = [], []"
   ]
  },
  {
   "cell_type": "code",
   "execution_count": 222,
   "metadata": {
    "ExecuteTime": {
     "end_time": "2019-12-11T01:20:33.736890Z",
     "start_time": "2019-12-11T01:20:07.784997Z"
    },
    "scrolled": true
   },
   "outputs": [],
   "source": [
    "for i in range(200):\n",
    "#     print(i)\n",
    "    temp_a_fittest, temp_b_fittest, temp_a_strats, temp_b_strats = evolve(temp_a_strats, temp_b_strats, 1, temp_noise)\n",
    "    best_a.append(temp_a_fittest[0][0])\n",
    "    best_b.append(temp_b_fittest[0][0])\n",
    "#     print('\\n'.join(map(str,temp_a_fittest[:5])))"
   ]
  },
  {
   "cell_type": "code",
   "execution_count": 223,
   "metadata": {
    "ExecuteTime": {
     "end_time": "2019-12-11T01:20:35.373680Z",
     "start_time": "2019-12-11T01:20:35.347221Z"
    }
   },
   "outputs": [
    {
     "data": {
      "text/plain": [
       "(600, 600)"
      ]
     },
     "execution_count": 223,
     "metadata": {},
     "output_type": "execute_result"
    }
   ],
   "source": [
    "len(best_a), len(best_b)"
   ]
  },
  {
   "cell_type": "code",
   "execution_count": 109,
   "metadata": {
    "ExecuteTime": {
     "end_time": "2019-12-10T22:05:13.163380Z",
     "start_time": "2019-12-10T22:05:13.139833Z"
    }
   },
   "outputs": [],
   "source": [
    "agent_evol_a = Agent(best_a)\n",
    "agent_evol_b = Agent(best_b)"
   ]
  },
  {
   "cell_type": "markdown",
   "metadata": {},
   "source": [
    "# Linear Programming Testing (Nash)"
   ]
  },
  {
   "cell_type": "markdown",
   "metadata": {},
   "source": [
    "input are two sets of strategies -> probabilities associated with each for Nash"
   ]
  },
  {
   "cell_type": "markdown",
   "metadata": {},
   "source": [
    "## linear programming evolutionary strategies"
   ]
  },
  {
   "cell_type": "code",
   "execution_count": 166,
   "metadata": {
    "ExecuteTime": {
     "end_time": "2019-12-10T22:29:28.671288Z",
     "start_time": "2019-12-10T22:29:27.044111Z"
    }
   },
   "outputs": [],
   "source": [
    "probs_evol_a, probs_evol_b = bu.blotto_nash(best_a, best_b)"
   ]
  },
  {
   "cell_type": "code",
   "execution_count": 167,
   "metadata": {
    "ExecuteTime": {
     "end_time": "2019-12-10T22:29:28.712210Z",
     "start_time": "2019-12-10T22:29:28.677808Z"
    }
   },
   "outputs": [
    {
     "data": {
      "text/plain": [
       "(1.0000020000000003, 0.9999979999999998)"
      ]
     },
     "execution_count": 167,
     "metadata": {},
     "output_type": "execute_result"
    }
   ],
   "source": [
    "sum(probs_evol_a), sum(probs_evol_b)"
   ]
  },
  {
   "cell_type": "code",
   "execution_count": 168,
   "metadata": {
    "ExecuteTime": {
     "end_time": "2019-12-10T22:29:28.753665Z",
     "start_time": "2019-12-10T22:29:28.723932Z"
    }
   },
   "outputs": [],
   "source": [
    "probs_evol_a_norm = bu.normalize_probabilities(probs_evol_a)\n",
    "probs_evol_b_norm = bu.normalize_probabilities(probs_evol_b)"
   ]
  },
  {
   "cell_type": "code",
   "execution_count": 169,
   "metadata": {
    "ExecuteTime": {
     "end_time": "2019-12-10T22:29:28.838483Z",
     "start_time": "2019-12-10T22:29:28.758223Z"
    }
   },
   "outputs": [
    {
     "data": {
      "text/plain": [
       "(1.0, 0.9999999999999999)"
      ]
     },
     "execution_count": 169,
     "metadata": {},
     "output_type": "execute_result"
    }
   ],
   "source": [
    "sum(probs_evol_a_norm), sum(probs_evol_b_norm)"
   ]
  },
  {
   "cell_type": "code",
   "execution_count": 170,
   "metadata": {
    "ExecuteTime": {
     "end_time": "2019-12-10T22:29:28.941581Z",
     "start_time": "2019-12-10T22:29:28.886021Z"
    }
   },
   "outputs": [],
   "source": [
    "agent_evol_lin_a = Agent(best_a, list(probs_evol_a_norm))\n",
    "agent_evol_lin_b = Agent(best_b, list(probs_evol_b_norm))"
   ]
  },
  {
   "cell_type": "code",
   "execution_count": 171,
   "metadata": {
    "ExecuteTime": {
     "end_time": "2019-12-10T22:29:29.402059Z",
     "start_time": "2019-12-10T22:29:28.947711Z"
    }
   },
   "outputs": [
    {
     "data": {
      "text/plain": [
       "0.2638"
      ]
     },
     "execution_count": 171,
     "metadata": {},
     "output_type": "execute_result"
    }
   ],
   "source": [
    "au.play_game(agent_evol_lin_a, agent_evol_lin_b, weights, weights, trials=10000) / 10000"
   ]
  },
  {
   "cell_type": "code",
   "execution_count": 172,
   "metadata": {
    "ExecuteTime": {
     "end_time": "2019-12-10T22:29:29.749450Z",
     "start_time": "2019-12-10T22:29:29.408435Z"
    }
   },
   "outputs": [
    {
     "data": {
      "text/plain": [
       "0.7717"
      ]
     },
     "execution_count": 172,
     "metadata": {},
     "output_type": "execute_result"
    }
   ],
   "source": [
    "au.play_game(agent_evol_lin_b, agent_evol_lin_a, weights, weights, trials=10000) / 10000"
   ]
  },
  {
   "cell_type": "markdown",
   "metadata": {},
   "source": [
    "### test based on how many of \"best\" we include"
   ]
  },
  {
   "cell_type": "code",
   "execution_count": 218,
   "metadata": {
    "ExecuteTime": {
     "end_time": "2019-12-11T01:17:07.318412Z",
     "start_time": "2019-12-11T01:17:07.296130Z"
    }
   },
   "outputs": [],
   "source": [
    "a_results = []\n",
    "b_results = []"
   ]
  },
  {
   "cell_type": "code",
   "execution_count": 224,
   "metadata": {
    "ExecuteTime": {
     "end_time": "2019-12-11T01:27:51.556225Z",
     "start_time": "2019-12-11T01:20:39.182698Z"
    }
   },
   "outputs": [
    {
     "name": "stderr",
     "output_type": "stream",
     "text": [
      "/Users/Alex/anaconda3/lib/python3.6/site-packages/scipy/optimize/_linprog_ip.py:110: LinAlgWarning: Ill-conditioned matrix (rcond=3.0728e-34): result may not be accurate.\n",
      "  return sp.linalg.solve(M, r, sym_pos=sym_pos)\n"
     ]
    }
   ],
   "source": [
    "for index in range(len(a_results) + 1, len(best_a)//5):\n",
    "    num = 5*index\n",
    "    temp_probs_evol_a, temp_probs_evol_b = bu.blotto_nash(best_a[:num], best_b[:num])\n",
    "    temp_probs_evol_a_norm = bu.normalize_probabilities(temp_probs_evol_a)\n",
    "    temp_probs_evol_b_norm = bu.normalize_probabilities(temp_probs_evol_b)\n",
    "    temp_agent_evol_lin_a = Agent(best_a[:num], list(temp_probs_evol_a_norm))\n",
    "    temp_agent_evol_lin_b = Agent(best_b[:num], list(temp_probs_evol_b_norm))\n",
    "    \n",
    "    a_results.append(0.5 + au.play_game(temp_agent_evol_lin_a, simp_strats_list, weights, weights, trials=len(simp_strats_list)) / (2*len(simp_strats_list)))\n",
    "    b_results.append(0.5 + au.play_game(temp_agent_evol_lin_b, simp_strats_list, weights, weights, trials=len(simp_strats_list)) / (2*len(simp_strats_list)))    "
   ]
  },
  {
   "cell_type": "code",
   "execution_count": 227,
   "metadata": {
    "ExecuteTime": {
     "end_time": "2019-12-11T01:27:57.979980Z",
     "start_time": "2019-12-11T01:27:57.951112Z"
    }
   },
   "outputs": [
    {
     "data": {
      "text/plain": [
       "119"
      ]
     },
     "execution_count": 227,
     "metadata": {},
     "output_type": "execute_result"
    }
   ],
   "source": [
    "len(a_results)"
   ]
  },
  {
   "cell_type": "code",
   "execution_count": 237,
   "metadata": {
    "ExecuteTime": {
     "end_time": "2019-12-11T02:19:05.847655Z",
     "start_time": "2019-12-11T02:19:05.198924Z"
    }
   },
   "outputs": [
    {
     "data": {
      "image/png": "[encoded data removed]",
      "text/plain": [
       "<Figure size 1080x720 with 1 Axes>"
      ]
     },
     "metadata": {
      "needs_background": "light"
     },
     "output_type": "display_data"
    }
   ],
   "source": [
    "plt.figure(figsize=(15, 10))\n",
    "plt.plot([5*x for x in list(range(1, len(best_a)//5))], a_results, label='Agent A', color='r')\n",
    "plt.plot([5*x for x in list(range(1, len(best_a)//5))], b_results, label='Agent B', color='b')\n",
    "plt.title(\"Win Rate Against Data Set 1 per Evolutionary Linear Programmed Agent per generation\\nSeeded by randomly selected strategies from Data Set 1\", fontsize=20)\n",
    "plt.xlabel(\"Generations\", fontsize=15)\n",
    "plt.ylabel(\"Win Percentage\", fontsize=15)\n",
    "plt.legend(prop={'size':18})\n",
    "# plt.show()\n",
    "plt.savefig(\"../figures/data-set-1-win-rate-evol-lin.jpg\")"
   ]
  },
  {
   "cell_type": "markdown",
   "metadata": {},
   "source": [
    "## testing"
   ]
  },
  {
   "cell_type": "code",
   "execution_count": 173,
   "metadata": {
    "ExecuteTime": {
     "end_time": "2019-12-10T22:29:41.819253Z",
     "start_time": "2019-12-10T22:29:41.357728Z"
    }
   },
   "outputs": [],
   "source": [
    "probs_a, probs_b = bu.blotto_nash(a_strat_init, b_strat_init)"
   ]
  },
  {
   "cell_type": "code",
   "execution_count": 174,
   "metadata": {
    "ExecuteTime": {
     "end_time": "2019-12-10T22:29:41.854101Z",
     "start_time": "2019-12-10T22:29:41.821546Z"
    }
   },
   "outputs": [
    {
     "data": {
      "text/plain": [
       "(1.0000000000000002, 1.000001)"
      ]
     },
     "execution_count": 174,
     "metadata": {},
     "output_type": "execute_result"
    }
   ],
   "source": [
    "sum(probs_a), sum(probs_b)"
   ]
  },
  {
   "cell_type": "code",
   "execution_count": 175,
   "metadata": {
    "ExecuteTime": {
     "end_time": "2019-12-10T22:29:41.901125Z",
     "start_time": "2019-12-10T22:29:41.863913Z"
    }
   },
   "outputs": [],
   "source": [
    "probs_a_norm = bu.normalize_probabilities(probs_a)\n",
    "probs_b_norm = bu.normalize_probabilities(probs_b)"
   ]
  },
  {
   "cell_type": "code",
   "execution_count": 176,
   "metadata": {
    "ExecuteTime": {
     "end_time": "2019-12-10T22:29:41.953488Z",
     "start_time": "2019-12-10T22:29:41.903799Z"
    }
   },
   "outputs": [
    {
     "name": "stdout",
     "output_type": "stream",
     "text": [
      "1.0000000000000002\n",
      "0.9999999999999999\n"
     ]
    }
   ],
   "source": [
    "print(sum(probs_a_norm))\n",
    "print(sum(probs_b_norm))"
   ]
  },
  {
   "cell_type": "code",
   "execution_count": 177,
   "metadata": {
    "ExecuteTime": {
     "end_time": "2019-12-10T22:29:41.999097Z",
     "start_time": "2019-12-10T22:29:41.970288Z"
    }
   },
   "outputs": [],
   "source": [
    "agent_a = Agent(a_strat_init, list(probs_a_norm))\n",
    "agent_b = Agent(b_strat_init, list(probs_b_norm))"
   ]
  },
  {
   "cell_type": "code",
   "execution_count": 178,
   "metadata": {
    "ExecuteTime": {
     "end_time": "2019-12-10T22:29:42.110240Z",
     "start_time": "2019-12-10T22:29:42.003462Z"
    }
   },
   "outputs": [
    {
     "data": {
      "text/plain": [
       "0.549"
      ]
     },
     "execution_count": 178,
     "metadata": {},
     "output_type": "execute_result"
    }
   ],
   "source": [
    "au.play_game(agent_a, agent_b, weights, weights, trials=1000) / 1000 # b is the better agent on average"
   ]
  },
  {
   "cell_type": "code",
   "execution_count": 179,
   "metadata": {
    "ExecuteTime": {
     "end_time": "2019-12-10T22:29:42.196426Z",
     "start_time": "2019-12-10T22:29:42.113012Z"
    }
   },
   "outputs": [
    {
     "data": {
      "text/plain": [
       "0.6168327796234773"
      ]
     },
     "execution_count": 179,
     "metadata": {},
     "output_type": "execute_result"
    }
   ],
   "source": [
    "au.play_game(agent_a, simp_strats_list, weights, weights, trials=len(simp_strats_list)) / len(simp_strats_list)"
   ]
  },
  {
   "cell_type": "code",
   "execution_count": 180,
   "metadata": {
    "ExecuteTime": {
     "end_time": "2019-12-10T22:29:42.281272Z",
     "start_time": "2019-12-10T22:29:42.209069Z"
    }
   },
   "outputs": [
    {
     "data": {
      "text/plain": [
       "0.6157253599114064"
      ]
     },
     "execution_count": 180,
     "metadata": {},
     "output_type": "execute_result"
    }
   ],
   "source": [
    "au.play_game(agent_b, simp_strats_list, weights, weights, trials=len(simp_strats_list)) / len(simp_strats_list)"
   ]
  },
  {
   "cell_type": "markdown",
   "metadata": {},
   "source": [
    "# Agent Tester"
   ]
  },
  {
   "cell_type": "code",
   "execution_count": 181,
   "metadata": {
    "ExecuteTime": {
     "end_time": "2019-12-10T22:29:53.813881Z",
     "start_time": "2019-12-10T22:29:53.568736Z"
    },
    "scrolled": true
   },
   "outputs": [
    {
     "data": {
      "text/plain": [
       "0.6419"
      ]
     },
     "execution_count": 181,
     "metadata": {},
     "output_type": "execute_result"
    }
   ],
   "source": [
    "au.play_game(agent_b, agent_evol_b, weights, weights, trials=10000) / 10000"
   ]
  },
  {
   "cell_type": "code",
   "execution_count": 182,
   "metadata": {
    "ExecuteTime": {
     "end_time": "2019-12-10T22:29:54.184767Z",
     "start_time": "2019-12-10T22:29:53.820841Z"
    }
   },
   "outputs": [
    {
     "data": {
      "text/plain": [
       "0.5628"
      ]
     },
     "execution_count": 182,
     "metadata": {},
     "output_type": "execute_result"
    }
   ],
   "source": [
    "au.play_game(agent_b, agent_evol_a, weights, weights, trials=10000) / 10000"
   ]
  },
  {
   "cell_type": "code",
   "execution_count": 183,
   "metadata": {
    "ExecuteTime": {
     "end_time": "2019-12-10T22:29:54.530327Z",
     "start_time": "2019-12-10T22:29:54.187452Z"
    }
   },
   "outputs": [
    {
     "data": {
      "text/plain": [
       "0.6456"
      ]
     },
     "execution_count": 183,
     "metadata": {},
     "output_type": "execute_result"
    }
   ],
   "source": [
    "au.play_game(agent_a, agent_evol_a, weights, weights, trials=10000) / 10000"
   ]
  },
  {
   "cell_type": "code",
   "execution_count": 184,
   "metadata": {
    "ExecuteTime": {
     "end_time": "2019-12-10T22:29:54.867142Z",
     "start_time": "2019-12-10T22:29:54.532847Z"
    }
   },
   "outputs": [
    {
     "data": {
      "text/plain": [
       "0.6282"
      ]
     },
     "execution_count": 184,
     "metadata": {},
     "output_type": "execute_result"
    }
   ],
   "source": [
    "au.play_game(agent_a, agent_evol_b, weights, weights, trials=10000) / 10000"
   ]
  },
  {
   "cell_type": "code",
   "execution_count": 185,
   "metadata": {
    "ExecuteTime": {
     "end_time": "2019-12-10T22:29:55.239852Z",
     "start_time": "2019-12-10T22:29:54.869249Z"
    }
   },
   "outputs": [
    {
     "data": {
      "text/plain": [
       "0.3546"
      ]
     },
     "execution_count": 185,
     "metadata": {},
     "output_type": "execute_result"
    }
   ],
   "source": [
    "au.play_game(agent_evol_b, agent_a, weights, weights, trials=10000) / 10000"
   ]
  },
  {
   "cell_type": "code",
   "execution_count": 186,
   "metadata": {
    "ExecuteTime": {
     "end_time": "2019-12-10T22:29:55.320623Z",
     "start_time": "2019-12-10T22:29:55.248073Z"
    }
   },
   "outputs": [
    {
     "data": {
      "text/plain": [
       "0.5116279069767442"
      ]
     },
     "execution_count": 186,
     "metadata": {},
     "output_type": "execute_result"
    }
   ],
   "source": [
    "au.play_game(agent_evol_lin_b, simp_strats_list, weights, weights, trials=len(simp_strats_list)) / len(simp_strats_list)"
   ]
  },
  {
   "cell_type": "code",
   "execution_count": 187,
   "metadata": {
    "ExecuteTime": {
     "end_time": "2019-12-10T22:29:55.405896Z",
     "start_time": "2019-12-10T22:29:55.323164Z"
    }
   },
   "outputs": [
    {
     "data": {
      "text/plain": [
       "0.3964562569213732"
      ]
     },
     "execution_count": 187,
     "metadata": {},
     "output_type": "execute_result"
    }
   ],
   "source": [
    "au.play_game(agent_evol_lin_a, simp_strats_list, weights, weights, trials=len(simp_strats_list)) / len(simp_strats_list)"
   ]
  },
  {
   "cell_type": "code",
   "execution_count": 188,
   "metadata": {
    "ExecuteTime": {
     "end_time": "2019-12-10T22:29:55.830390Z",
     "start_time": "2019-12-10T22:29:55.417328Z"
    }
   },
   "outputs": [
    {
     "data": {
      "text/plain": [
       "0.3644"
      ]
     },
     "execution_count": 188,
     "metadata": {},
     "output_type": "execute_result"
    }
   ],
   "source": [
    "au.play_game(agent_evol_lin_a, agent_b, weights, weights, trials=10000) / 10000"
   ]
  },
  {
   "cell_type": "code",
   "execution_count": 189,
   "metadata": {
    "ExecuteTime": {
     "end_time": "2019-12-10T22:29:56.185224Z",
     "start_time": "2019-12-10T22:29:55.835269Z"
    }
   },
   "outputs": [
    {
     "data": {
      "text/plain": [
       "0.5077"
      ]
     },
     "execution_count": 189,
     "metadata": {},
     "output_type": "execute_result"
    }
   ],
   "source": [
    "au.play_game(agent_evol_lin_a, agent_a, weights, weights, trials=10000) / 10000"
   ]
  },
  {
   "cell_type": "code",
   "execution_count": 190,
   "metadata": {
    "ExecuteTime": {
     "end_time": "2019-12-10T22:29:56.538888Z",
     "start_time": "2019-12-10T22:29:56.187863Z"
    }
   },
   "outputs": [
    {
     "data": {
      "text/plain": [
       "0.5088"
      ]
     },
     "execution_count": 190,
     "metadata": {},
     "output_type": "execute_result"
    }
   ],
   "source": [
    "au.play_game(agent_evol_lin_b, agent_a, weights, weights, trials=10000) / 10000"
   ]
  },
  {
   "cell_type": "code",
   "execution_count": 191,
   "metadata": {
    "ExecuteTime": {
     "end_time": "2019-12-10T22:29:56.916769Z",
     "start_time": "2019-12-10T22:29:56.541372Z"
    }
   },
   "outputs": [
    {
     "data": {
      "text/plain": [
       "0.8251"
      ]
     },
     "execution_count": 191,
     "metadata": {},
     "output_type": "execute_result"
    }
   ],
   "source": [
    "au.play_game(agent_evol_lin_b, agent_b, weights, weights, trials=10000) / 10000"
   ]
  },
  {
   "cell_type": "code",
   "execution_count": null,
   "metadata": {},
   "outputs": [],
   "source": []
  }
 ],
 "metadata": {
  "kernelspec": {
   "display_name": "Python 3",
   "language": "python",
   "name": "python3"
  },
  "language_info": {
   "codemirror_mode": {
    "name": "ipython",
    "version": 3
   },
   "file_extension": ".py",
   "mimetype": "text/x-python",
   "name": "python",
   "nbconvert_exporter": "python",
   "pygments_lexer": "ipython3",
   "version": "3.6.8"
  },
  "varInspector": {
   "cols": {
    "lenName": 16,
    "lenType": 16,
    "lenVar": 40
   },
   "kernels_config": {
    "python": {
     "delete_cmd_postfix": "",
     "delete_cmd_prefix": "del ",
     "library": "var_list.py",
     "varRefreshCmd": "print(var_dic_list())"
    },
    "r": {
     "delete_cmd_postfix": ") ",
     "delete_cmd_prefix": "rm(",
     "library": "var_list.r",
     "varRefreshCmd": "cat(var_dic_list()) "
    }
   },
   "types_to_exclude": [
    "module",
    "function",
    "builtin_function_or_method",
    "instance",
    "_Feature"
   ],
   "window_display": false
  }
 },
 "nbformat": 4,
 "nbformat_minor": 2
}
