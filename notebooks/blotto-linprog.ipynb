{
 "cells": [
  {
   "cell_type": "code",
   "execution_count": 197,
   "metadata": {
    "ExecuteTime": {
     "end_time": "2019-12-07T07:28:27.072573Z",
     "start_time": "2019-12-07T07:28:27.043921Z"
    }
   },
   "outputs": [],
   "source": [
    "import sys\n",
    "sys.path.append(\"../code\")\n",
    "import pandas as pd\n",
    "import random\n",
    "from glob import glob\n",
    "import matplotlib.pyplot as plt\n",
    "%matplotlib inline"
   ]
  },
  {
   "cell_type": "code",
   "execution_count": 198,
   "metadata": {
    "ExecuteTime": {
     "end_time": "2019-12-07T07:28:27.519803Z",
     "start_time": "2019-12-07T07:28:27.475624Z"
    }
   },
   "outputs": [],
   "source": [
    "import blotto_utils as bu\n",
    "from agent import Agent\n",
    "import agent_utils as au"
   ]
  },
  {
   "cell_type": "code",
   "execution_count": 199,
   "metadata": {
    "ExecuteTime": {
     "end_time": "2019-12-07T07:28:27.898817Z",
     "start_time": "2019-12-07T07:28:27.868783Z"
    }
   },
   "outputs": [],
   "source": [
    "import scipy.optimize"
   ]
  },
  {
   "cell_type": "code",
   "execution_count": 200,
   "metadata": {
    "ExecuteTime": {
     "end_time": "2019-12-07T07:28:28.326123Z",
     "start_time": "2019-12-07T07:28:28.299276Z"
    }
   },
   "outputs": [
    {
     "name": "stdout",
     "output_type": "stream",
     "text": [
      "The autoreload extension is already loaded. To reload it, use:\n",
      "  %reload_ext autoreload\n"
     ]
    }
   ],
   "source": [
    "%load_ext autoreload\n",
    "%autoreload 2"
   ]
  },
  {
   "cell_type": "code",
   "execution_count": 5,
   "metadata": {
    "ExecuteTime": {
     "end_time": "2019-12-07T05:49:36.324119Z",
     "start_time": "2019-12-07T05:49:36.294554Z"
    }
   },
   "outputs": [
    {
     "data": {
      "text/html": [
       "<style>.container { width:95% !important; }</style>"
      ],
      "text/plain": [
       "<IPython.core.display.HTML object>"
      ]
     },
     "metadata": {},
     "output_type": "display_data"
    }
   ],
   "source": [
    "from IPython.core.display import display, HTML\n",
    "display(HTML(\"<style>.container { width:95% !important; }</style>\"))"
   ]
  },
  {
   "cell_type": "markdown",
   "metadata": {},
   "source": [
    "# 538 Data"
   ]
  },
  {
   "cell_type": "code",
   "execution_count": 7,
   "metadata": {
    "ExecuteTime": {
     "end_time": "2019-12-07T05:53:27.457572Z",
     "start_time": "2019-12-07T05:53:27.362789Z"
    }
   },
   "outputs": [],
   "source": [
    "weights = [1, 2, 3, 4, 5, 6, 7, 8, 9, 10]\n",
    "\n",
    "data_dir = '/Users/Alex/Documents/Alex/Yale/Fall 2019/CPSC_490/blotto/data/'\n",
    "\n",
    "fivethirtyeight_data_dir = data_dir + 'fivethirtyeight/'\n",
    "\n",
    "sorted(glob(fivethirtyeight_data_dir + '*'))\n",
    "\n",
    "temp_df = pd.read_csv(glob(fivethirtyeight_data_dir + '*')[0])\n",
    "\n",
    "new_column_names = list(map((lambda x : '_'.join(x.split(' ')).lower()), list(temp_df.columns)))\n",
    "new_column_names[-1] = 'reason'\n",
    "\n",
    "temp_df.rename(dict(zip(list(temp_df.columns), new_column_names)), axis=1, inplace=True)\n",
    "\n",
    "temp_df['total_troops'] = temp_df['castle_1'] + \\\n",
    "                          temp_df['castle_2'] + \\\n",
    "                          temp_df['castle_3'] + \\\n",
    "                          temp_df['castle_4'] + \\\n",
    "                          temp_df['castle_5'] + \\\n",
    "                          temp_df['castle_6'] + \\\n",
    "                          temp_df['castle_7'] + \\\n",
    "                          temp_df['castle_8'] + \\\n",
    "                          temp_df['castle_9'] + \\\n",
    "                          temp_df['castle_10']\n",
    "\n",
    "full_strats_df = temp_df[temp_df.total_troops == 100].copy()\n",
    "\n",
    "full_strats_list = full_strats_df.to_dict('records')\n",
    "\n",
    "simp_strats_list = [[int(x[1]) for x in list(y.items())[:10]] for y in full_strats_list]"
   ]
  },
  {
   "cell_type": "markdown",
   "metadata": {},
   "source": [
    "## Divide into two players"
   ]
  },
  {
   "cell_type": "code",
   "execution_count": 8,
   "metadata": {
    "ExecuteTime": {
     "end_time": "2019-12-07T05:53:28.991799Z",
     "start_time": "2019-12-07T05:53:28.944409Z"
    }
   },
   "outputs": [],
   "source": [
    "random.seed(0)"
   ]
  },
  {
   "cell_type": "code",
   "execution_count": 9,
   "metadata": {
    "ExecuteTime": {
     "end_time": "2019-12-07T05:53:29.054174Z",
     "start_time": "2019-12-07T05:53:28.995374Z"
    }
   },
   "outputs": [],
   "source": [
    "a_strat_init = random.sample(simp_strats_list, 100)\n",
    "b_strat_init = random.sample(simp_strats_list, 100)"
   ]
  },
  {
   "cell_type": "code",
   "execution_count": 10,
   "metadata": {
    "ExecuteTime": {
     "end_time": "2019-12-07T05:53:29.105390Z",
     "start_time": "2019-12-07T05:53:29.057663Z"
    }
   },
   "outputs": [
    {
     "data": {
      "text/plain": [
       "(100, 100)"
      ]
     },
     "execution_count": 10,
     "metadata": {},
     "output_type": "execute_result"
    }
   ],
   "source": [
    "len(a_strat_init), len(b_strat_init)"
   ]
  },
  {
   "cell_type": "markdown",
   "metadata": {
    "heading_collapsed": true
   },
   "source": [
    "# Agent"
   ]
  },
  {
   "cell_type": "code",
   "execution_count": 66,
   "metadata": {
    "ExecuteTime": {
     "end_time": "2019-12-05T03:51:20.102059Z",
     "start_time": "2019-12-05T03:51:20.075901Z"
    },
    "hidden": true
   },
   "outputs": [],
   "source": [
    "random.seed(0)"
   ]
  },
  {
   "cell_type": "code",
   "execution_count": 67,
   "metadata": {
    "ExecuteTime": {
     "end_time": "2019-12-05T03:51:20.155603Z",
     "start_time": "2019-12-05T03:51:20.104522Z"
    },
    "hidden": true
   },
   "outputs": [],
   "source": [
    "temp_noise = bu.generate_noise_arrays(1)"
   ]
  },
  {
   "cell_type": "code",
   "execution_count": 68,
   "metadata": {
    "ExecuteTime": {
     "end_time": "2019-12-05T03:51:20.255203Z",
     "start_time": "2019-12-05T03:51:20.172216Z"
    },
    "hidden": true
   },
   "outputs": [],
   "source": [
    "def evolve(a_strats, b_strats, generations, noise):\n",
    "    for _ in range(generations):\n",
    "        a_results, b_results = bu.eval_strats(a_strats, b_strats, weights)\n",
    "\n",
    "        a_fittest = sorted(a_results, key=(lambda x: (x[1], -(x[0][-1]))), reverse=True)\n",
    "        b_fittest = sorted(b_results, key=(lambda x: (x[1], -(x[0][-1]))), reverse=True)\n",
    "\n",
    "        a_next_gen = []\n",
    "        b_next_gen = []\n",
    "        for i in range(14):\n",
    "            for j in range(i+1, 15):\n",
    "                a_next_gen.append(bu.mutate_noise(bu.make_integer(bu.cross([a_fittest[i][0], a_fittest[j][0]]), seed=(i+j+i*j)), temp_noise, seed=(i+j)))\n",
    "                b_next_gen.append(bu.mutate_noise(bu.make_integer(bu.cross([b_fittest[i][0], b_fittest[j][0]]), seed=(i+j+i*j)), temp_noise, seed=(i+j)))\n",
    "\n",
    "        a_strats = a_next_gen\n",
    "        b_strats = b_next_gen\n",
    "        \n",
    "    return a_fittest, b_fittest, a_strats, b_strats"
   ]
  },
  {
   "cell_type": "code",
   "execution_count": 69,
   "metadata": {
    "ExecuteTime": {
     "end_time": "2019-12-05T03:51:20.295111Z",
     "start_time": "2019-12-05T03:51:20.259704Z"
    },
    "hidden": true
   },
   "outputs": [],
   "source": [
    "a_strat_init = random.sample(simp_strats_list, 100)\n",
    "b_strat_init = random.sample(simp_strats_list, 100)\n",
    "\n",
    "a_strats = a_strat_init\n",
    "b_strats = b_strat_init"
   ]
  },
  {
   "cell_type": "code",
   "execution_count": 70,
   "metadata": {
    "ExecuteTime": {
     "end_time": "2019-12-05T03:51:20.354715Z",
     "start_time": "2019-12-05T03:51:20.310838Z"
    },
    "hidden": true
   },
   "outputs": [],
   "source": [
    "temp_a_strats, temp_b_strats = a_strats, b_strats"
   ]
  },
  {
   "cell_type": "code",
   "execution_count": 71,
   "metadata": {
    "ExecuteTime": {
     "end_time": "2019-12-05T03:51:20.403015Z",
     "start_time": "2019-12-05T03:51:20.359200Z"
    },
    "hidden": true
   },
   "outputs": [],
   "source": [
    "best_a, best_b = [], []"
   ]
  },
  {
   "cell_type": "code",
   "execution_count": 72,
   "metadata": {
    "ExecuteTime": {
     "end_time": "2019-12-05T03:51:48.521245Z",
     "start_time": "2019-12-05T03:51:20.406773Z"
    },
    "hidden": true,
    "scrolled": true
   },
   "outputs": [],
   "source": [
    "for i in range(200):\n",
    "#     print(i)\n",
    "    temp_a_fittest, temp_b_fittest, temp_a_strats, temp_b_strats = evolve(temp_a_strats, temp_b_strats, 1, temp_noise)\n",
    "    best_a.append(temp_a_fittest[0][0])\n",
    "    best_b.append(temp_b_fittest[0][0])\n",
    "#     print('\\n'.join(map(str,temp_a_fittest[:5])))"
   ]
  },
  {
   "cell_type": "code",
   "execution_count": 73,
   "metadata": {
    "ExecuteTime": {
     "end_time": "2019-12-05T03:51:48.555524Z",
     "start_time": "2019-12-05T03:51:48.525262Z"
    },
    "hidden": true
   },
   "outputs": [
    {
     "data": {
      "text/plain": [
       "(200, 200)"
      ]
     },
     "execution_count": 73,
     "metadata": {},
     "output_type": "execute_result"
    }
   ],
   "source": [
    "len(best_a), len(best_b)"
   ]
  },
  {
   "cell_type": "markdown",
   "metadata": {},
   "source": [
    "# Linear Programming Testing (Nash)"
   ]
  },
  {
   "cell_type": "markdown",
   "metadata": {},
   "source": [
    "input are two sets of strategies -> probabilities associated with each for Nash"
   ]
  },
  {
   "cell_type": "markdown",
   "metadata": {},
   "source": [
    "## testing"
   ]
  },
  {
   "cell_type": "code",
   "execution_count": 138,
   "metadata": {
    "ExecuteTime": {
     "end_time": "2019-12-07T07:04:18.327982Z",
     "start_time": "2019-12-07T07:04:17.991167Z"
    }
   },
   "outputs": [],
   "source": [
    "probs_a, probs_b = bu.blotto_nash(a_strat_init, b_strat_init)"
   ]
  },
  {
   "cell_type": "code",
   "execution_count": 139,
   "metadata": {
    "ExecuteTime": {
     "end_time": "2019-12-07T07:04:18.704047Z",
     "start_time": "2019-12-07T07:04:18.675490Z"
    }
   },
   "outputs": [
    {
     "data": {
      "text/plain": [
       "1.0000000000000002"
      ]
     },
     "execution_count": 139,
     "metadata": {},
     "output_type": "execute_result"
    }
   ],
   "source": [
    "sum(probs_a)"
   ]
  },
  {
   "cell_type": "code",
   "execution_count": 140,
   "metadata": {
    "ExecuteTime": {
     "end_time": "2019-12-07T07:04:19.261878Z",
     "start_time": "2019-12-07T07:04:19.141621Z"
    }
   },
   "outputs": [
    {
     "data": {
      "text/plain": [
       "1.0304870000000002"
      ]
     },
     "execution_count": 140,
     "metadata": {},
     "output_type": "execute_result"
    }
   ],
   "source": [
    "sum(probs_b)"
   ]
  },
  {
   "cell_type": "code",
   "execution_count": 167,
   "metadata": {
    "ExecuteTime": {
     "end_time": "2019-12-07T07:16:59.403186Z",
     "start_time": "2019-12-07T07:16:59.380191Z"
    }
   },
   "outputs": [],
   "source": [
    "def normalize_probabilities(probs):\n",
    "    probs = np.array(probs)\n",
    "    probs /= probs.sum()\n",
    "    return probs"
   ]
  },
  {
   "cell_type": "code",
   "execution_count": 168,
   "metadata": {
    "ExecuteTime": {
     "end_time": "2019-12-07T07:17:01.103305Z",
     "start_time": "2019-12-07T07:17:01.081504Z"
    }
   },
   "outputs": [],
   "source": [
    "probs_a_norm = normalize_probabilities(probs_a)\n",
    "probs_b_norm = normalize_probabilities(probs_b)"
   ]
  },
  {
   "cell_type": "code",
   "execution_count": 175,
   "metadata": {
    "ExecuteTime": {
     "end_time": "2019-12-07T07:18:47.121143Z",
     "start_time": "2019-12-07T07:18:47.091334Z"
    }
   },
   "outputs": [
    {
     "name": "stdout",
     "output_type": "stream",
     "text": [
      "1.0000000000000002\n",
      "1.0\n"
     ]
    }
   ],
   "source": [
    "print(sum(probs_a_norm))\n",
    "print(sum(probs_b_norm))"
   ]
  },
  {
   "cell_type": "code",
   "execution_count": 271,
   "metadata": {
    "ExecuteTime": {
     "end_time": "2019-12-07T07:38:42.668849Z",
     "start_time": "2019-12-07T07:38:42.641725Z"
    }
   },
   "outputs": [],
   "source": [
    "agent_a = Agent(a_strat_init, list(probs_a_norm))\n",
    "agent_b = Agent(b_strat_init, list(probs_b_norm))"
   ]
  },
  {
   "cell_type": "code",
   "execution_count": 274,
   "metadata": {
    "ExecuteTime": {
     "end_time": "2019-12-07T07:38:46.394535Z",
     "start_time": "2019-12-07T07:38:46.337466Z"
    }
   },
   "outputs": [
    {
     "data": {
      "text/plain": [
       "0.473"
      ]
     },
     "execution_count": 274,
     "metadata": {},
     "output_type": "execute_result"
    }
   ],
   "source": [
    "au.play_game(agent_a, agent_b, weights, weights, trials=1000) / 1000 # b is the better agent on average"
   ]
  },
  {
   "cell_type": "code",
   "execution_count": 275,
   "metadata": {
    "ExecuteTime": {
     "end_time": "2019-12-07T07:38:58.402521Z",
     "start_time": "2019-12-07T07:38:58.342896Z"
    }
   },
   "outputs": [
    {
     "data": {
      "text/plain": [
       "0.6168327796234773"
      ]
     },
     "execution_count": 275,
     "metadata": {},
     "output_type": "execute_result"
    }
   ],
   "source": [
    "au.play_game(agent_a, simp_strats_list, weights, weights, trials=len(simp_strats_list)) / len(simp_strats_list)"
   ]
  },
  {
   "cell_type": "code",
   "execution_count": 276,
   "metadata": {
    "ExecuteTime": {
     "end_time": "2019-12-07T07:38:59.557652Z",
     "start_time": "2019-12-07T07:38:59.503301Z"
    }
   },
   "outputs": [
    {
     "data": {
      "text/plain": [
       "0.5060908084163898"
      ]
     },
     "execution_count": 276,
     "metadata": {},
     "output_type": "execute_result"
    }
   ],
   "source": [
    "au.play_game(agent_b, simp_strats_list, weights, weights, trials=len(simp_strats_list)) / len(simp_strats_list)"
   ]
  },
  {
   "cell_type": "code",
   "execution_count": null,
   "metadata": {},
   "outputs": [],
   "source": []
  }
 ],
 "metadata": {
  "kernelspec": {
   "display_name": "Python 3",
   "language": "python",
   "name": "python3"
  },
  "language_info": {
   "codemirror_mode": {
    "name": "ipython",
    "version": 3
   },
   "file_extension": ".py",
   "mimetype": "text/x-python",
   "name": "python",
   "nbconvert_exporter": "python",
   "pygments_lexer": "ipython3",
   "version": "3.6.8"
  },
  "varInspector": {
   "cols": {
    "lenName": 16,
    "lenType": 16,
    "lenVar": 40
   },
   "kernels_config": {
    "python": {
     "delete_cmd_postfix": "",
     "delete_cmd_prefix": "del ",
     "library": "var_list.py",
     "varRefreshCmd": "print(var_dic_list())"
    },
    "r": {
     "delete_cmd_postfix": ") ",
     "delete_cmd_prefix": "rm(",
     "library": "var_list.r",
     "varRefreshCmd": "cat(var_dic_list()) "
    }
   },
   "types_to_exclude": [
    "module",
    "function",
    "builtin_function_or_method",
    "instance",
    "_Feature"
   ],
   "window_display": false
  }
 },
 "nbformat": 4,
 "nbformat_minor": 2
}
