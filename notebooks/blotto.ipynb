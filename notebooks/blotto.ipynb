{
 "cells": [
  {
   "cell_type": "code",
   "execution_count": 3,
   "metadata": {
    "ExecuteTime": {
     "end_time": "2019-10-22T00:04:49.321780Z",
     "start_time": "2019-10-22T00:04:48.737095Z"
    }
   },
   "outputs": [],
   "source": [
    "import sys\n",
    "sys.path.append(\"../code\")\n",
    "import pandas as pd\n",
    "import random\n",
    "from glob import glob"
   ]
  },
  {
   "cell_type": "code",
   "execution_count": 4,
   "metadata": {
    "ExecuteTime": {
     "end_time": "2019-10-22T00:04:49.507298Z",
     "start_time": "2019-10-22T00:04:49.501414Z"
    }
   },
   "outputs": [],
   "source": [
    "import blotto_utils as bu"
   ]
  },
  {
   "cell_type": "code",
   "execution_count": 5,
   "metadata": {
    "ExecuteTime": {
     "end_time": "2019-10-22T00:04:50.493545Z",
     "start_time": "2019-10-22T00:04:50.463655Z"
    }
   },
   "outputs": [],
   "source": [
    "%load_ext autoreload\n",
    "%autoreload 2"
   ]
  },
  {
   "cell_type": "code",
   "execution_count": 6,
   "metadata": {
    "ExecuteTime": {
     "end_time": "2019-10-22T00:04:51.370036Z",
     "start_time": "2019-10-22T00:04:51.344172Z"
    }
   },
   "outputs": [
    {
     "data": {
      "text/html": [
       "<style>.container { width:95% !important; }</style>"
      ],
      "text/plain": [
       "<IPython.core.display.HTML object>"
      ]
     },
     "metadata": {},
     "output_type": "display_data"
    }
   ],
   "source": [
    "from IPython.core.display import display, HTML\n",
    "display(HTML(\"<style>.container { width:95% !important; }</style>\"))"
   ]
  },
  {
   "cell_type": "markdown",
   "metadata": {},
   "source": [
    "# Colonel Blotto Game"
   ]
  },
  {
   "cell_type": "code",
   "execution_count": 7,
   "metadata": {
    "ExecuteTime": {
     "end_time": "2019-10-22T00:04:53.774676Z",
     "start_time": "2019-10-22T00:04:53.743332Z"
    }
   },
   "outputs": [],
   "source": [
    "a = [1, 2, 3]\n",
    "b = [3, 2, 1]"
   ]
  },
  {
   "cell_type": "code",
   "execution_count": 8,
   "metadata": {
    "ExecuteTime": {
     "end_time": "2019-10-22T00:04:53.810711Z",
     "start_time": "2019-10-22T00:04:53.777356Z"
    }
   },
   "outputs": [],
   "source": [
    "p = [1, 1, 1]"
   ]
  },
  {
   "cell_type": "code",
   "execution_count": 9,
   "metadata": {
    "ExecuteTime": {
     "end_time": "2019-10-22T00:04:53.890913Z",
     "start_time": "2019-10-22T00:04:53.818343Z"
    }
   },
   "outputs": [
    {
     "data": {
      "text/plain": [
       "[(1, 3, 1, 3), (2, 2, 2, 2), (3, 1, 3, 1)]"
      ]
     },
     "execution_count": 9,
     "metadata": {},
     "output_type": "execute_result"
    }
   ],
   "source": [
    "list(zip(a, b, a, b))"
   ]
  },
  {
   "cell_type": "code",
   "execution_count": 10,
   "metadata": {
    "ExecuteTime": {
     "end_time": "2019-10-22T00:04:53.933736Z",
     "start_time": "2019-10-22T00:04:53.906813Z"
    }
   },
   "outputs": [
    {
     "data": {
      "text/plain": [
       "0"
      ]
     },
     "execution_count": 10,
     "metadata": {},
     "output_type": "execute_result"
    }
   ],
   "source": [
    "bu.battle(a, b, p, p)"
   ]
  },
  {
   "cell_type": "markdown",
   "metadata": {},
   "source": [
    "# 538 Data"
   ]
  },
  {
   "cell_type": "code",
   "execution_count": 11,
   "metadata": {
    "ExecuteTime": {
     "end_time": "2019-10-22T00:05:01.310245Z",
     "start_time": "2019-10-22T00:05:01.283102Z"
    }
   },
   "outputs": [],
   "source": [
    "weights = [1, 2, 3, 4, 5, 6, 7, 8, 9, 10]"
   ]
  },
  {
   "cell_type": "code",
   "execution_count": 12,
   "metadata": {
    "ExecuteTime": {
     "end_time": "2019-10-22T00:05:01.338139Z",
     "start_time": "2019-10-22T00:05:01.312867Z"
    }
   },
   "outputs": [],
   "source": [
    "data_dir = '/Users/Alex/Documents/Alex/Yale/Fall 2019/CPSC_490/blotto/data/'"
   ]
  },
  {
   "cell_type": "code",
   "execution_count": 13,
   "metadata": {
    "ExecuteTime": {
     "end_time": "2019-10-22T00:05:01.365391Z",
     "start_time": "2019-10-22T00:05:01.340897Z"
    }
   },
   "outputs": [],
   "source": [
    "fivethirtyeight_data_dir = data_dir + 'fivethirtyeight/'"
   ]
  },
  {
   "cell_type": "code",
   "execution_count": 14,
   "metadata": {
    "ExecuteTime": {
     "end_time": "2019-10-22T00:05:01.435083Z",
     "start_time": "2019-10-22T00:05:01.368888Z"
    }
   },
   "outputs": [
    {
     "data": {
      "text/plain": [
       "['/Users/Alex/Documents/Alex/Yale/Fall 2019/CPSC_490/blotto/data/fivethirtyeight/castle-solutions-1.csv',\n",
       " '/Users/Alex/Documents/Alex/Yale/Fall 2019/CPSC_490/blotto/data/fivethirtyeight/castle-solutions-2.csv',\n",
       " '/Users/Alex/Documents/Alex/Yale/Fall 2019/CPSC_490/blotto/data/fivethirtyeight/castle-solutions-3.csv']"
      ]
     },
     "execution_count": 14,
     "metadata": {},
     "output_type": "execute_result"
    }
   ],
   "source": [
    "sorted(glob(fivethirtyeight_data_dir + '*'))"
   ]
  },
  {
   "cell_type": "code",
   "execution_count": 15,
   "metadata": {
    "ExecuteTime": {
     "end_time": "2019-10-22T00:05:01.501356Z",
     "start_time": "2019-10-22T00:05:01.437704Z"
    }
   },
   "outputs": [],
   "source": [
    "temp_df = pd.read_csv(glob(fivethirtyeight_data_dir + '*')[0])"
   ]
  },
  {
   "cell_type": "code",
   "execution_count": 16,
   "metadata": {
    "ExecuteTime": {
     "end_time": "2019-10-22T00:05:01.563084Z",
     "start_time": "2019-10-22T00:05:01.508345Z"
    }
   },
   "outputs": [
    {
     "data": {
      "text/plain": [
       "932"
      ]
     },
     "execution_count": 16,
     "metadata": {},
     "output_type": "execute_result"
    }
   ],
   "source": [
    "len(temp_df)"
   ]
  },
  {
   "cell_type": "code",
   "execution_count": 17,
   "metadata": {
    "ExecuteTime": {
     "end_time": "2019-10-22T00:05:01.630502Z",
     "start_time": "2019-10-22T00:05:01.577505Z"
    }
   },
   "outputs": [
    {
     "data": {
      "text/plain": [
       "Index(['Castle 1', 'Castle 2', 'Castle 3', 'Castle 4', 'Castle 5', 'Castle 6',\n",
       "       'Castle 7', 'Castle 8', 'Castle 9', 'Castle 10',\n",
       "       'Why did you choose your troop deployment?'],\n",
       "      dtype='object')"
      ]
     },
     "execution_count": 17,
     "metadata": {},
     "output_type": "execute_result"
    }
   ],
   "source": [
    "temp_df.columns"
   ]
  },
  {
   "cell_type": "code",
   "execution_count": 18,
   "metadata": {
    "ExecuteTime": {
     "end_time": "2019-10-22T00:05:01.675067Z",
     "start_time": "2019-10-22T00:05:01.645783Z"
    }
   },
   "outputs": [],
   "source": [
    "new_column_names = list(map((lambda x : '_'.join(x.split(' ')).lower()), list(temp_df.columns)))\n",
    "new_column_names[-1] = 'reason'"
   ]
  },
  {
   "cell_type": "code",
   "execution_count": 19,
   "metadata": {
    "ExecuteTime": {
     "end_time": "2019-10-22T00:05:01.721757Z",
     "start_time": "2019-10-22T00:05:01.681145Z"
    }
   },
   "outputs": [
    {
     "data": {
      "text/plain": [
       "['castle_1',\n",
       " 'castle_2',\n",
       " 'castle_3',\n",
       " 'castle_4',\n",
       " 'castle_5',\n",
       " 'castle_6',\n",
       " 'castle_7',\n",
       " 'castle_8',\n",
       " 'castle_9',\n",
       " 'castle_10',\n",
       " 'reason']"
      ]
     },
     "execution_count": 19,
     "metadata": {},
     "output_type": "execute_result"
    }
   ],
   "source": [
    "new_column_names"
   ]
  },
  {
   "cell_type": "code",
   "execution_count": 20,
   "metadata": {
    "ExecuteTime": {
     "end_time": "2019-10-22T00:05:01.766484Z",
     "start_time": "2019-10-22T00:05:01.738022Z"
    }
   },
   "outputs": [],
   "source": [
    "temp_df.rename(dict(zip(list(temp_df.columns), new_column_names)), axis=1, inplace=True)"
   ]
  },
  {
   "cell_type": "code",
   "execution_count": 21,
   "metadata": {
    "ExecuteTime": {
     "end_time": "2019-10-22T00:05:01.818568Z",
     "start_time": "2019-10-22T00:05:01.769233Z"
    }
   },
   "outputs": [],
   "source": [
    "# for castle in range(1, 11):\n",
    "#     temp_df['castle_{}'.format(castle)] = temp_df['castle_{}'.format(castle)].astype(int)"
   ]
  },
  {
   "cell_type": "code",
   "execution_count": 22,
   "metadata": {
    "ExecuteTime": {
     "end_time": "2019-10-22T00:05:01.878874Z",
     "start_time": "2019-10-22T00:05:01.823852Z"
    }
   },
   "outputs": [],
   "source": [
    "temp_df['total_troops'] = temp_df['castle_1'] + \\\n",
    "                          temp_df['castle_2'] + \\\n",
    "                          temp_df['castle_3'] + \\\n",
    "                          temp_df['castle_4'] + \\\n",
    "                          temp_df['castle_5'] + \\\n",
    "                          temp_df['castle_6'] + \\\n",
    "                          temp_df['castle_7'] + \\\n",
    "                          temp_df['castle_8'] + \\\n",
    "                          temp_df['castle_9'] + \\\n",
    "                          temp_df['castle_10']"
   ]
  },
  {
   "cell_type": "code",
   "execution_count": 23,
   "metadata": {
    "ExecuteTime": {
     "end_time": "2019-10-22T00:05:01.942969Z",
     "start_time": "2019-10-22T00:05:01.882451Z"
    }
   },
   "outputs": [
    {
     "data": {
      "text/html": [
       "<div>\n",
       "<style scoped>\n",
       "    .dataframe tbody tr th:only-of-type {\n",
       "        vertical-align: middle;\n",
       "    }\n",
       "\n",
       "    .dataframe tbody tr th {\n",
       "        vertical-align: top;\n",
       "    }\n",
       "\n",
       "    .dataframe thead th {\n",
       "        text-align: right;\n",
       "    }\n",
       "</style>\n",
       "<table border=\"1\" class=\"dataframe\">\n",
       "  <thead>\n",
       "    <tr style=\"text-align: right;\">\n",
       "      <th></th>\n",
       "      <th>castle_1</th>\n",
       "      <th>castle_2</th>\n",
       "      <th>castle_3</th>\n",
       "      <th>castle_4</th>\n",
       "      <th>castle_5</th>\n",
       "      <th>castle_6</th>\n",
       "      <th>castle_7</th>\n",
       "      <th>castle_8</th>\n",
       "      <th>castle_9</th>\n",
       "      <th>castle_10</th>\n",
       "      <th>reason</th>\n",
       "      <th>total_troops</th>\n",
       "    </tr>\n",
       "  </thead>\n",
       "  <tbody>\n",
       "    <tr>\n",
       "      <td>0</td>\n",
       "      <td>0.0</td>\n",
       "      <td>1.0</td>\n",
       "      <td>2.0</td>\n",
       "      <td>16.0</td>\n",
       "      <td>21.0</td>\n",
       "      <td>3.0</td>\n",
       "      <td>2.0</td>\n",
       "      <td>1.0</td>\n",
       "      <td>32.0</td>\n",
       "      <td>22.0</td>\n",
       "      <td>Good against the last round; great against eve...</td>\n",
       "      <td>100.0</td>\n",
       "    </tr>\n",
       "    <tr>\n",
       "      <td>1</td>\n",
       "      <td>0.0</td>\n",
       "      <td>3.0</td>\n",
       "      <td>4.0</td>\n",
       "      <td>14.0</td>\n",
       "      <td>15.0</td>\n",
       "      <td>5.0</td>\n",
       "      <td>5.0</td>\n",
       "      <td>5.0</td>\n",
       "      <td>33.0</td>\n",
       "      <td>16.0</td>\n",
       "      <td>I figure most people will use strategies that ...</td>\n",
       "      <td>100.0</td>\n",
       "    </tr>\n",
       "    <tr>\n",
       "      <td>2</td>\n",
       "      <td>0.0</td>\n",
       "      <td>0.0</td>\n",
       "      <td>0.0</td>\n",
       "      <td>15.0</td>\n",
       "      <td>19.0</td>\n",
       "      <td>1.0</td>\n",
       "      <td>1.0</td>\n",
       "      <td>1.0</td>\n",
       "      <td>32.0</td>\n",
       "      <td>31.0</td>\n",
       "      <td>Previous winner won 84%. Took the 90%ile of th...</td>\n",
       "      <td>100.0</td>\n",
       "    </tr>\n",
       "    <tr>\n",
       "      <td>3</td>\n",
       "      <td>3.0</td>\n",
       "      <td>3.0</td>\n",
       "      <td>3.0</td>\n",
       "      <td>17.0</td>\n",
       "      <td>17.0</td>\n",
       "      <td>3.0</td>\n",
       "      <td>4.0</td>\n",
       "      <td>4.0</td>\n",
       "      <td>23.0</td>\n",
       "      <td>23.0</td>\n",
       "      <td>10+9+5+4=28 for the win.  Plus, if you put 0 i...</td>\n",
       "      <td>100.0</td>\n",
       "    </tr>\n",
       "    <tr>\n",
       "      <td>4</td>\n",
       "      <td>0.0</td>\n",
       "      <td>0.0</td>\n",
       "      <td>0.0</td>\n",
       "      <td>16.0</td>\n",
       "      <td>21.0</td>\n",
       "      <td>0.0</td>\n",
       "      <td>0.0</td>\n",
       "      <td>0.0</td>\n",
       "      <td>36.0</td>\n",
       "      <td>27.0</td>\n",
       "      <td>Near optimal integer program vs previous round...</td>\n",
       "      <td>100.0</td>\n",
       "    </tr>\n",
       "  </tbody>\n",
       "</table>\n",
       "</div>"
      ],
      "text/plain": [
       "   castle_1  castle_2  castle_3  castle_4  castle_5  castle_6  castle_7  \\\n",
       "0       0.0       1.0       2.0      16.0      21.0       3.0       2.0   \n",
       "1       0.0       3.0       4.0      14.0      15.0       5.0       5.0   \n",
       "2       0.0       0.0       0.0      15.0      19.0       1.0       1.0   \n",
       "3       3.0       3.0       3.0      17.0      17.0       3.0       4.0   \n",
       "4       0.0       0.0       0.0      16.0      21.0       0.0       0.0   \n",
       "\n",
       "   castle_8  castle_9  castle_10  \\\n",
       "0       1.0      32.0       22.0   \n",
       "1       5.0      33.0       16.0   \n",
       "2       1.0      32.0       31.0   \n",
       "3       4.0      23.0       23.0   \n",
       "4       0.0      36.0       27.0   \n",
       "\n",
       "                                              reason  total_troops  \n",
       "0  Good against the last round; great against eve...         100.0  \n",
       "1  I figure most people will use strategies that ...         100.0  \n",
       "2  Previous winner won 84%. Took the 90%ile of th...         100.0  \n",
       "3  10+9+5+4=28 for the win.  Plus, if you put 0 i...         100.0  \n",
       "4  Near optimal integer program vs previous round...         100.0  "
      ]
     },
     "execution_count": 23,
     "metadata": {},
     "output_type": "execute_result"
    }
   ],
   "source": [
    "temp_df.head()"
   ]
  },
  {
   "cell_type": "code",
   "execution_count": 24,
   "metadata": {
    "ExecuteTime": {
     "end_time": "2019-10-22T00:05:01.978140Z",
     "start_time": "2019-10-22T00:05:01.955224Z"
    }
   },
   "outputs": [
    {
     "data": {
      "text/plain": [
       "903"
      ]
     },
     "execution_count": 24,
     "metadata": {},
     "output_type": "execute_result"
    }
   ],
   "source": [
    "len(temp_df[temp_df.total_troops == 100])"
   ]
  },
  {
   "cell_type": "code",
   "execution_count": 25,
   "metadata": {
    "ExecuteTime": {
     "end_time": "2019-10-22T00:05:02.067153Z",
     "start_time": "2019-10-22T00:05:01.983363Z"
    }
   },
   "outputs": [],
   "source": [
    "full_strats_df = temp_df[temp_df.total_troops == 100].copy()"
   ]
  },
  {
   "cell_type": "code",
   "execution_count": 26,
   "metadata": {
    "ExecuteTime": {
     "end_time": "2019-10-22T00:05:02.149379Z",
     "start_time": "2019-10-22T00:05:02.078742Z"
    }
   },
   "outputs": [
    {
     "data": {
      "text/html": [
       "<div>\n",
       "<style scoped>\n",
       "    .dataframe tbody tr th:only-of-type {\n",
       "        vertical-align: middle;\n",
       "    }\n",
       "\n",
       "    .dataframe tbody tr th {\n",
       "        vertical-align: top;\n",
       "    }\n",
       "\n",
       "    .dataframe thead th {\n",
       "        text-align: right;\n",
       "    }\n",
       "</style>\n",
       "<table border=\"1\" class=\"dataframe\">\n",
       "  <thead>\n",
       "    <tr style=\"text-align: right;\">\n",
       "      <th></th>\n",
       "      <th>castle_1</th>\n",
       "      <th>castle_2</th>\n",
       "      <th>castle_3</th>\n",
       "      <th>castle_4</th>\n",
       "      <th>castle_5</th>\n",
       "      <th>castle_6</th>\n",
       "      <th>castle_7</th>\n",
       "      <th>castle_8</th>\n",
       "      <th>castle_9</th>\n",
       "      <th>castle_10</th>\n",
       "      <th>reason</th>\n",
       "      <th>total_troops</th>\n",
       "    </tr>\n",
       "  </thead>\n",
       "  <tbody>\n",
       "    <tr>\n",
       "      <td>0</td>\n",
       "      <td>0.0</td>\n",
       "      <td>1.0</td>\n",
       "      <td>2.0</td>\n",
       "      <td>16.0</td>\n",
       "      <td>21.0</td>\n",
       "      <td>3.0</td>\n",
       "      <td>2.0</td>\n",
       "      <td>1.0</td>\n",
       "      <td>32.0</td>\n",
       "      <td>22.0</td>\n",
       "      <td>Good against the last round; great against eve...</td>\n",
       "      <td>100.0</td>\n",
       "    </tr>\n",
       "    <tr>\n",
       "      <td>1</td>\n",
       "      <td>0.0</td>\n",
       "      <td>3.0</td>\n",
       "      <td>4.0</td>\n",
       "      <td>14.0</td>\n",
       "      <td>15.0</td>\n",
       "      <td>5.0</td>\n",
       "      <td>5.0</td>\n",
       "      <td>5.0</td>\n",
       "      <td>33.0</td>\n",
       "      <td>16.0</td>\n",
       "      <td>I figure most people will use strategies that ...</td>\n",
       "      <td>100.0</td>\n",
       "    </tr>\n",
       "    <tr>\n",
       "      <td>2</td>\n",
       "      <td>0.0</td>\n",
       "      <td>0.0</td>\n",
       "      <td>0.0</td>\n",
       "      <td>15.0</td>\n",
       "      <td>19.0</td>\n",
       "      <td>1.0</td>\n",
       "      <td>1.0</td>\n",
       "      <td>1.0</td>\n",
       "      <td>32.0</td>\n",
       "      <td>31.0</td>\n",
       "      <td>Previous winner won 84%. Took the 90%ile of th...</td>\n",
       "      <td>100.0</td>\n",
       "    </tr>\n",
       "    <tr>\n",
       "      <td>3</td>\n",
       "      <td>3.0</td>\n",
       "      <td>3.0</td>\n",
       "      <td>3.0</td>\n",
       "      <td>17.0</td>\n",
       "      <td>17.0</td>\n",
       "      <td>3.0</td>\n",
       "      <td>4.0</td>\n",
       "      <td>4.0</td>\n",
       "      <td>23.0</td>\n",
       "      <td>23.0</td>\n",
       "      <td>10+9+5+4=28 for the win.  Plus, if you put 0 i...</td>\n",
       "      <td>100.0</td>\n",
       "    </tr>\n",
       "    <tr>\n",
       "      <td>4</td>\n",
       "      <td>0.0</td>\n",
       "      <td>0.0</td>\n",
       "      <td>0.0</td>\n",
       "      <td>16.0</td>\n",
       "      <td>21.0</td>\n",
       "      <td>0.0</td>\n",
       "      <td>0.0</td>\n",
       "      <td>0.0</td>\n",
       "      <td>36.0</td>\n",
       "      <td>27.0</td>\n",
       "      <td>Near optimal integer program vs previous round...</td>\n",
       "      <td>100.0</td>\n",
       "    </tr>\n",
       "  </tbody>\n",
       "</table>\n",
       "</div>"
      ],
      "text/plain": [
       "   castle_1  castle_2  castle_3  castle_4  castle_5  castle_6  castle_7  \\\n",
       "0       0.0       1.0       2.0      16.0      21.0       3.0       2.0   \n",
       "1       0.0       3.0       4.0      14.0      15.0       5.0       5.0   \n",
       "2       0.0       0.0       0.0      15.0      19.0       1.0       1.0   \n",
       "3       3.0       3.0       3.0      17.0      17.0       3.0       4.0   \n",
       "4       0.0       0.0       0.0      16.0      21.0       0.0       0.0   \n",
       "\n",
       "   castle_8  castle_9  castle_10  \\\n",
       "0       1.0      32.0       22.0   \n",
       "1       5.0      33.0       16.0   \n",
       "2       1.0      32.0       31.0   \n",
       "3       4.0      23.0       23.0   \n",
       "4       0.0      36.0       27.0   \n",
       "\n",
       "                                              reason  total_troops  \n",
       "0  Good against the last round; great against eve...         100.0  \n",
       "1  I figure most people will use strategies that ...         100.0  \n",
       "2  Previous winner won 84%. Took the 90%ile of th...         100.0  \n",
       "3  10+9+5+4=28 for the win.  Plus, if you put 0 i...         100.0  \n",
       "4  Near optimal integer program vs previous round...         100.0  "
      ]
     },
     "execution_count": 26,
     "metadata": {},
     "output_type": "execute_result"
    }
   ],
   "source": [
    "full_strats_df.head()"
   ]
  },
  {
   "cell_type": "code",
   "execution_count": 27,
   "metadata": {
    "ExecuteTime": {
     "end_time": "2019-10-22T00:05:02.247347Z",
     "start_time": "2019-10-22T00:05:02.173139Z"
    }
   },
   "outputs": [],
   "source": [
    "full_strats_list = full_strats_df.to_dict('records')"
   ]
  },
  {
   "cell_type": "code",
   "execution_count": 28,
   "metadata": {
    "ExecuteTime": {
     "end_time": "2019-10-22T00:05:02.313224Z",
     "start_time": "2019-10-22T00:05:02.262455Z"
    }
   },
   "outputs": [],
   "source": [
    "simp_strats_list = [[x[1] for x in list(y.items())[:10]] for y in full_strats_list]"
   ]
  },
  {
   "cell_type": "code",
   "execution_count": 29,
   "metadata": {
    "ExecuteTime": {
     "end_time": "2019-10-22T00:05:02.364144Z",
     "start_time": "2019-10-22T00:05:02.315948Z"
    }
   },
   "outputs": [
    {
     "data": {
      "text/plain": [
       "[[0.0, 1.0, 2.0, 16.0, 21.0, 3.0, 2.0, 1.0, 32.0, 22.0],\n",
       " [0.0, 3.0, 4.0, 14.0, 15.0, 5.0, 5.0, 5.0, 33.0, 16.0],\n",
       " [0.0, 0.0, 0.0, 15.0, 19.0, 1.0, 1.0, 1.0, 32.0, 31.0],\n",
       " [3.0, 3.0, 3.0, 17.0, 17.0, 3.0, 4.0, 4.0, 23.0, 23.0],\n",
       " [0.0, 0.0, 0.0, 16.0, 21.0, 0.0, 0.0, 0.0, 36.0, 27.0]]"
      ]
     },
     "execution_count": 29,
     "metadata": {},
     "output_type": "execute_result"
    }
   ],
   "source": [
    "simp_strats_list[:5]"
   ]
  },
  {
   "cell_type": "markdown",
   "metadata": {},
   "source": [
    "# Algorithm"
   ]
  },
  {
   "cell_type": "markdown",
   "metadata": {},
   "source": [
    "## compute fitness (pairwise battle)"
   ]
  },
  {
   "cell_type": "markdown",
   "metadata": {},
   "source": [
    "we could even do groups of (n) battle to compute fitness"
   ]
  },
  {
   "cell_type": "code",
   "execution_count": 30,
   "metadata": {
    "ExecuteTime": {
     "end_time": "2019-10-22T00:05:14.564823Z",
     "start_time": "2019-10-22T00:05:06.374986Z"
    }
   },
   "outputs": [],
   "source": [
    "results = []\n",
    "for i in range(len(simp_strats_list)):\n",
    "    temp_result = 0\n",
    "    strat_a = simp_strats_list[i]\n",
    "    for j in range(len(simp_strats_list)):\n",
    "        if not i == j:\n",
    "            strat_b = simp_strats_list[j]\n",
    "            temp_result += bu.battle(strat_a, strat_b, weights, weights)\n",
    "            \n",
    "    results.append((strat_a, temp_result))"
   ]
  },
  {
   "cell_type": "markdown",
   "metadata": {},
   "source": [
    "keep half"
   ]
  },
  {
   "cell_type": "code",
   "execution_count": 31,
   "metadata": {
    "ExecuteTime": {
     "end_time": "2019-10-22T00:05:16.154469Z",
     "start_time": "2019-10-22T00:05:16.135614Z"
    }
   },
   "outputs": [],
   "source": [
    "fittest = sorted(results, key=(lambda x: x[1]), reverse=True)[:len(results) // 2]"
   ]
  },
  {
   "cell_type": "markdown",
   "metadata": {},
   "source": [
    "## crossover"
   ]
  },
  {
   "cell_type": "markdown",
   "metadata": {},
   "source": [
    "## mutation"
   ]
  },
  {
   "cell_type": "code",
   "execution_count": 32,
   "metadata": {
    "ExecuteTime": {
     "end_time": "2019-10-22T00:05:18.723529Z",
     "start_time": "2019-10-22T00:05:18.704434Z"
    }
   },
   "outputs": [],
   "source": [
    "temp_noise = bu.generate_noise_arrays(5)"
   ]
  },
  {
   "cell_type": "code",
   "execution_count": 33,
   "metadata": {
    "ExecuteTime": {
     "end_time": "2019-10-22T00:05:19.638125Z",
     "start_time": "2019-10-22T00:05:19.613011Z"
    }
   },
   "outputs": [],
   "source": [
    "mutated_strats = []\n",
    "for fit_strat in fittest:\n",
    "    random.seed(0)\n",
    "    noise = random.choice(temp_noise)\n",
    "    new_strat = [x+y for x, y in zip(fit_strat[0], noise)]\n",
    "    if all(map((lambda x : x >= 0), new_strat)):\n",
    "        mutated_strats.append(new_strat)\n",
    "    else:\n",
    "#         print(new_strat)\n",
    "        pass"
   ]
  },
  {
   "cell_type": "code",
   "execution_count": 34,
   "metadata": {
    "ExecuteTime": {
     "end_time": "2019-10-22T00:05:22.276783Z",
     "start_time": "2019-10-22T00:05:22.254220Z"
    }
   },
   "outputs": [
    {
     "data": {
      "text/plain": [
       "285"
      ]
     },
     "execution_count": 34,
     "metadata": {},
     "output_type": "execute_result"
    }
   ],
   "source": [
    "len(mutated_strats)"
   ]
  },
  {
   "cell_type": "code",
   "execution_count": 35,
   "metadata": {
    "ExecuteTime": {
     "end_time": "2019-10-22T00:05:32.051025Z",
     "start_time": "2019-10-22T00:05:32.017116Z"
    }
   },
   "outputs": [],
   "source": [
    "fittest_mutated_strats = [x[0] for x in fittest] + mutated_strats"
   ]
  },
  {
   "cell_type": "code",
   "execution_count": 36,
   "metadata": {
    "ExecuteTime": {
     "end_time": "2019-10-22T00:05:39.693698Z",
     "start_time": "2019-10-22T00:05:33.738264Z"
    }
   },
   "outputs": [],
   "source": [
    "new_results = []\n",
    "for i in range(len(fittest_mutated_strats)):\n",
    "    temp_result = 0\n",
    "    strat_a = fittest_mutated_strats[i]\n",
    "    for j in range(len(fittest_mutated_strats)):\n",
    "        if not i == j:\n",
    "            strat_b = fittest_mutated_strats[j]\n",
    "            temp_result += bu.battle(strat_a, strat_b, weights, weights)\n",
    "            \n",
    "    new_results.append((strat_a, temp_result))"
   ]
  },
  {
   "cell_type": "code",
   "execution_count": 37,
   "metadata": {
    "ExecuteTime": {
     "end_time": "2019-10-22T00:05:39.908261Z",
     "start_time": "2019-10-22T00:05:39.866090Z"
    }
   },
   "outputs": [
    {
     "data": {
      "text/plain": [
       "[([0.0, 0.0, 0.0, 16.0, 21.0, 0.0, 0.0, 0.0, 36.0, 27.0], 580),\n",
       " ([0.0, 0.0, 0.0, 16.0, 21.0, 0.0, 0.0, 0.0, 31.0, 32.0], 575),\n",
       " ([0.0, 0.0, 0.0, 15.0, 19.0, 1.0, 1.0, 1.0, 32.0, 31.0], 567),\n",
       " ([1.0, 1.0, 12.0, 1.0, 1.0, 24.0, 1.0, 1.0, 28.0, 30.0], 555),\n",
       " ([0.0, 0.0, 12.0, 0.0, 1.0, 22.0, 1.0, 1.0, 32.0, 31.0], 554),\n",
       " ([0.0, 0.0, 0.0, 0.0, 22.0, 23.0, 28.0, 0.0, 0.0, 27.0], 552),\n",
       " ([0.0, 0.0, 0.0, 17.0, 17.0, 0.0, 0.0, 0.0, 30.0, 36.0], 549),\n",
       " ([0.0, 0.0, 0.0, 0.0, 19.0, 24.0, 27.0, 0.0, 0.0, 30.0], 549),\n",
       " ([1.0, 1.0, 2.0, 16.0, 19.0, 4.0, 4.0, 4.0, 22.0, 27.0], 546),\n",
       " ([1.0, 1.0, 2.0, 18.0, 23.0, 2.0, 3.0, 3.0, 26.0, 21.0], 542),\n",
       " ([1.0, 1.0, 1.0, 1.0, 17.0, 17.0, 6.0, 11.0, 22.0, 23.0], 542),\n",
       " ([1.0, 1.0, 2.0, 18.0, 18.0, 2.0, 3.0, 3.0, 26.0, 26.0], 538),\n",
       " ([0.0, 1.0, 2.0, 16.0, 21.0, 3.0, 2.0, 1.0, 32.0, 22.0], 534),\n",
       " ([0.0, 8.0, 0.0, 0.0, 0.0, 1.0, 28.0, 1.0, 33.0, 29.0], 534),\n",
       " ([0.0, 3.0, 4.0, 14.0, 15.0, 5.0, 5.0, 5.0, 33.0, 16.0], 534),\n",
       " ([3.0, 3.0, 3.0, 17.0, 17.0, 3.0, 4.0, 4.0, 23.0, 23.0], 528),\n",
       " ([0.0, 0.0, 0.0, 16.0, 16.0, 2.0, 2.0, 2.0, 31.0, 31.0], 527),\n",
       " ([1.0, 1.0, 1.0, 6.0, 17.0, 17.0, 6.0, 6.0, 22.0, 23.0], 527),\n",
       " ([0.0, 0.0, 0.0, 16.0, 21.0, 5.0, 0.0, 0.0, 26.0, 32.0], 527),\n",
       " ([1.0, 3.0, 3.0, 20.0, 20.0, 3.0, 5.0, 5.0, 20.0, 20.0], 526),\n",
       " ([1.0, 1.0, 1.0, 15.0, 20.0, 1.0, 1.0, 1.0, 30.0, 29.0], 525),\n",
       " ([9.0, 0.0, 0.0, 0.0, 0.0, 0.0, 0.0, 32.0, 32.0, 27.0], 525),\n",
       " ([2.0, 6.0, 2.0, 14.0, 21.0, 2.0, 6.0, 5.0, 21.0, 21.0], 522),\n",
       " ([0.0, 8.0, 0.0, 0.0, 0.0, 0.0, 28.0, 0.0, 32.0, 32.0], 520),\n",
       " ([6.0, 0.0, 0.0, 0.0, 0.0, 1.0, 2.0, 33.0, 33.0, 25.0], 515),\n",
       " ([0.0, 0.0, 0.0, 16.0, 16.0, 5.0, 0.0, 0.0, 36.0, 27.0], 514),\n",
       " ([6.0, 0.0, 0.0, 0.0, 0.0, 0.0, 0.0, 33.0, 32.0, 29.0], 514),\n",
       " ([6.0, 0.0, 0.0, 0.0, 0.0, 0.0, 0.0, 38.0, 32.0, 24.0], 513),\n",
       " ([9.0, 1.0, 1.0, 1.0, 1.0, 1.0, 1.0, 35.0, 25.0, 25.0], 509),\n",
       " ([0.0, 0.0, 0.0, 15.0, 18.0, 1.0, 1.0, 1.0, 26.0, 38.0], 503)]"
      ]
     },
     "execution_count": 37,
     "metadata": {},
     "output_type": "execute_result"
    }
   ],
   "source": [
    "sorted(new_results, key=(lambda x: x[1]), reverse=True)[:30]"
   ]
  },
  {
   "cell_type": "code",
   "execution_count": 38,
   "metadata": {
    "ExecuteTime": {
     "end_time": "2019-10-22T00:05:40.173198Z",
     "start_time": "2019-10-22T00:05:40.141127Z"
    }
   },
   "outputs": [
    {
     "data": {
      "text/plain": [
       "[([0.0, 4.0, 6.0, 9.0, 12.0, 0.0, 27.0, 32.0, 5.0, 5.0], 147),\n",
       " ([0.0, 5.0, 6.0, 13.0, 14.0, 21.0, 1.0, 31.0, 6.0, 3.0], 146),\n",
       " ([1.0, 3.0, 14.0, 12.0, 12.0, 19.0, 1.0, 2.0, 32.0, 4.0], 145),\n",
       " ([3.0, 6.0, 8.0, 7.0, 21.0, 16.0, 2.0, 33.0, 4.0, 0.0], 141),\n",
       " ([7.0, 3.0, 3.0, 4.0, 6.0, 11.0, 26.0, 26.0, 12.0, 2.0], 141),\n",
       " ([0.0, 4.0, 6.0, 14.0, 12.0, 0.0, 27.0, 32.0, 5.0, 0.0], 137),\n",
       " ([2.0, 5.0, 7.0, 11.0, 11.0, 21.0, 2.0, 31.0, 5.0, 5.0], 135),\n",
       " ([4.0, 5.0, 5.0, 1.0, 10.0, 20.0, 20.0, 25.0, 2.0, 8.0], 134),\n",
       " ([5.0, 6.0, 2.0, 12.0, 12.0, 21.0, 3.0, 31.0, 3.0, 5.0], 131),\n",
       " ([0.0, 0.0, 5.0, 5.0, 5.0, 5.0, 35.0, 40.0, 0.0, 5.0], 130),\n",
       " ([0.0, 5.0, 7.0, 9.0, 12.0, 1.0, 26.0, 31.0, 4.0, 5.0], 129),\n",
       " ([5.0, 5.0, 7.0, 9.0, 18.0, 16.0, 3.0, 31.0, 1.0, 5.0], 129),\n",
       " ([3.0, 3.0, 3.0, 8.0, 20.0, 20.0, 31.0, 2.0, 5.0, 5.0], 126),\n",
       " ([0.0, 5.0, 6.0, 9.0, 12.0, 1.0, 26.0, 31.0, 5.0, 5.0], 125),\n",
       " ([1.0, 6.0, 8.0, 11.0, 5.0, 5.0, 27.0, 27.0, 5.0, 5.0], 124),\n",
       " ([3.0, 3.0, 3.0, 3.0, 3.0, 10.0, 30.0, 38.0, 6.0, 1.0], 119),\n",
       " ([5.0, 3.0, 3.0, 3.0, 16.0, 16.0, 21.0, 26.0, 6.0, 1.0], 108),\n",
       " ([7.0, 5.0, 7.0, 11.0, 11.0, 21.0, 2.0, 26.0, 5.0, 5.0], 100),\n",
       " ([4.0, 9.0, 5.0, 5.0, 5.0, 31.0, 31.0, 0.0, 5.0, 5.0], 99),\n",
       " ([1.0, 6.0, 8.0, 11.0, 5.0, 10.0, 27.0, 27.0, 0.0, 5.0], 99)]"
      ]
     },
     "execution_count": 38,
     "metadata": {},
     "output_type": "execute_result"
    }
   ],
   "source": [
    "sorted(new_results, key=(lambda x: x[1]), reverse=True)[-20:]"
   ]
  },
  {
   "cell_type": "code",
   "execution_count": null,
   "metadata": {
    "ExecuteTime": {
     "end_time": "2019-10-21T01:44:24.349526Z",
     "start_time": "2019-10-21T01:44:24.310532Z"
    }
   },
   "outputs": [],
   "source": [
    "sorted(results, key=(lambda x: x[1]), reverse=True)[:30]"
   ]
  },
  {
   "cell_type": "markdown",
   "metadata": {},
   "source": [
    "### fitness\n",
    "Only can compute relative to current population of strategies.\n",
    "* by running all the strategies against all other strategies\n",
    "* keep a percentage -> mutation then run again"
   ]
  },
  {
   "cell_type": "markdown",
   "metadata": {},
   "source": [
    "### crossover"
   ]
  },
  {
   "cell_type": "markdown",
   "metadata": {},
   "source": [
    "i guess it's generating a new strategy from previous strategy(s). One way we can do this - for 2 strategies $a$ and $b$. see who wins and by how much then do a weighted average of each ocmponent to form the new strategy\n",
    "$$c = cross(a, b)$$\n"
   ]
  },
  {
   "cell_type": "markdown",
   "metadata": {},
   "source": [
    "### mutation\n",
    "how do i mutate a strategy?\n",
    "* generate noise arrays and add them to strategies\n",
    "* use the noisiness as the degree of mutation/variation\n",
    "\n",
    "not really a mutation, but we could take the average of all 'better' strategies and see how that performs\n",
    "* hypothesize that it won't do as well since strategies are good when they don't waste resources and by smoothing out edge in battlefields we lose that literal edge\n",
    "* move all of one troop to another battle field -> extreme mutation"
   ]
  },
  {
   "cell_type": "code",
   "execution_count": 50,
   "metadata": {
    "ExecuteTime": {
     "end_time": "2019-10-19T19:30:41.029846Z",
     "start_time": "2019-10-19T19:30:41.009228Z"
    }
   },
   "outputs": [],
   "source": [
    "temp_noise = generate_noise_arrays(5)"
   ]
  },
  {
   "cell_type": "code",
   "execution_count": 51,
   "metadata": {
    "ExecuteTime": {
     "end_time": "2019-10-19T19:30:44.122344Z",
     "start_time": "2019-10-19T19:30:44.070312Z"
    }
   },
   "outputs": [
    {
     "data": {
      "text/plain": [
       "90"
      ]
     },
     "execution_count": 51,
     "metadata": {},
     "output_type": "execute_result"
    }
   ],
   "source": [
    "len(temp_noise)"
   ]
  },
  {
   "cell_type": "code",
   "execution_count": 52,
   "metadata": {
    "ExecuteTime": {
     "end_time": "2019-10-19T19:30:48.506966Z",
     "start_time": "2019-10-19T19:30:48.482953Z"
    }
   },
   "outputs": [
    {
     "data": {
      "text/plain": [
       "[[5, -5, 0, 0, 0, 0, 0, 0, 0, 0],\n",
       " [-5, 5, 0, 0, 0, 0, 0, 0, 0, 0],\n",
       " [5, 0, -5, 0, 0, 0, 0, 0, 0, 0],\n",
       " [-5, 0, 5, 0, 0, 0, 0, 0, 0, 0],\n",
       " [5, 0, 0, -5, 0, 0, 0, 0, 0, 0]]"
      ]
     },
     "execution_count": 52,
     "metadata": {},
     "output_type": "execute_result"
    }
   ],
   "source": [
    "temp_noise[:5]"
   ]
  },
  {
   "cell_type": "code",
   "execution_count": 53,
   "metadata": {
    "ExecuteTime": {
     "end_time": "2019-10-19T19:31:24.029376Z",
     "start_time": "2019-10-19T19:31:24.006614Z"
    }
   },
   "outputs": [],
   "source": [
    "temp_strat = [0.0, 1.0, 2.0, 16.0, 21.0, 3.0, 2.0, 1.0, 32.0, 22.0]"
   ]
  },
  {
   "cell_type": "code",
   "execution_count": 63,
   "metadata": {
    "ExecuteTime": {
     "end_time": "2019-10-19T19:38:07.025087Z",
     "start_time": "2019-10-19T19:38:06.987790Z"
    },
    "collapsed": true
   },
   "outputs": [
    {
     "name": "stdout",
     "output_type": "stream",
     "text": [
      "[5.0, -4.0, 2.0, 16.0, 21.0, 3.0, 2.0, 1.0, 32.0, 22.0]\n",
      "[-5.0, 6.0, 2.0, 16.0, 21.0, 3.0, 2.0, 1.0, 32.0, 22.0]\n",
      "[5.0, 1.0, -3.0, 16.0, 21.0, 3.0, 2.0, 1.0, 32.0, 22.0]\n",
      "[-5.0, 1.0, 7.0, 16.0, 21.0, 3.0, 2.0, 1.0, 32.0, 22.0]\n",
      "[-5.0, 1.0, 2.0, 21.0, 21.0, 3.0, 2.0, 1.0, 32.0, 22.0]\n",
      "[-5.0, 1.0, 2.0, 16.0, 26.0, 3.0, 2.0, 1.0, 32.0, 22.0]\n",
      "[5.0, 1.0, 2.0, 16.0, 21.0, -2.0, 2.0, 1.0, 32.0, 22.0]\n",
      "[-5.0, 1.0, 2.0, 16.0, 21.0, 8.0, 2.0, 1.0, 32.0, 22.0]\n",
      "[5.0, 1.0, 2.0, 16.0, 21.0, 3.0, -3.0, 1.0, 32.0, 22.0]\n",
      "[-5.0, 1.0, 2.0, 16.0, 21.0, 3.0, 7.0, 1.0, 32.0, 22.0]\n",
      "[5.0, 1.0, 2.0, 16.0, 21.0, 3.0, 2.0, -4.0, 32.0, 22.0]\n",
      "[-5.0, 1.0, 2.0, 16.0, 21.0, 3.0, 2.0, 6.0, 32.0, 22.0]\n",
      "[-5.0, 1.0, 2.0, 16.0, 21.0, 3.0, 2.0, 1.0, 37.0, 22.0]\n",
      "[-5.0, 1.0, 2.0, 16.0, 21.0, 3.0, 2.0, 1.0, 32.0, 27.0]\n",
      "[0.0, 6.0, -3.0, 16.0, 21.0, 3.0, 2.0, 1.0, 32.0, 22.0]\n",
      "[0.0, -4.0, 7.0, 16.0, 21.0, 3.0, 2.0, 1.0, 32.0, 22.0]\n",
      "[0.0, -4.0, 2.0, 21.0, 21.0, 3.0, 2.0, 1.0, 32.0, 22.0]\n",
      "[0.0, -4.0, 2.0, 16.0, 26.0, 3.0, 2.0, 1.0, 32.0, 22.0]\n",
      "[0.0, 6.0, 2.0, 16.0, 21.0, -2.0, 2.0, 1.0, 32.0, 22.0]\n",
      "[0.0, -4.0, 2.0, 16.0, 21.0, 8.0, 2.0, 1.0, 32.0, 22.0]\n",
      "[0.0, 6.0, 2.0, 16.0, 21.0, 3.0, -3.0, 1.0, 32.0, 22.0]\n",
      "[0.0, -4.0, 2.0, 16.0, 21.0, 3.0, 7.0, 1.0, 32.0, 22.0]\n",
      "[0.0, 6.0, 2.0, 16.0, 21.0, 3.0, 2.0, -4.0, 32.0, 22.0]\n",
      "[0.0, -4.0, 2.0, 16.0, 21.0, 3.0, 2.0, 6.0, 32.0, 22.0]\n",
      "[0.0, -4.0, 2.0, 16.0, 21.0, 3.0, 2.0, 1.0, 37.0, 22.0]\n",
      "[0.0, -4.0, 2.0, 16.0, 21.0, 3.0, 2.0, 1.0, 32.0, 27.0]\n",
      "[0.0, 1.0, -3.0, 21.0, 21.0, 3.0, 2.0, 1.0, 32.0, 22.0]\n",
      "[0.0, 1.0, -3.0, 16.0, 26.0, 3.0, 2.0, 1.0, 32.0, 22.0]\n",
      "[0.0, 1.0, 7.0, 16.0, 21.0, -2.0, 2.0, 1.0, 32.0, 22.0]\n",
      "[0.0, 1.0, -3.0, 16.0, 21.0, 8.0, 2.0, 1.0, 32.0, 22.0]\n",
      "[0.0, 1.0, 7.0, 16.0, 21.0, 3.0, -3.0, 1.0, 32.0, 22.0]\n",
      "[0.0, 1.0, -3.0, 16.0, 21.0, 3.0, 7.0, 1.0, 32.0, 22.0]\n",
      "[0.0, 1.0, 7.0, 16.0, 21.0, 3.0, 2.0, -4.0, 32.0, 22.0]\n",
      "[0.0, 1.0, -3.0, 16.0, 21.0, 3.0, 2.0, 6.0, 32.0, 22.0]\n",
      "[0.0, 1.0, -3.0, 16.0, 21.0, 3.0, 2.0, 1.0, 37.0, 22.0]\n",
      "[0.0, 1.0, -3.0, 16.0, 21.0, 3.0, 2.0, 1.0, 32.0, 27.0]\n",
      "[0.0, 1.0, 2.0, 21.0, 21.0, -2.0, 2.0, 1.0, 32.0, 22.0]\n",
      "[0.0, 1.0, 2.0, 21.0, 21.0, 3.0, -3.0, 1.0, 32.0, 22.0]\n",
      "[0.0, 1.0, 2.0, 21.0, 21.0, 3.0, 2.0, -4.0, 32.0, 22.0]\n",
      "[0.0, 1.0, 2.0, 16.0, 26.0, -2.0, 2.0, 1.0, 32.0, 22.0]\n",
      "[0.0, 1.0, 2.0, 16.0, 26.0, 3.0, -3.0, 1.0, 32.0, 22.0]\n",
      "[0.0, 1.0, 2.0, 16.0, 26.0, 3.0, 2.0, -4.0, 32.0, 22.0]\n",
      "[0.0, 1.0, 2.0, 16.0, 21.0, 8.0, -3.0, 1.0, 32.0, 22.0]\n",
      "[0.0, 1.0, 2.0, 16.0, 21.0, -2.0, 7.0, 1.0, 32.0, 22.0]\n",
      "[0.0, 1.0, 2.0, 16.0, 21.0, 8.0, 2.0, -4.0, 32.0, 22.0]\n",
      "[0.0, 1.0, 2.0, 16.0, 21.0, -2.0, 2.0, 6.0, 32.0, 22.0]\n",
      "[0.0, 1.0, 2.0, 16.0, 21.0, -2.0, 2.0, 1.0, 37.0, 22.0]\n",
      "[0.0, 1.0, 2.0, 16.0, 21.0, -2.0, 2.0, 1.0, 32.0, 27.0]\n",
      "[0.0, 1.0, 2.0, 16.0, 21.0, 3.0, 7.0, -4.0, 32.0, 22.0]\n",
      "[0.0, 1.0, 2.0, 16.0, 21.0, 3.0, -3.0, 6.0, 32.0, 22.0]\n",
      "[0.0, 1.0, 2.0, 16.0, 21.0, 3.0, -3.0, 1.0, 37.0, 22.0]\n",
      "[0.0, 1.0, 2.0, 16.0, 21.0, 3.0, -3.0, 1.0, 32.0, 27.0]\n",
      "[0.0, 1.0, 2.0, 16.0, 21.0, 3.0, 2.0, -4.0, 37.0, 22.0]\n",
      "[0.0, 1.0, 2.0, 16.0, 21.0, 3.0, 2.0, -4.0, 32.0, 27.0]\n"
     ]
    }
   ],
   "source": [
    "mutated_strats = []\n",
    "for noise in temp_noise:\n",
    "    new_strat = [x+y for x, y in zip(temp_strat, noise)]\n",
    "    if all(map((lambda x : x >= 0), new_strat)):\n",
    "        mutated_strats.append(new_strat)\n",
    "    else:\n",
    "#         print(new_strat)\n",
    "        pass"
   ]
  },
  {
   "cell_type": "code",
   "execution_count": 64,
   "metadata": {
    "ExecuteTime": {
     "end_time": "2019-10-19T19:38:19.980664Z",
     "start_time": "2019-10-19T19:38:19.957839Z"
    }
   },
   "outputs": [
    {
     "data": {
      "text/plain": [
       "36"
      ]
     },
     "execution_count": 64,
     "metadata": {},
     "output_type": "execute_result"
    }
   ],
   "source": [
    "len(mutated_strats)"
   ]
  },
  {
   "cell_type": "code",
   "execution_count": 65,
   "metadata": {
    "ExecuteTime": {
     "end_time": "2019-10-21T01:34:01.527540Z",
     "start_time": "2019-10-21T01:34:01.493459Z"
    }
   },
   "outputs": [
    {
     "data": {
      "text/plain": [
       "[[5.0, 1.0, 2.0, 11.0, 21.0, 3.0, 2.0, 1.0, 32.0, 22.0],\n",
       " [5.0, 1.0, 2.0, 16.0, 16.0, 3.0, 2.0, 1.0, 32.0, 22.0],\n",
       " [5.0, 1.0, 2.0, 16.0, 21.0, 3.0, 2.0, 1.0, 27.0, 22.0],\n",
       " [5.0, 1.0, 2.0, 16.0, 21.0, 3.0, 2.0, 1.0, 32.0, 17.0]]"
      ]
     },
     "execution_count": 65,
     "metadata": {},
     "output_type": "execute_result"
    }
   ],
   "source": [
    "mutated_strats[:4]"
   ]
  },
  {
   "cell_type": "markdown",
   "metadata": {},
   "source": [
    "what about mixed strategies - also mutation mixed strategies"
   ]
  },
  {
   "cell_type": "code",
   "execution_count": 106,
   "metadata": {},
   "outputs": [
    {
     "data": {
      "text/plain": [
       "array(['I spent way too much time running genetic algorithms to do well against the strategies that did well last time, and then eventually randomly settled on this.'],\n",
       "      dtype=object)"
      ]
     },
     "execution_count": 106,
     "metadata": {},
     "output_type": "execute_result"
    }
   ],
   "source": [
    "temp_df[temp_df.total_troops != 100].loc[:, ['reason']].values[0]"
   ]
  },
  {
   "cell_type": "markdown",
   "metadata": {},
   "source": [
    "## Mixed Strategies"
   ]
  },
  {
   "cell_type": "code",
   "execution_count": null,
   "metadata": {},
   "outputs": [],
   "source": []
  }
 ],
 "metadata": {
  "kernelspec": {
   "display_name": "Python 3",
   "language": "python",
   "name": "python3"
  },
  "language_info": {
   "codemirror_mode": {
    "name": "ipython",
    "version": 3
   },
   "file_extension": ".py",
   "mimetype": "text/x-python",
   "name": "python",
   "nbconvert_exporter": "python",
   "pygments_lexer": "ipython3",
   "version": "3.6.8"
  },
  "varInspector": {
   "cols": {
    "lenName": 16,
    "lenType": 16,
    "lenVar": 40
   },
   "kernels_config": {
    "python": {
     "delete_cmd_postfix": "",
     "delete_cmd_prefix": "del ",
     "library": "var_list.py",
     "varRefreshCmd": "print(var_dic_list())"
    },
    "r": {
     "delete_cmd_postfix": ") ",
     "delete_cmd_prefix": "rm(",
     "library": "var_list.r",
     "varRefreshCmd": "cat(var_dic_list()) "
    }
   },
   "types_to_exclude": [
    "module",
    "function",
    "builtin_function_or_method",
    "instance",
    "_Feature"
   ],
   "window_display": false
  }
 },
 "nbformat": 4,
 "nbformat_minor": 2
}
