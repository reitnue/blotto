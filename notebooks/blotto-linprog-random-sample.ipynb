{
 "cells": [
  {
   "cell_type": "code",
   "execution_count": 10,
   "metadata": {
    "ExecuteTime": {
     "end_time": "2019-12-11T03:33:00.916362Z",
     "start_time": "2019-12-11T03:33:00.889518Z"
    }
   },
   "outputs": [],
   "source": [
    "import sys\n",
    "sys.path.append(\"../code\")\n",
    "import pandas as pd\n",
    "import random\n",
    "from glob import glob\n",
    "import matplotlib.pyplot as plt\n",
    "%matplotlib inline\n",
    "import numpy as np"
   ]
  },
  {
   "cell_type": "code",
   "execution_count": 2,
   "metadata": {
    "ExecuteTime": {
     "end_time": "2019-12-11T03:32:38.388287Z",
     "start_time": "2019-12-11T03:32:38.279881Z"
    }
   },
   "outputs": [],
   "source": [
    "import blotto_utils as bu\n",
    "from agent import Agent\n",
    "import agent_utils as au"
   ]
  },
  {
   "cell_type": "code",
   "execution_count": 3,
   "metadata": {
    "ExecuteTime": {
     "end_time": "2019-12-11T03:32:38.396653Z",
     "start_time": "2019-12-11T03:32:38.390960Z"
    }
   },
   "outputs": [],
   "source": [
    "import scipy.optimize"
   ]
  },
  {
   "cell_type": "code",
   "execution_count": 4,
   "metadata": {
    "ExecuteTime": {
     "end_time": "2019-12-11T03:32:38.430284Z",
     "start_time": "2019-12-11T03:32:38.400224Z"
    }
   },
   "outputs": [],
   "source": [
    "%load_ext autoreload\n",
    "%autoreload 2"
   ]
  },
  {
   "cell_type": "code",
   "execution_count": 5,
   "metadata": {
    "ExecuteTime": {
     "end_time": "2019-12-11T03:32:38.493793Z",
     "start_time": "2019-12-11T03:32:38.432826Z"
    }
   },
   "outputs": [
    {
     "data": {
      "text/html": [
       "<style>.container { width:95% !important; }</style>"
      ],
      "text/plain": [
       "<IPython.core.display.HTML object>"
      ]
     },
     "metadata": {},
     "output_type": "display_data"
    }
   ],
   "source": [
    "from IPython.core.display import display, HTML\n",
    "display(HTML(\"<style>.container { width:95% !important; }</style>\"))"
   ]
  },
  {
   "cell_type": "markdown",
   "metadata": {},
   "source": [
    "# 538 Data"
   ]
  },
  {
   "cell_type": "code",
   "execution_count": 6,
   "metadata": {
    "ExecuteTime": {
     "end_time": "2019-12-11T03:32:38.583879Z",
     "start_time": "2019-12-11T03:32:38.496023Z"
    }
   },
   "outputs": [],
   "source": [
    "weights = [1, 2, 3, 4, 5, 6, 7, 8, 9, 10]\n",
    "\n",
    "data_dir = '/Users/Alex/Documents/Alex/Yale/Fall 2019/CPSC_490/blotto/data/'\n",
    "\n",
    "fivethirtyeight_data_dir = data_dir + 'fivethirtyeight/'\n",
    "\n",
    "sorted(glob(fivethirtyeight_data_dir + '*'))\n",
    "\n",
    "temp_df = pd.read_csv(glob(fivethirtyeight_data_dir + '*')[0])\n",
    "\n",
    "new_column_names = list(map((lambda x : '_'.join(x.split(' ')).lower()), list(temp_df.columns)))\n",
    "new_column_names[-1] = 'reason'\n",
    "\n",
    "temp_df.rename(dict(zip(list(temp_df.columns), new_column_names)), axis=1, inplace=True)\n",
    "\n",
    "temp_df['total_troops'] = temp_df['castle_1'] + \\\n",
    "                          temp_df['castle_2'] + \\\n",
    "                          temp_df['castle_3'] + \\\n",
    "                          temp_df['castle_4'] + \\\n",
    "                          temp_df['castle_5'] + \\\n",
    "                          temp_df['castle_6'] + \\\n",
    "                          temp_df['castle_7'] + \\\n",
    "                          temp_df['castle_8'] + \\\n",
    "                          temp_df['castle_9'] + \\\n",
    "                          temp_df['castle_10']\n",
    "\n",
    "full_strats_df = temp_df[temp_df.total_troops == 100].copy()\n",
    "\n",
    "full_strats_list = full_strats_df.to_dict('records')\n",
    "\n",
    "simp_strats_list = [[int(x[1]) for x in list(y.items())[:10]] for y in full_strats_list]"
   ]
  },
  {
   "cell_type": "markdown",
   "metadata": {},
   "source": [
    "# GA"
   ]
  },
  {
   "cell_type": "code",
   "execution_count": 7,
   "metadata": {
    "ExecuteTime": {
     "end_time": "2019-12-11T03:32:38.619227Z",
     "start_time": "2019-12-11T03:32:38.586519Z"
    }
   },
   "outputs": [],
   "source": [
    "random.seed(0)"
   ]
  },
  {
   "cell_type": "code",
   "execution_count": 8,
   "metadata": {
    "ExecuteTime": {
     "end_time": "2019-12-11T03:32:38.666713Z",
     "start_time": "2019-12-11T03:32:38.621319Z"
    }
   },
   "outputs": [],
   "source": [
    "temp_noise = bu.generate_noise_arrays(1)"
   ]
  },
  {
   "cell_type": "code",
   "execution_count": 11,
   "metadata": {
    "ExecuteTime": {
     "end_time": "2019-12-11T03:33:04.308535Z",
     "start_time": "2019-12-11T03:33:04.280409Z"
    }
   },
   "outputs": [],
   "source": [
    "def evolve(a_strats, b_strats, generations, noise):\n",
    "    for _ in range(generations):\n",
    "        a_results, b_results = bu.eval_strats(a_strats, b_strats, weights)\n",
    "\n",
    "        a_fittest = sorted(a_results, key=(lambda x: (x[1], -(x[0][-1]))), reverse=True)\n",
    "        b_fittest = sorted(b_results, key=(lambda x: (x[1], -(x[0][-1]))), reverse=True)\n",
    "\n",
    "        a_next_gen = []\n",
    "        b_next_gen = []\n",
    "        for i in range(14):\n",
    "            for j in range(i+1, 15):\n",
    "                a_next_gen.append(bu.mutate_noise(bu.make_integer(bu.cross([a_fittest[i][0], a_fittest[j][0]]), seed=(i+j+i*j)), temp_noise, seed=(i+j)))\n",
    "                b_next_gen.append(bu.mutate_noise(bu.make_integer(bu.cross([b_fittest[i][0], b_fittest[j][0]]), seed=(i+j+i*j)), temp_noise, seed=(i+j)))\n",
    "\n",
    "        a_strats = a_next_gen\n",
    "        b_strats = b_next_gen\n",
    "        \n",
    "    return a_fittest, b_fittest, a_strats, b_strats"
   ]
  },
  {
   "cell_type": "code",
   "execution_count": 12,
   "metadata": {
    "ExecuteTime": {
     "end_time": "2019-12-11T03:33:04.688034Z",
     "start_time": "2019-12-11T03:33:04.655841Z"
    }
   },
   "outputs": [],
   "source": [
    "a_strat_init = random.sample(simp_strats_list, 100)\n",
    "b_strat_init = random.sample(simp_strats_list, 100)\n",
    "\n",
    "a_strats = a_strat_init\n",
    "b_strats = b_strat_init"
   ]
  },
  {
   "cell_type": "code",
   "execution_count": 13,
   "metadata": {
    "ExecuteTime": {
     "end_time": "2019-12-11T03:33:05.028531Z",
     "start_time": "2019-12-11T03:33:05.005328Z"
    }
   },
   "outputs": [],
   "source": [
    "temp_a_strats, temp_b_strats = a_strats, b_strats"
   ]
  },
  {
   "cell_type": "code",
   "execution_count": 14,
   "metadata": {
    "ExecuteTime": {
     "end_time": "2019-12-11T03:33:05.407741Z",
     "start_time": "2019-12-11T03:33:05.383280Z"
    }
   },
   "outputs": [],
   "source": [
    "best_a, best_b = [], []"
   ]
  },
  {
   "cell_type": "code",
   "execution_count": 15,
   "metadata": {
    "ExecuteTime": {
     "end_time": "2019-12-11T03:33:35.103272Z",
     "start_time": "2019-12-11T03:33:05.878021Z"
    },
    "scrolled": true
   },
   "outputs": [],
   "source": [
    "for i in range(200):\n",
    "#     print(i)\n",
    "    temp_a_fittest, temp_b_fittest, temp_a_strats, temp_b_strats = evolve(temp_a_strats, temp_b_strats, 1, temp_noise)\n",
    "    best_a.append(temp_a_fittest[0][0])\n",
    "    best_b.append(temp_b_fittest[0][0])\n",
    "#     print('\\n'.join(map(str,temp_a_fittest[:5])))"
   ]
  },
  {
   "cell_type": "code",
   "execution_count": 16,
   "metadata": {
    "ExecuteTime": {
     "end_time": "2019-12-11T03:33:35.337880Z",
     "start_time": "2019-12-11T03:33:35.307874Z"
    }
   },
   "outputs": [
    {
     "data": {
      "text/plain": [
       "(200, 200)"
      ]
     },
     "execution_count": 16,
     "metadata": {},
     "output_type": "execute_result"
    }
   ],
   "source": [
    "len(best_a), len(best_b)"
   ]
  },
  {
   "cell_type": "markdown",
   "metadata": {},
   "source": [
    "## Agent"
   ]
  },
  {
   "cell_type": "code",
   "execution_count": 17,
   "metadata": {
    "ExecuteTime": {
     "end_time": "2019-12-11T03:33:35.573983Z",
     "start_time": "2019-12-11T03:33:35.554746Z"
    }
   },
   "outputs": [],
   "source": [
    "agent_evol_a = Agent(best_a)\n",
    "agent_evol_b = Agent(best_b)"
   ]
  },
  {
   "cell_type": "code",
   "execution_count": 18,
   "metadata": {
    "ExecuteTime": {
     "end_time": "2019-12-11T03:33:35.862964Z",
     "start_time": "2019-12-11T03:33:35.785594Z"
    }
   },
   "outputs": [
    {
     "name": "stdout",
     "output_type": "stream",
     "text": [
      "0.30011074197120713\n",
      "0.22591362126245845\n"
     ]
    }
   ],
   "source": [
    "print(0.5 + au.play_game(agent_evol_a, simp_strats_list, weights, weights, trials=len(simp_strats_list)) / (2*len(simp_strats_list)))\n",
    "print(0.5 + au.play_game(agent_evol_b, simp_strats_list, weights, weights, trials=len(simp_strats_list)) / (2*len(simp_strats_list)))"
   ]
  },
  {
   "cell_type": "markdown",
   "metadata": {},
   "source": [
    "# Linear Programming Testing (Nash)"
   ]
  },
  {
   "cell_type": "markdown",
   "metadata": {},
   "source": [
    "input are two sets of strategies -> probabilities associated with each for Nash"
   ]
  },
  {
   "cell_type": "code",
   "execution_count": 19,
   "metadata": {
    "ExecuteTime": {
     "end_time": "2019-12-11T03:33:36.352780Z",
     "start_time": "2019-12-11T03:33:36.067470Z"
    }
   },
   "outputs": [],
   "source": [
    "probs_a, probs_b = bu.blotto_nash(a_strat_init, b_strat_init)"
   ]
  },
  {
   "cell_type": "code",
   "execution_count": 20,
   "metadata": {
    "ExecuteTime": {
     "end_time": "2019-12-11T03:33:36.580820Z",
     "start_time": "2019-12-11T03:33:36.560550Z"
    }
   },
   "outputs": [
    {
     "data": {
      "text/plain": [
       "(1.0000009999999995, 1.8453710000000005)"
      ]
     },
     "execution_count": 20,
     "metadata": {},
     "output_type": "execute_result"
    }
   ],
   "source": [
    "sum(probs_a), sum(probs_b)"
   ]
  },
  {
   "cell_type": "code",
   "execution_count": 21,
   "metadata": {
    "ExecuteTime": {
     "end_time": "2019-12-11T03:33:36.816228Z",
     "start_time": "2019-12-11T03:33:36.794222Z"
    }
   },
   "outputs": [],
   "source": [
    "probs_a_norm = bu.normalize_probabilities(probs_a)\n",
    "probs_b_norm = bu.normalize_probabilities(probs_b)"
   ]
  },
  {
   "cell_type": "code",
   "execution_count": 22,
   "metadata": {
    "ExecuteTime": {
     "end_time": "2019-12-11T03:33:37.045400Z",
     "start_time": "2019-12-11T03:33:37.025867Z"
    }
   },
   "outputs": [
    {
     "name": "stdout",
     "output_type": "stream",
     "text": [
      "0.9999999999999999\n",
      "1.0\n"
     ]
    }
   ],
   "source": [
    "print(sum(probs_a_norm))\n",
    "print(sum(probs_b_norm))"
   ]
  },
  {
   "cell_type": "code",
   "execution_count": 23,
   "metadata": {
    "ExecuteTime": {
     "end_time": "2019-12-11T03:33:37.269331Z",
     "start_time": "2019-12-11T03:33:37.249247Z"
    }
   },
   "outputs": [],
   "source": [
    "agent_a = Agent(a_strat_init, list(probs_a_norm))\n",
    "agent_b = Agent(b_strat_init, list(probs_b_norm))"
   ]
  },
  {
   "cell_type": "code",
   "execution_count": 24,
   "metadata": {
    "ExecuteTime": {
     "end_time": "2019-12-11T03:33:37.517688Z",
     "start_time": "2019-12-11T03:33:37.473931Z"
    }
   },
   "outputs": [
    {
     "data": {
      "text/plain": [
       "-0.15"
      ]
     },
     "execution_count": 24,
     "metadata": {},
     "output_type": "execute_result"
    }
   ],
   "source": [
    "au.play_game(agent_a, agent_b, weights, weights, trials=1000) / 1000 # b is the better agent on average"
   ]
  },
  {
   "cell_type": "code",
   "execution_count": 25,
   "metadata": {
    "ExecuteTime": {
     "end_time": "2019-12-11T03:33:37.782359Z",
     "start_time": "2019-12-11T03:33:37.718602Z"
    }
   },
   "outputs": [
    {
     "name": "stdout",
     "output_type": "stream",
     "text": [
      "0.6057585825027686\n",
      "0.5481727574750831\n"
     ]
    }
   ],
   "source": [
    "print(0.5 + au.play_game(agent_a, simp_strats_list, weights, weights, trials=len(simp_strats_list)) / (2*len(simp_strats_list)))\n",
    "print(0.5 + au.play_game(agent_b, simp_strats_list, weights, weights, trials=len(simp_strats_list)) / (2*len(simp_strats_list)))"
   ]
  },
  {
   "cell_type": "markdown",
   "metadata": {},
   "source": [
    "## linear programming evolutionary strategies"
   ]
  },
  {
   "cell_type": "code",
   "execution_count": 26,
   "metadata": {
    "ExecuteTime": {
     "end_time": "2019-12-11T03:33:39.128014Z",
     "start_time": "2019-12-11T03:33:37.985630Z"
    }
   },
   "outputs": [],
   "source": [
    "probs_evol_a, probs_evol_b = bu.blotto_nash(best_a, best_b)"
   ]
  },
  {
   "cell_type": "code",
   "execution_count": 27,
   "metadata": {
    "ExecuteTime": {
     "end_time": "2019-12-11T03:33:39.358984Z",
     "start_time": "2019-12-11T03:33:39.337523Z"
    }
   },
   "outputs": [
    {
     "data": {
      "text/plain": [
       "(1.0000010000000006, 2.8886500000000015)"
      ]
     },
     "execution_count": 27,
     "metadata": {},
     "output_type": "execute_result"
    }
   ],
   "source": [
    "sum(probs_evol_a), sum(probs_evol_b)"
   ]
  },
  {
   "cell_type": "code",
   "execution_count": 28,
   "metadata": {
    "ExecuteTime": {
     "end_time": "2019-12-11T03:33:39.580617Z",
     "start_time": "2019-12-11T03:33:39.560865Z"
    }
   },
   "outputs": [],
   "source": [
    "probs_evol_a_norm = bu.normalize_probabilities(probs_evol_a)\n",
    "probs_evol_b_norm = bu.normalize_probabilities(probs_evol_b)"
   ]
  },
  {
   "cell_type": "code",
   "execution_count": 29,
   "metadata": {
    "ExecuteTime": {
     "end_time": "2019-12-11T03:33:39.830581Z",
     "start_time": "2019-12-11T03:33:39.809363Z"
    }
   },
   "outputs": [
    {
     "data": {
      "text/plain": [
       "(0.9999999999999998, 0.9999999999999998)"
      ]
     },
     "execution_count": 29,
     "metadata": {},
     "output_type": "execute_result"
    }
   ],
   "source": [
    "sum(probs_evol_a_norm), sum(probs_evol_b_norm)"
   ]
  },
  {
   "cell_type": "code",
   "execution_count": 30,
   "metadata": {
    "ExecuteTime": {
     "end_time": "2019-12-11T03:33:40.079557Z",
     "start_time": "2019-12-11T03:33:40.058978Z"
    }
   },
   "outputs": [],
   "source": [
    "agent_evol_lin_a = Agent(best_a, list(probs_evol_a_norm))\n",
    "agent_evol_lin_b = Agent(best_b, list(probs_evol_b_norm))"
   ]
  },
  {
   "cell_type": "code",
   "execution_count": 37,
   "metadata": {
    "ExecuteTime": {
     "end_time": "2019-12-11T03:56:49.579533Z",
     "start_time": "2019-12-11T03:56:49.490049Z"
    }
   },
   "outputs": [
    {
     "name": "stdout",
     "output_type": "stream",
     "text": [
      "0.40420819490586934\n",
      "0.43853820598006643\n"
     ]
    }
   ],
   "source": [
    "# random sample of training set\n",
    "print(0.5 + au.play_game(agent_evol_lin_a, simp_strats_list, trials=len(simp_strats_list)) / (2*len(simp_strats_list)))\n",
    "print(0.5 + au.play_game(agent_evol_lin_b, simp_strats_list, trials=len(simp_strats_list)) / (2*len(simp_strats_list)))"
   ]
  },
  {
   "cell_type": "markdown",
   "metadata": {},
   "source": [
    "## Agents against each other"
   ]
  },
  {
   "cell_type": "code",
   "execution_count": 32,
   "metadata": {
    "ExecuteTime": {
     "end_time": "2019-12-11T03:33:40.588395Z",
     "start_time": "2019-12-11T03:33:40.569016Z"
    }
   },
   "outputs": [],
   "source": [
    "trials = 10000"
   ]
  },
  {
   "cell_type": "code",
   "execution_count": 33,
   "metadata": {
    "ExecuteTime": {
     "end_time": "2019-12-11T03:33:41.277019Z",
     "start_time": "2019-12-11T03:33:40.809540Z"
    }
   },
   "outputs": [
    {
     "name": "stdout",
     "output_type": "stream",
     "text": [
      "0.35619999999999996\n",
      "0.594\n"
     ]
    }
   ],
   "source": [
    "print(0.5 + au.play_game(agent_evol_lin_a, agent_a, trials=trials)/(2*trials))\n",
    "print(0.5 + au.play_game(agent_evol_lin_b, agent_b, trials=trials)/(2*trials))"
   ]
  },
  {
   "cell_type": "code",
   "execution_count": 34,
   "metadata": {
    "ExecuteTime": {
     "end_time": "2019-12-11T03:33:41.953323Z",
     "start_time": "2019-12-11T03:33:41.489213Z"
    }
   },
   "outputs": [
    {
     "name": "stdout",
     "output_type": "stream",
     "text": [
      "0.6439\n",
      "0.6842\n"
     ]
    }
   ],
   "source": [
    "print(0.5 + au.play_game(agent_evol_lin_a, agent_evol_a, trials=trials)/(2*trials))\n",
    "print(0.5 + au.play_game(agent_evol_lin_b, agent_evol_b, trials=trials)/(2*trials))"
   ]
  },
  {
   "cell_type": "code",
   "execution_count": 35,
   "metadata": {
    "ExecuteTime": {
     "end_time": "2019-12-11T03:33:42.710523Z",
     "start_time": "2019-12-11T03:33:42.229587Z"
    }
   },
   "outputs": [
    {
     "name": "stdout",
     "output_type": "stream",
     "text": [
      "0.3025\n",
      "0.3109\n"
     ]
    }
   ],
   "source": [
    "print(0.5 + au.play_game(agent_evol_a, agent_a, trials=trials)/(2*trials))\n",
    "print(0.5 + au.play_game(agent_evol_b, agent_b, trials=trials)/(2*trials))"
   ]
  }
 ],
 "metadata": {
  "kernelspec": {
   "display_name": "Python 3",
   "language": "python",
   "name": "python3"
  },
  "language_info": {
   "codemirror_mode": {
    "name": "ipython",
    "version": 3
   },
   "file_extension": ".py",
   "mimetype": "text/x-python",
   "name": "python",
   "nbconvert_exporter": "python",
   "pygments_lexer": "ipython3",
   "version": "3.6.8"
  },
  "varInspector": {
   "cols": {
    "lenName": 16,
    "lenType": 16,
    "lenVar": 40
   },
   "kernels_config": {
    "python": {
     "delete_cmd_postfix": "",
     "delete_cmd_prefix": "del ",
     "library": "var_list.py",
     "varRefreshCmd": "print(var_dic_list())"
    },
    "r": {
     "delete_cmd_postfix": ") ",
     "delete_cmd_prefix": "rm(",
     "library": "var_list.r",
     "varRefreshCmd": "cat(var_dic_list()) "
    }
   },
   "types_to_exclude": [
    "module",
    "function",
    "builtin_function_or_method",
    "instance",
    "_Feature"
   ],
   "window_display": false
  }
 },
 "nbformat": 4,
 "nbformat_minor": 2
}
