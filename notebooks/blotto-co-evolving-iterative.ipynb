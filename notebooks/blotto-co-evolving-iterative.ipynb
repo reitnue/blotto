{
 "cells": [
  {
   "cell_type": "code",
   "execution_count": 1,
   "metadata": {
    "ExecuteTime": {
     "end_time": "2019-12-12T09:50:55.461732Z",
     "start_time": "2019-12-12T09:50:54.919274Z"
    }
   },
   "outputs": [],
   "source": [
    "import sys\n",
    "sys.path.append(\"../code\")\n",
    "import pandas as pd\n",
    "import random\n",
    "from glob import glob\n",
    "import matplotlib.pyplot as plt\n",
    "import numpy as np\n",
    "%matplotlib inline"
   ]
  },
  {
   "cell_type": "code",
   "execution_count": 2,
   "metadata": {
    "ExecuteTime": {
     "end_time": "2019-12-12T09:50:55.581709Z",
     "start_time": "2019-12-12T09:50:55.463874Z"
    }
   },
   "outputs": [],
   "source": [
    "import blotto_utils as bu"
   ]
  },
  {
   "cell_type": "code",
   "execution_count": 3,
   "metadata": {
    "ExecuteTime": {
     "end_time": "2019-12-12T09:50:55.611444Z",
     "start_time": "2019-12-12T09:50:55.584239Z"
    }
   },
   "outputs": [],
   "source": [
    "%load_ext autoreload\n",
    "%autoreload 2"
   ]
  },
  {
   "cell_type": "code",
   "execution_count": 4,
   "metadata": {
    "ExecuteTime": {
     "end_time": "2019-12-12T09:50:55.641962Z",
     "start_time": "2019-12-12T09:50:55.614572Z"
    }
   },
   "outputs": [
    {
     "data": {
      "text/html": [
       "<style>.container { width:95% !important; }</style>"
      ],
      "text/plain": [
       "<IPython.core.display.HTML object>"
      ]
     },
     "metadata": {},
     "output_type": "display_data"
    }
   ],
   "source": [
    "from IPython.core.display import display, HTML\n",
    "display(HTML(\"<style>.container { width:95% !important; }</style>\"))"
   ]
  },
  {
   "cell_type": "markdown",
   "metadata": {},
   "source": [
    "# 538 Data"
   ]
  },
  {
   "cell_type": "code",
   "execution_count": 5,
   "metadata": {
    "ExecuteTime": {
     "end_time": "2019-12-12T09:50:55.871155Z",
     "start_time": "2019-12-12T09:50:55.644205Z"
    }
   },
   "outputs": [
    {
     "name": "stdout",
     "output_type": "stream",
     "text": [
      "0\n",
      "1\n",
      "2\n"
     ]
    }
   ],
   "source": [
    "weights = [1, 2, 3, 4, 5, 6, 7, 8, 9, 10]\n",
    "\n",
    "data_dir = '/Users/Alex/Documents/Alex/Yale/Fall 2019/CPSC_490/blotto/data/'\n",
    "\n",
    "fivethirtyeight_data_dir = data_dir + 'fivethirtyeight/'\n",
    "\n",
    "data_files = sorted(glob(fivethirtyeight_data_dir + '*'))\n",
    "train_list = []\n",
    "test_list = []\n",
    "for i in range(len(data_files)):\n",
    "    print(i)\n",
    "    temp_df = pd.read_csv(data_files[i])\n",
    "    new_column_names = list(map((lambda x : '_'.join(x.split(' ')).lower()), list(temp_df.columns)))\n",
    "    new_column_names[-1] = 'reason'\n",
    "\n",
    "    temp_df.rename(dict(zip(list(temp_df.columns), new_column_names)), axis=1, inplace=True)\n",
    "\n",
    "    temp_df['total_troops'] = temp_df['castle_1'] + \\\n",
    "                              temp_df['castle_2'] + \\\n",
    "                              temp_df['castle_3'] + \\\n",
    "                              temp_df['castle_4'] + \\\n",
    "                              temp_df['castle_5'] + \\\n",
    "                              temp_df['castle_6'] + \\\n",
    "                              temp_df['castle_7'] + \\\n",
    "                              temp_df['castle_8'] + \\\n",
    "                              temp_df['castle_9'] + \\\n",
    "                              temp_df['castle_10']\n",
    "\n",
    "    full_strats_df = temp_df[temp_df.total_troops == 100].copy()\n",
    "    full_strats_list = full_strats_df.to_dict('records')\n",
    "    if i == 1:\n",
    "        train_list += [[int(x[1]) for x in list(y.items())[:10]] for y in full_strats_list]\n",
    "    else:\n",
    "        test_list += [[int(x[1]) for x in list(y.items())[:10]] for y in full_strats_list]"
   ]
  },
  {
   "cell_type": "markdown",
   "metadata": {},
   "source": [
    "## Divide into two players"
   ]
  },
  {
   "cell_type": "code",
   "execution_count": 6,
   "metadata": {
    "ExecuteTime": {
     "end_time": "2019-12-12T09:50:55.897404Z",
     "start_time": "2019-12-12T09:50:55.874187Z"
    }
   },
   "outputs": [],
   "source": [
    "random.seed(0)"
   ]
  },
  {
   "cell_type": "code",
   "execution_count": 9,
   "metadata": {
    "ExecuteTime": {
     "end_time": "2019-12-12T09:51:19.264907Z",
     "start_time": "2019-12-12T09:51:19.242224Z"
    }
   },
   "outputs": [],
   "source": [
    "a_strat_init = random.sample(train_list, 100)\n",
    "b_strat_init = random.sample(train_list, 100)"
   ]
  },
  {
   "cell_type": "code",
   "execution_count": 10,
   "metadata": {
    "ExecuteTime": {
     "end_time": "2019-12-12T09:51:20.066618Z",
     "start_time": "2019-12-12T09:51:20.042612Z"
    }
   },
   "outputs": [
    {
     "data": {
      "text/plain": [
       "(100, 100)"
      ]
     },
     "execution_count": 10,
     "metadata": {},
     "output_type": "execute_result"
    }
   ],
   "source": [
    "len(a_strat_init), len(b_strat_init)"
   ]
  },
  {
   "cell_type": "markdown",
   "metadata": {},
   "source": [
    "# Co-Evolving Algorithm"
   ]
  },
  {
   "cell_type": "markdown",
   "metadata": {},
   "source": [
    "# Entire GA"
   ]
  },
  {
   "cell_type": "code",
   "execution_count": 11,
   "metadata": {
    "ExecuteTime": {
     "end_time": "2019-12-12T09:51:27.656785Z",
     "start_time": "2019-12-12T09:51:27.630547Z"
    }
   },
   "outputs": [],
   "source": [
    "random.seed(0)"
   ]
  },
  {
   "cell_type": "markdown",
   "metadata": {},
   "source": [
    "## Iterative Generations"
   ]
  },
  {
   "cell_type": "code",
   "execution_count": 12,
   "metadata": {
    "ExecuteTime": {
     "end_time": "2019-12-12T09:51:27.684169Z",
     "start_time": "2019-12-12T09:51:27.659645Z"
    }
   },
   "outputs": [],
   "source": [
    "temp_noise = bu.generate_noise_arrays(1)"
   ]
  },
  {
   "cell_type": "code",
   "execution_count": 13,
   "metadata": {
    "ExecuteTime": {
     "end_time": "2019-12-12T09:51:27.749433Z",
     "start_time": "2019-12-12T09:51:27.686106Z"
    }
   },
   "outputs": [],
   "source": [
    "def evolve(a_strats, b_strats, generations, noise):\n",
    "    for _ in range(generations):\n",
    "        a_results, b_results = bu.eval_strats(a_strats, b_strats, weights)\n",
    "\n",
    "        a_fittest = sorted(a_results, key=(lambda x: (x[1], -(x[0][-1]))), reverse=True)\n",
    "        b_fittest = sorted(b_results, key=(lambda x: (x[1], -(x[0][-1]))), reverse=True)\n",
    "\n",
    "        a_next_gen = []\n",
    "        b_next_gen = []\n",
    "        for i in range(14):\n",
    "            for j in range(i+1, 15):\n",
    "                a_next_gen.append(bu.mutate_noise(bu.make_integer(bu.cross([a_fittest[i][0], a_fittest[j][0]]), seed=(i+j+i*j)), temp_noise, seed=(i+j)))\n",
    "                b_next_gen.append(bu.mutate_noise(bu.make_integer(bu.cross([b_fittest[i][0], b_fittest[j][0]]), seed=(i+j+i*j)), temp_noise, seed=(i+j)))\n",
    "\n",
    "        a_strats = a_next_gen\n",
    "        b_strats = b_next_gen\n",
    "        \n",
    "    return a_fittest, b_fittest, a_strats, b_strats"
   ]
  },
  {
   "cell_type": "code",
   "execution_count": 15,
   "metadata": {
    "ExecuteTime": {
     "end_time": "2019-12-12T09:51:38.012855Z",
     "start_time": "2019-12-12T09:51:37.989771Z"
    }
   },
   "outputs": [],
   "source": [
    "a_strat_init = random.sample(train_list, 100)\n",
    "b_strat_init = random.sample(train_list, 100)\n",
    "\n",
    "a_strats = a_strat_init\n",
    "b_strats = b_strat_init"
   ]
  },
  {
   "cell_type": "code",
   "execution_count": 16,
   "metadata": {
    "ExecuteTime": {
     "end_time": "2019-12-12T09:51:44.348675Z",
     "start_time": "2019-12-12T09:51:44.324622Z"
    }
   },
   "outputs": [],
   "source": [
    "temp_a_strats, temp_b_strats = a_strats, b_strats"
   ]
  },
  {
   "cell_type": "code",
   "execution_count": 17,
   "metadata": {
    "ExecuteTime": {
     "end_time": "2019-12-12T09:51:44.795753Z",
     "start_time": "2019-12-12T09:51:44.768716Z"
    }
   },
   "outputs": [],
   "source": [
    "best_a, best_b = [], []"
   ]
  },
  {
   "cell_type": "code",
   "execution_count": 18,
   "metadata": {
    "ExecuteTime": {
     "end_time": "2019-12-12T09:52:51.242566Z",
     "start_time": "2019-12-12T09:51:45.109595Z"
    },
    "scrolled": true
   },
   "outputs": [],
   "source": [
    "for i in range(50):\n",
    "#     print(i)\n",
    "    temp_a_fittest, temp_b_fittest, temp_a_strats, temp_b_strats = evolve(temp_a_strats, temp_b_strats, 10, temp_noise)\n",
    "    best_a.append(temp_a_fittest[0][0])\n",
    "    best_b.append(temp_b_fittest[0][0])\n",
    "#     print('\\n'.join(map(str,temp_a_fittest[:5])))"
   ]
  },
  {
   "cell_type": "code",
   "execution_count": 19,
   "metadata": {
    "ExecuteTime": {
     "end_time": "2019-12-12T09:52:51.372421Z",
     "start_time": "2019-12-12T09:52:51.352365Z"
    }
   },
   "outputs": [
    {
     "data": {
      "text/plain": [
       "(50, 50)"
      ]
     },
     "execution_count": 19,
     "metadata": {},
     "output_type": "execute_result"
    }
   ],
   "source": [
    "len(best_a), len(best_b)"
   ]
  },
  {
   "cell_type": "code",
   "execution_count": 20,
   "metadata": {
    "ExecuteTime": {
     "end_time": "2019-12-12T09:52:51.505305Z",
     "start_time": "2019-12-12T09:52:51.485070Z"
    }
   },
   "outputs": [],
   "source": [
    "def l1_norm(a, b):\n",
    "    return sum(map(abs, [x-y for x, y in zip(a, b)]))"
   ]
  },
  {
   "cell_type": "code",
   "execution_count": 21,
   "metadata": {
    "ExecuteTime": {
     "end_time": "2019-12-12T09:52:51.634216Z",
     "start_time": "2019-12-12T09:52:51.614753Z"
    }
   },
   "outputs": [],
   "source": [
    "import math"
   ]
  },
  {
   "cell_type": "code",
   "execution_count": 22,
   "metadata": {
    "ExecuteTime": {
     "end_time": "2019-12-12T09:52:51.768671Z",
     "start_time": "2019-12-12T09:52:51.747184Z"
    }
   },
   "outputs": [],
   "source": [
    "def l2_norm(a, b):\n",
    "    return math.sqrt(sum([(x-y) ** 2 for x, y in zip(a, b)]))"
   ]
  },
  {
   "cell_type": "code",
   "execution_count": 23,
   "metadata": {
    "ExecuteTime": {
     "end_time": "2019-12-12T09:52:51.908965Z",
     "start_time": "2019-12-12T09:52:51.877575Z"
    }
   },
   "outputs": [],
   "source": [
    "best_dist_a = {}\n",
    "for j in range(len(best_a)):\n",
    "    best_dist_a[j] = []\n",
    "    for i in range(len(best_a)):\n",
    "        best_dist_a[j].append(l1_norm(best_a[j], best_a[i]))"
   ]
  },
  {
   "cell_type": "code",
   "execution_count": 24,
   "metadata": {
    "ExecuteTime": {
     "end_time": "2019-12-12T09:52:52.054355Z",
     "start_time": "2019-12-12T09:52:52.018870Z"
    }
   },
   "outputs": [],
   "source": [
    "best_dist_2_a = {}\n",
    "for j in range(len(best_a)):\n",
    "    best_dist_2_a[j] = []\n",
    "    for i in range(len(best_a)):\n",
    "        best_dist_2_a[j].append(l2_norm(best_a[j], best_a[i]))"
   ]
  },
  {
   "cell_type": "code",
   "execution_count": 25,
   "metadata": {
    "ExecuteTime": {
     "end_time": "2019-12-12T09:52:52.199278Z",
     "start_time": "2019-12-12T09:52:52.168268Z"
    }
   },
   "outputs": [
    {
     "ename": "KeyError",
     "evalue": "85",
     "output_type": "error",
     "traceback": [
      "\u001b[0;31m---------------------------------------------------------------------------\u001b[0m",
      "\u001b[0;31mKeyError\u001b[0m                                  Traceback (most recent call last)",
      "\u001b[0;32m<ipython-input-25-f2d76b1682dc>\u001b[0m in \u001b[0;36m<module>\u001b[0;34m\u001b[0m\n\u001b[1;32m      1\u001b[0m \u001b[0mindex\u001b[0m \u001b[0;34m=\u001b[0m \u001b[0;36m85\u001b[0m\u001b[0;34m\u001b[0m\u001b[0;34m\u001b[0m\u001b[0m\n\u001b[1;32m      2\u001b[0m \u001b[0mplt\u001b[0m\u001b[0;34m.\u001b[0m\u001b[0mfigure\u001b[0m\u001b[0;34m(\u001b[0m\u001b[0mfigsize\u001b[0m\u001b[0;34m=\u001b[0m\u001b[0;34m(\u001b[0m\u001b[0;36m20\u001b[0m\u001b[0;34m,\u001b[0m\u001b[0;36m10\u001b[0m\u001b[0;34m)\u001b[0m\u001b[0;34m)\u001b[0m\u001b[0;34m\u001b[0m\u001b[0;34m\u001b[0m\u001b[0m\n\u001b[0;32m----> 3\u001b[0;31m \u001b[0mplt\u001b[0m\u001b[0;34m.\u001b[0m\u001b[0mbar\u001b[0m\u001b[0;34m(\u001b[0m\u001b[0mrange\u001b[0m\u001b[0;34m(\u001b[0m\u001b[0mlen\u001b[0m\u001b[0;34m(\u001b[0m\u001b[0mbest_dist_a\u001b[0m\u001b[0;34m[\u001b[0m\u001b[0mindex\u001b[0m\u001b[0;34m]\u001b[0m\u001b[0;34m)\u001b[0m\u001b[0;34m)\u001b[0m\u001b[0;34m,\u001b[0m \u001b[0mbest_dist_a\u001b[0m\u001b[0;34m[\u001b[0m\u001b[0mindex\u001b[0m\u001b[0;34m]\u001b[0m\u001b[0;34m,\u001b[0m \u001b[0;36m0.5\u001b[0m\u001b[0;34m,\u001b[0m \u001b[0malign\u001b[0m\u001b[0;34m=\u001b[0m\u001b[0;34m'center'\u001b[0m\u001b[0;34m)\u001b[0m\u001b[0;34m\u001b[0m\u001b[0;34m\u001b[0m\u001b[0m\n\u001b[0m\u001b[1;32m      4\u001b[0m \u001b[0mplt\u001b[0m\u001b[0;34m.\u001b[0m\u001b[0mshow\u001b[0m\u001b[0;34m(\u001b[0m\u001b[0;34m)\u001b[0m\u001b[0;34m\u001b[0m\u001b[0;34m\u001b[0m\u001b[0m\n",
      "\u001b[0;31mKeyError\u001b[0m: 85"
     ]
    },
    {
     "data": {
      "text/plain": [
       "<Figure size 1440x720 with 0 Axes>"
      ]
     },
     "metadata": {},
     "output_type": "display_data"
    }
   ],
   "source": [
    "index = 85\n",
    "plt.figure(figsize=(20,10))\n",
    "plt.bar(range(len(best_dist_a[index])), best_dist_a[index], 0.5, align='center')\n",
    "plt.show()"
   ]
  },
  {
   "cell_type": "code",
   "execution_count": 26,
   "metadata": {
    "ExecuteTime": {
     "end_time": "2019-12-12T09:54:11.823795Z",
     "start_time": "2019-12-12T09:54:11.786740Z"
    }
   },
   "outputs": [
    {
     "ename": "KeyError",
     "evalue": "85",
     "output_type": "error",
     "traceback": [
      "\u001b[0;31m---------------------------------------------------------------------------\u001b[0m",
      "\u001b[0;31mKeyError\u001b[0m                                  Traceback (most recent call last)",
      "\u001b[0;32m<ipython-input-26-a387fce3ad35>\u001b[0m in \u001b[0;36m<module>\u001b[0;34m\u001b[0m\n\u001b[1;32m      1\u001b[0m \u001b[0mindex\u001b[0m\u001b[0;34m,\u001b[0m \u001b[0mjndex\u001b[0m \u001b[0;34m=\u001b[0m \u001b[0;36m0\u001b[0m\u001b[0;34m,\u001b[0m \u001b[0;36m85\u001b[0m\u001b[0;34m\u001b[0m\u001b[0;34m\u001b[0m\u001b[0m\n\u001b[1;32m      2\u001b[0m \u001b[0mplt\u001b[0m\u001b[0;34m.\u001b[0m\u001b[0mfigure\u001b[0m\u001b[0;34m(\u001b[0m\u001b[0mfigsize\u001b[0m\u001b[0;34m=\u001b[0m\u001b[0;34m(\u001b[0m\u001b[0;36m20\u001b[0m\u001b[0;34m,\u001b[0m\u001b[0;36m10\u001b[0m\u001b[0;34m)\u001b[0m\u001b[0;34m)\u001b[0m\u001b[0;34m\u001b[0m\u001b[0;34m\u001b[0m\u001b[0m\n\u001b[0;32m----> 3\u001b[0;31m \u001b[0mplt\u001b[0m\u001b[0;34m.\u001b[0m\u001b[0mbar\u001b[0m\u001b[0;34m(\u001b[0m\u001b[0mrange\u001b[0m\u001b[0;34m(\u001b[0m\u001b[0mlen\u001b[0m\u001b[0;34m(\u001b[0m\u001b[0mbest_dist_a\u001b[0m\u001b[0;34m[\u001b[0m\u001b[0mindex\u001b[0m\u001b[0;34m]\u001b[0m\u001b[0;34m)\u001b[0m\u001b[0;34m)\u001b[0m\u001b[0;34m,\u001b[0m \u001b[0;34m[\u001b[0m\u001b[0mx\u001b[0m\u001b[0;34m-\u001b[0m\u001b[0my\u001b[0m \u001b[0;32mfor\u001b[0m \u001b[0mx\u001b[0m\u001b[0;34m,\u001b[0m\u001b[0my\u001b[0m \u001b[0;32min\u001b[0m \u001b[0mzip\u001b[0m\u001b[0;34m(\u001b[0m\u001b[0mbest_dist_a\u001b[0m\u001b[0;34m[\u001b[0m\u001b[0mindex\u001b[0m\u001b[0;34m]\u001b[0m\u001b[0;34m,\u001b[0m \u001b[0mbest_dist_a\u001b[0m\u001b[0;34m[\u001b[0m\u001b[0mjndex\u001b[0m\u001b[0;34m]\u001b[0m\u001b[0;34m)\u001b[0m\u001b[0;34m]\u001b[0m\u001b[0;34m,\u001b[0m \u001b[0;36m0.5\u001b[0m\u001b[0;34m,\u001b[0m \u001b[0malign\u001b[0m\u001b[0;34m=\u001b[0m\u001b[0;34m'center'\u001b[0m\u001b[0;34m)\u001b[0m\u001b[0;34m\u001b[0m\u001b[0;34m\u001b[0m\u001b[0m\n\u001b[0m\u001b[1;32m      4\u001b[0m \u001b[0mplt\u001b[0m\u001b[0;34m.\u001b[0m\u001b[0mshow\u001b[0m\u001b[0;34m(\u001b[0m\u001b[0;34m)\u001b[0m\u001b[0;34m\u001b[0m\u001b[0;34m\u001b[0m\u001b[0m\n",
      "\u001b[0;31mKeyError\u001b[0m: 85"
     ]
    },
    {
     "data": {
      "text/plain": [
       "<Figure size 1440x720 with 0 Axes>"
      ]
     },
     "metadata": {},
     "output_type": "display_data"
    }
   ],
   "source": [
    "index, jndex = 0, 85\n",
    "plt.figure(figsize=(20,10))\n",
    "plt.bar(range(len(best_dist_a[index])), [x-y for x,y in zip(best_dist_a[index], best_dist_a[jndex])], 0.5, align='center')\n",
    "plt.show()"
   ]
  },
  {
   "cell_type": "code",
   "execution_count": 27,
   "metadata": {
    "ExecuteTime": {
     "end_time": "2019-12-12T09:54:14.271976Z",
     "start_time": "2019-12-12T09:54:14.239970Z"
    }
   },
   "outputs": [
    {
     "name": "stdout",
     "output_type": "stream",
     "text": [
      "[3, 2, 7, 5, 12, 0, 12, 21, 36, 2]\n"
     ]
    },
    {
     "ename": "IndexError",
     "evalue": "list index out of range",
     "output_type": "error",
     "traceback": [
      "\u001b[0;31m---------------------------------------------------------------------------\u001b[0m",
      "\u001b[0;31mIndexError\u001b[0m                                Traceback (most recent call last)",
      "\u001b[0;32m<ipython-input-27-fb266923a1f8>\u001b[0m in \u001b[0;36m<module>\u001b[0;34m\u001b[0m\n\u001b[1;32m      1\u001b[0m \u001b[0mprint\u001b[0m\u001b[0;34m(\u001b[0m\u001b[0mbest_a\u001b[0m\u001b[0;34m[\u001b[0m\u001b[0;36m0\u001b[0m\u001b[0;34m]\u001b[0m\u001b[0;34m)\u001b[0m\u001b[0;34m\u001b[0m\u001b[0;34m\u001b[0m\u001b[0m\n\u001b[0;32m----> 2\u001b[0;31m \u001b[0mprint\u001b[0m\u001b[0;34m(\u001b[0m\u001b[0mbest_a\u001b[0m\u001b[0;34m[\u001b[0m\u001b[0;36m85\u001b[0m\u001b[0;34m]\u001b[0m\u001b[0;34m)\u001b[0m\u001b[0;34m\u001b[0m\u001b[0;34m\u001b[0m\u001b[0m\n\u001b[0m",
      "\u001b[0;31mIndexError\u001b[0m: list index out of range"
     ]
    }
   ],
   "source": [
    "print(best_a[0])\n",
    "print(best_a[85])"
   ]
  },
  {
   "cell_type": "code",
   "execution_count": 33,
   "metadata": {
    "ExecuteTime": {
     "end_time": "2019-12-12T10:06:33.343191Z",
     "start_time": "2019-12-12T10:06:32.552931Z"
    }
   },
   "outputs": [
    {
     "data": {
      "image/png": "[encoded data removed]",
      "text/plain": [
       "<Figure size 1440x720 with 1 Axes>"
      ]
     },
     "metadata": {
      "needs_background": "light"
     },
     "output_type": "display_data"
    }
   ],
   "source": [
    "index = 1\n",
    "plt.figure(figsize=(20,10))\n",
    "plt.bar(range(len(best_dist_2_a[index])), best_dist_2_a[index], 0.5, align='center')\n",
    "plt.title('L1 Distance of Strategies from original strat', fontsize=30)\n",
    "plt.xticks(fontsize=15)\n",
    "plt.yticks(fontsize=15)\n",
    "plt.ylabel(\"Distance\", fontsize=15)\n",
    "plt.xlabel(\"Generation\", fontsize=15)\n",
    "# plt.show()\n",
    "plt.savefig(\"../figures/l1-cycle-ga.jpg\")"
   ]
  },
  {
   "cell_type": "code",
   "execution_count": 97,
   "metadata": {
    "ExecuteTime": {
     "end_time": "2019-12-01T04:03:53.535861Z",
     "start_time": "2019-12-01T04:03:46.792093Z"
    }
   },
   "outputs": [],
   "source": [
    "temp_a_fittest, temp_b_fittest, temp_a_strats, temp_b_strats = evolve(a_strats, b_strats, 50, temp_noise)"
   ]
  },
  {
   "cell_type": "code",
   "execution_count": 98,
   "metadata": {
    "ExecuteTime": {
     "end_time": "2019-12-01T04:03:53.570944Z",
     "start_time": "2019-12-01T04:03:53.537690Z"
    }
   },
   "outputs": [
    {
     "data": {
      "text/plain": [
       "[([0, 4, 1, 3, 14, 1, 2, 2, 38, 35], 82),\n",
       " ([0, 3, 1, 2, 14, 0, 3, 2, 39, 36], 81),\n",
       " ([0, 2, 2, 3, 15, 0, 2, 2, 38, 36], 75),\n",
       " ([0, 4, 1, 4, 15, 0, 2, 1, 38, 35], 74),\n",
       " ([0, 4, 2, 2, 15, 0, 2, 0, 39, 36], 69)]"
      ]
     },
     "execution_count": 98,
     "metadata": {},
     "output_type": "execute_result"
    }
   ],
   "source": [
    "temp_a_fittest[:5]"
   ]
  },
  {
   "cell_type": "code",
   "execution_count": 99,
   "metadata": {
    "ExecuteTime": {
     "end_time": "2019-12-01T04:04:00.164373Z",
     "start_time": "2019-12-01T04:03:53.577338Z"
    }
   },
   "outputs": [],
   "source": [
    "temp_a_fittest, temp_b_fittest, temp_a_strats, temp_b_strats = evolve(temp_a_strats, temp_b_strats, 50, temp_noise)"
   ]
  },
  {
   "cell_type": "code",
   "execution_count": 100,
   "metadata": {
    "ExecuteTime": {
     "end_time": "2019-12-01T04:04:00.231597Z",
     "start_time": "2019-12-01T04:04:00.169198Z"
    }
   },
   "outputs": [
    {
     "data": {
      "text/plain": [
       "[([0, 0, 0, 2, 6, 2, 4, 4, 1, 81], 99),\n",
       " ([0, 1, 0, 1, 5, 2, 4, 5, 1, 81], 94),\n",
       " ([0, 0, 1, 1, 5, 2, 5, 4, 1, 81], 93),\n",
       " ([0, 1, 0, 0, 5, 2, 6, 3, 2, 81], 91),\n",
       " ([0, 0, 1, 2, 6, 1, 6, 3, 0, 81], 87)]"
      ]
     },
     "execution_count": 100,
     "metadata": {},
     "output_type": "execute_result"
    }
   ],
   "source": [
    "temp_a_fittest[:5]"
   ]
  },
  {
   "cell_type": "code",
   "execution_count": 101,
   "metadata": {
    "ExecuteTime": {
     "end_time": "2019-12-01T04:04:06.891453Z",
     "start_time": "2019-12-01T04:04:00.271322Z"
    }
   },
   "outputs": [
    {
     "data": {
      "text/plain": [
       "[([0, 0, 2, 2, 4, 2, 1, 7, 37, 45], 104),\n",
       " ([0, 0, 2, 1, 4, 2, 1, 6, 38, 46], 102),\n",
       " ([0, 0, 4, 0, 5, 1, 4, 7, 35, 44], 101),\n",
       " ([0, 0, 3, 1, 5, 1, 3, 7, 36, 44], 101),\n",
       " ([0, 0, 1, 2, 4, 2, 2, 7, 36, 46], 100)]"
      ]
     },
     "execution_count": 101,
     "metadata": {},
     "output_type": "execute_result"
    }
   ],
   "source": [
    "temp_a_fittest, temp_b_fittest, temp_a_strats, temp_b_strats = evolve(temp_a_strats, temp_b_strats, 50, temp_noise)\n",
    "\n",
    "temp_a_fittest[:5]"
   ]
  },
  {
   "cell_type": "code",
   "execution_count": 102,
   "metadata": {
    "ExecuteTime": {
     "end_time": "2019-12-01T04:04:13.155974Z",
     "start_time": "2019-12-01T04:04:06.893975Z"
    }
   },
   "outputs": [
    {
     "data": {
      "text/plain": [
       "[([0, 4, 9, 3, 7, 8, 13, 19, 17, 20], 100),\n",
       " ([0, 2, 11, 3, 8, 10, 12, 19, 17, 18], 96),\n",
       " ([0, 3, 10, 3, 7, 9, 13, 18, 17, 20], 91),\n",
       " ([0, 3, 9, 3, 8, 11, 11, 19, 16, 20], 91),\n",
       " ([0, 3, 10, 3, 8, 11, 11, 18, 15, 21], 91)]"
      ]
     },
     "execution_count": 102,
     "metadata": {},
     "output_type": "execute_result"
    }
   ],
   "source": [
    "temp_a_fittest, temp_b_fittest, temp_a_strats, temp_b_strats = evolve(temp_a_strats, temp_b_strats, 50, temp_noise)\n",
    "\n",
    "temp_a_fittest[:5]"
   ]
  },
  {
   "cell_type": "code",
   "execution_count": 103,
   "metadata": {
    "ExecuteTime": {
     "end_time": "2019-12-01T04:04:19.322159Z",
     "start_time": "2019-12-01T04:04:13.158879Z"
    }
   },
   "outputs": [
    {
     "data": {
      "text/plain": [
       "[([0, 0, 8, 2, 1, 1, 7, 75, 6, 0], 101),\n",
       " ([0, 1, 9, 2, 1, 2, 5, 75, 5, 0], 101),\n",
       " ([0, 1, 9, 1, 3, 2, 5, 76, 3, 0], 101),\n",
       " ([0, 0, 9, 1, 1, 2, 5, 76, 6, 0], 100),\n",
       " ([0, 1, 8, 1, 1, 2, 5, 75, 6, 1], 99)]"
      ]
     },
     "execution_count": 103,
     "metadata": {},
     "output_type": "execute_result"
    }
   ],
   "source": [
    "temp_a_fittest, temp_b_fittest, temp_a_strats, temp_b_strats = evolve(temp_a_strats, temp_b_strats, 50, temp_noise)\n",
    "\n",
    "temp_a_fittest[:5]"
   ]
  },
  {
   "cell_type": "code",
   "execution_count": 104,
   "metadata": {
    "ExecuteTime": {
     "end_time": "2019-12-01T04:04:25.589246Z",
     "start_time": "2019-12-01T04:04:19.325004Z"
    }
   },
   "outputs": [
    {
     "data": {
      "text/plain": [
       "[([0, 0, 2, 2, 2, 4, 17, 15, 16, 42], 104),\n",
       " ([0, 0, 3, 1, 2, 3, 18, 15, 15, 43], 102),\n",
       " ([1, 0, 0, 2, 1, 3, 18, 15, 16, 44], 102),\n",
       " ([0, 0, 1, 1, 3, 4, 18, 16, 14, 43], 101),\n",
       " ([0, 0, 1, 2, 1, 4, 17, 17, 16, 42], 100)]"
      ]
     },
     "execution_count": 104,
     "metadata": {},
     "output_type": "execute_result"
    }
   ],
   "source": [
    "temp_a_fittest, temp_b_fittest, temp_a_strats, temp_b_strats = evolve(temp_a_strats, temp_b_strats, 50, temp_noise)\n",
    "\n",
    "temp_a_fittest[:5]"
   ]
  },
  {
   "cell_type": "markdown",
   "metadata": {
    "heading_collapsed": true
   },
   "source": [
    "### 200 generations"
   ]
  },
  {
   "cell_type": "code",
   "execution_count": 33,
   "metadata": {
    "ExecuteTime": {
     "end_time": "2019-11-17T20:17:29.558635Z",
     "start_time": "2019-11-17T20:17:29.539059Z"
    },
    "hidden": true
   },
   "outputs": [
    {
     "data": {
      "text/plain": [
       "[([0, 2, 6, 4, 9, 0, 8, 6, 64, 1], 71),\n",
       " ([1, 2, 4, 5, 2, 6, 10, 10, 59, 1], 63),\n",
       " ([1, 3, 5, 4, 7, 6, 8, 7, 58, 1], 62),\n",
       " ([1, 3, 5, 0, 9, 3, 8, 10, 60, 1], 60),\n",
       " ([1, 2, 0, 4, 6, 2, 10, 10, 59, 6], 60)]"
      ]
     },
     "execution_count": 33,
     "metadata": {},
     "output_type": "execute_result"
    }
   ],
   "source": [
    "a_fittest[:5]"
   ]
  },
  {
   "cell_type": "code",
   "execution_count": 34,
   "metadata": {
    "ExecuteTime": {
     "end_time": "2019-11-17T20:17:29.703112Z",
     "start_time": "2019-11-17T20:17:29.657689Z"
    },
    "hidden": true
   },
   "outputs": [
    {
     "data": {
      "text/plain": [
       "[([1, 1, 4, 10, 2, 6, 2, 8, 60, 6], 97),\n",
       " ([1, 4, 4, 9, 1, 7, 4, 2, 61, 7], 96),\n",
       " ([2, 1, 2, 1, 9, 6, 1, 11, 60, 7], 96),\n",
       " ([4, 0, 6, 3, 11, 3, 6, 0, 60, 7], 95),\n",
       " ([2, 2, 0, 7, 4, 6, 6, 6, 59, 8], 92)]"
      ]
     },
     "execution_count": 34,
     "metadata": {},
     "output_type": "execute_result"
    }
   ],
   "source": [
    "b_fittest[:5]"
   ]
  },
  {
   "cell_type": "code",
   "execution_count": 35,
   "metadata": {
    "ExecuteTime": {
     "end_time": "2019-11-17T20:17:29.892928Z",
     "start_time": "2019-11-17T20:17:29.816360Z"
    },
    "hidden": true
   },
   "outputs": [
    {
     "data": {
      "text/plain": [
       "[([1, 7, 2, 4, 8, 1, 8, 13, 54, 2], 18),\n",
       " ([6, 3, 2, 2, 7, 2, 3, 14, 59, 2], 16),\n",
       " ([2, 2, 4, 3, 3, 3, 3, 20, 59, 1], 15),\n",
       " ([2, 8, 5, 5, 4, 5, 3, 12, 55, 1], 13),\n",
       " ([1, 1, 5, 4, 5, 3, 7, 20, 53, 1], 12)]"
      ]
     },
     "execution_count": 35,
     "metadata": {},
     "output_type": "execute_result"
    }
   ],
   "source": [
    "a_fittest[-5:]"
   ]
  },
  {
   "cell_type": "code",
   "execution_count": 36,
   "metadata": {
    "ExecuteTime": {
     "end_time": "2019-11-17T20:17:30.052897Z",
     "start_time": "2019-11-17T20:17:30.019628Z"
    },
    "hidden": true
   },
   "outputs": [
    {
     "data": {
      "text/plain": [
       "[([2, 1, 5, 1, 6, 10, 2, 4, 56, 13], 32),\n",
       " ([3, 1, 5, 4, 6, 5, 4, 14, 58, 0], 31),\n",
       " ([2, 2, 4, 2, 8, 5, 4, 1, 55, 17], 30),\n",
       " ([2, 1, 3, 4, 8, 5, 6, 2, 53, 16], 22),\n",
       " ([3, 1, 7, 3, 7, 6, 7, 9, 57, 0], 10)]"
      ]
     },
     "execution_count": 36,
     "metadata": {},
     "output_type": "execute_result"
    }
   ],
   "source": [
    "b_fittest[-5:]"
   ]
  },
  {
   "cell_type": "markdown",
   "metadata": {
    "heading_collapsed": true
   },
   "source": [
    "### 100 generations"
   ]
  },
  {
   "cell_type": "code",
   "execution_count": 18,
   "metadata": {
    "ExecuteTime": {
     "end_time": "2019-11-17T20:15:16.606205Z",
     "start_time": "2019-11-17T20:15:16.572860Z"
    },
    "hidden": true
   },
   "outputs": [
    {
     "data": {
      "text/plain": [
       "[([1, 2, 0, 4, 9, 8, 12, 7, 47, 10], 86),\n",
       " ([1, 3, 6, 4, 1, 9, 6, 2, 57, 11], 81),\n",
       " ([3, 4, 0, 4, 0, 4, 8, 7, 57, 13], 81),\n",
       " ([1, 2, 5, 2, 1, 4, 12, 3, 60, 10], 80),\n",
       " ([2, 3, 0, 5, 1, 6, 7, 5, 57, 14], 79)]"
      ]
     },
     "execution_count": 18,
     "metadata": {},
     "output_type": "execute_result"
    }
   ],
   "source": [
    "a_fittest[:5]"
   ]
  },
  {
   "cell_type": "code",
   "execution_count": 19,
   "metadata": {
    "ExecuteTime": {
     "end_time": "2019-11-17T20:15:16.641537Z",
     "start_time": "2019-11-17T20:15:16.615513Z"
    },
    "hidden": true
   },
   "outputs": [
    {
     "data": {
      "text/plain": [
       "[([2, 4, 4, 4, 9, 5, 2, 0, 58, 12], 85),\n",
       " ([2, 0, 5, 4, 6, 7, 1, 12, 59, 4], 83),\n",
       " ([2, 3, 10, 4, 5, 6, 4, 8, 58, 0], 82),\n",
       " ([2, 4, 5, 4, 3, 5, 5, 3, 59, 10], 78),\n",
       " ([2, 3, 2, 3, 5, 5, 6, 5, 58, 11], 77)]"
      ]
     },
     "execution_count": 19,
     "metadata": {},
     "output_type": "execute_result"
    }
   ],
   "source": [
    "b_fittest[:5]"
   ]
  },
  {
   "cell_type": "code",
   "execution_count": 20,
   "metadata": {
    "ExecuteTime": {
     "end_time": "2019-11-17T20:15:16.695029Z",
     "start_time": "2019-11-17T20:15:16.643552Z"
    },
    "hidden": true
   },
   "outputs": [
    {
     "data": {
      "text/plain": [
       "[([2, 10, 4, 4, 3, 5, 1, 8, 55, 8], 33),\n",
       " ([3, 6, 3, 3, 6, 5, 11, 2, 52, 9], 33),\n",
       " ([2, 2, 3, 3, 2, 10, 11, 2, 52, 13], 32),\n",
       " ([3, 7, 9, 4, 3, 6, 7, 4, 54, 3], 27),\n",
       " ([8, 5, 4, 3, 4, 5, 2, 3, 55, 11], 24)]"
      ]
     },
     "execution_count": 20,
     "metadata": {},
     "output_type": "execute_result"
    }
   ],
   "source": [
    "a_fittest[-5:]"
   ]
  },
  {
   "cell_type": "code",
   "execution_count": 21,
   "metadata": {
    "ExecuteTime": {
     "end_time": "2019-11-17T20:15:16.751507Z",
     "start_time": "2019-11-17T20:15:16.716987Z"
    },
    "hidden": true
   },
   "outputs": [
    {
     "data": {
      "text/plain": [
       "[([3, 2, 4, 5, 14, 4, 3, 4, 54, 7], 18),\n",
       " ([3, 3, 5, 4, 14, 4, 3, 5, 51, 8], 18),\n",
       " ([3, 1, 4, 11, 9, 2, 4, 2, 57, 7], 17),\n",
       " ([2, 2, 2, 2, 14, 0, 5, 9, 56, 8], 15),\n",
       " ([2, 4, 4, 2, 12, 4, 6, 4, 55, 7], 13)]"
      ]
     },
     "execution_count": 21,
     "metadata": {},
     "output_type": "execute_result"
    }
   ],
   "source": [
    "b_fittest[-5:]"
   ]
  },
  {
   "cell_type": "markdown",
   "metadata": {
    "heading_collapsed": true
   },
   "source": [
    "### 50 generations"
   ]
  },
  {
   "cell_type": "code",
   "execution_count": 28,
   "metadata": {
    "ExecuteTime": {
     "end_time": "2019-11-17T20:16:21.412420Z",
     "start_time": "2019-11-17T20:16:21.383516Z"
    },
    "hidden": true
   },
   "outputs": [
    {
     "data": {
      "text/plain": [
       "[([2, 4, 6, 9, 14, 7, 20, 9, 27, 2], 80),\n",
       " ([3, 2, 2, 0, 20, 7, 15, 10, 30, 11], 77),\n",
       " ([3, 1, 4, 8, 21, 7, 15, 15, 24, 2], 76),\n",
       " ([2, 6, 4, 8, 21, 8, 14, 14, 21, 2], 74),\n",
       " ([2, 2, 2, 6, 21, 7, 16, 6, 29, 9], 72)]"
      ]
     },
     "execution_count": 28,
     "metadata": {},
     "output_type": "execute_result"
    }
   ],
   "source": [
    "a_fittest[:5]"
   ]
  },
  {
   "cell_type": "code",
   "execution_count": 29,
   "metadata": {
    "ExecuteTime": {
     "end_time": "2019-11-17T20:16:21.451858Z",
     "start_time": "2019-11-17T20:16:21.425335Z"
    },
    "hidden": true
   },
   "outputs": [
    {
     "data": {
      "text/plain": [
       "[([3, 7, 5, 9, 24, 2, 3, 25, 11, 11], 95),\n",
       " ([1, 4, 0, 9, 14, 9, 5, 26, 16, 16], 95),\n",
       " ([1, 3, 6, 0, 16, 5, 18, 24, 17, 10], 93),\n",
       " ([3, 9, 5, 9, 19, 4, 2, 23, 16, 10], 91),\n",
       " ([1, 5, 4, 8, 18, 8, 11, 23, 11, 11], 90)]"
      ]
     },
     "execution_count": 29,
     "metadata": {},
     "output_type": "execute_result"
    }
   ],
   "source": [
    "b_fittest[:5]"
   ]
  },
  {
   "cell_type": "code",
   "execution_count": 30,
   "metadata": {
    "ExecuteTime": {
     "end_time": "2019-11-17T20:16:21.503010Z",
     "start_time": "2019-11-17T20:16:21.470562Z"
    },
    "hidden": true
   },
   "outputs": [
    {
     "data": {
      "text/plain": [
       "[([2, 2, 0, 7, 26, 2, 12, 16, 30, 3], 17),\n",
       " ([2, 3, 3, 6, 19, 2, 15, 18, 27, 5], 15),\n",
       " ([2, 3, 4, 6, 23, 1, 15, 15, 27, 4], 14),\n",
       " ([4, 10, 3, 7, 14, 6, 7, 15, 30, 4], 8),\n",
       " ([2, 4, 2, 3, 13, 8, 14, 17, 35, 2], 6)]"
      ]
     },
     "execution_count": 30,
     "metadata": {},
     "output_type": "execute_result"
    }
   ],
   "source": [
    "a_fittest[-5:]"
   ]
  },
  {
   "cell_type": "code",
   "execution_count": 31,
   "metadata": {
    "ExecuteTime": {
     "end_time": "2019-11-17T20:16:21.590417Z",
     "start_time": "2019-11-17T20:16:21.539880Z"
    },
    "hidden": true
   },
   "outputs": [
    {
     "data": {
      "text/plain": [
       "[([1, 2, 0, 6, 14, 7, 9, 26, 18, 17], 30),\n",
       " ([2, 0, 4, 8, 17, 2, 9, 25, 17, 16], 29),\n",
       " ([1, 3, 3, 3, 13, 5, 10, 27, 23, 12], 27),\n",
       " ([1, 3, 4, 5, 14, 2, 10, 31, 18, 12], 26),\n",
       " ([1, 2, 5, 3, 18, 5, 9, 23, 17, 17], 25)]"
      ]
     },
     "execution_count": 31,
     "metadata": {},
     "output_type": "execute_result"
    }
   ],
   "source": [
    "b_fittest[-5:]"
   ]
  },
  {
   "cell_type": "markdown",
   "metadata": {
    "heading_collapsed": true
   },
   "source": [
    "## mutation"
   ]
  },
  {
   "cell_type": "code",
   "execution_count": 32,
   "metadata": {
    "ExecuteTime": {
     "end_time": "2019-10-22T00:05:18.723529Z",
     "start_time": "2019-10-22T00:05:18.704434Z"
    },
    "hidden": true
   },
   "outputs": [],
   "source": [
    "temp_noise = bu.generate_noise_arrays(5)"
   ]
  },
  {
   "cell_type": "code",
   "execution_count": 33,
   "metadata": {
    "ExecuteTime": {
     "end_time": "2019-10-22T00:05:19.638125Z",
     "start_time": "2019-10-22T00:05:19.613011Z"
    },
    "hidden": true
   },
   "outputs": [],
   "source": [
    "mutated_strats = []\n",
    "for fit_strat in fittest:\n",
    "    random.seed(0)\n",
    "    noise = random.choice(temp_noise)\n",
    "    new_strat = [x+y for x, y in zip(fit_strat[0], noise)]\n",
    "    if all(map((lambda x : x >= 0), new_strat)):\n",
    "        mutated_strats.append(new_strat)\n",
    "    else:\n",
    "#         print(new_strat)\n",
    "        pass"
   ]
  },
  {
   "cell_type": "code",
   "execution_count": 34,
   "metadata": {
    "ExecuteTime": {
     "end_time": "2019-10-22T00:05:22.276783Z",
     "start_time": "2019-10-22T00:05:22.254220Z"
    },
    "hidden": true
   },
   "outputs": [
    {
     "data": {
      "text/plain": [
       "285"
      ]
     },
     "execution_count": 34,
     "metadata": {},
     "output_type": "execute_result"
    }
   ],
   "source": [
    "len(mutated_strats)"
   ]
  },
  {
   "cell_type": "code",
   "execution_count": 35,
   "metadata": {
    "ExecuteTime": {
     "end_time": "2019-10-22T00:05:32.051025Z",
     "start_time": "2019-10-22T00:05:32.017116Z"
    },
    "hidden": true
   },
   "outputs": [],
   "source": [
    "fittest_mutated_strats = [x[0] for x in fittest] + mutated_strats"
   ]
  },
  {
   "cell_type": "code",
   "execution_count": 36,
   "metadata": {
    "ExecuteTime": {
     "end_time": "2019-10-22T00:05:39.693698Z",
     "start_time": "2019-10-22T00:05:33.738264Z"
    },
    "hidden": true
   },
   "outputs": [],
   "source": [
    "new_results = []\n",
    "for i in range(len(fittest_mutated_strats)):\n",
    "    temp_result = 0\n",
    "    strat_a = fittest_mutated_strats[i]\n",
    "    for j in range(len(fittest_mutated_strats)):\n",
    "        if not i == j:\n",
    "            strat_b = fittest_mutated_strats[j]\n",
    "            temp_result += bu.battle(strat_a, strat_b, weights, weights)\n",
    "            \n",
    "    new_results.append((strat_a, temp_result))"
   ]
  },
  {
   "cell_type": "code",
   "execution_count": 37,
   "metadata": {
    "ExecuteTime": {
     "end_time": "2019-10-22T00:05:39.908261Z",
     "start_time": "2019-10-22T00:05:39.866090Z"
    },
    "hidden": true
   },
   "outputs": [
    {
     "data": {
      "text/plain": [
       "[([0.0, 0.0, 0.0, 16.0, 21.0, 0.0, 0.0, 0.0, 36.0, 27.0], 580),\n",
       " ([0.0, 0.0, 0.0, 16.0, 21.0, 0.0, 0.0, 0.0, 31.0, 32.0], 575),\n",
       " ([0.0, 0.0, 0.0, 15.0, 19.0, 1.0, 1.0, 1.0, 32.0, 31.0], 567),\n",
       " ([1.0, 1.0, 12.0, 1.0, 1.0, 24.0, 1.0, 1.0, 28.0, 30.0], 555),\n",
       " ([0.0, 0.0, 12.0, 0.0, 1.0, 22.0, 1.0, 1.0, 32.0, 31.0], 554),\n",
       " ([0.0, 0.0, 0.0, 0.0, 22.0, 23.0, 28.0, 0.0, 0.0, 27.0], 552),\n",
       " ([0.0, 0.0, 0.0, 17.0, 17.0, 0.0, 0.0, 0.0, 30.0, 36.0], 549),\n",
       " ([0.0, 0.0, 0.0, 0.0, 19.0, 24.0, 27.0, 0.0, 0.0, 30.0], 549),\n",
       " ([1.0, 1.0, 2.0, 16.0, 19.0, 4.0, 4.0, 4.0, 22.0, 27.0], 546),\n",
       " ([1.0, 1.0, 2.0, 18.0, 23.0, 2.0, 3.0, 3.0, 26.0, 21.0], 542),\n",
       " ([1.0, 1.0, 1.0, 1.0, 17.0, 17.0, 6.0, 11.0, 22.0, 23.0], 542),\n",
       " ([1.0, 1.0, 2.0, 18.0, 18.0, 2.0, 3.0, 3.0, 26.0, 26.0], 538),\n",
       " ([0.0, 1.0, 2.0, 16.0, 21.0, 3.0, 2.0, 1.0, 32.0, 22.0], 534),\n",
       " ([0.0, 8.0, 0.0, 0.0, 0.0, 1.0, 28.0, 1.0, 33.0, 29.0], 534),\n",
       " ([0.0, 3.0, 4.0, 14.0, 15.0, 5.0, 5.0, 5.0, 33.0, 16.0], 534),\n",
       " ([3.0, 3.0, 3.0, 17.0, 17.0, 3.0, 4.0, 4.0, 23.0, 23.0], 528),\n",
       " ([0.0, 0.0, 0.0, 16.0, 16.0, 2.0, 2.0, 2.0, 31.0, 31.0], 527),\n",
       " ([1.0, 1.0, 1.0, 6.0, 17.0, 17.0, 6.0, 6.0, 22.0, 23.0], 527),\n",
       " ([0.0, 0.0, 0.0, 16.0, 21.0, 5.0, 0.0, 0.0, 26.0, 32.0], 527),\n",
       " ([1.0, 3.0, 3.0, 20.0, 20.0, 3.0, 5.0, 5.0, 20.0, 20.0], 526),\n",
       " ([1.0, 1.0, 1.0, 15.0, 20.0, 1.0, 1.0, 1.0, 30.0, 29.0], 525),\n",
       " ([9.0, 0.0, 0.0, 0.0, 0.0, 0.0, 0.0, 32.0, 32.0, 27.0], 525),\n",
       " ([2.0, 6.0, 2.0, 14.0, 21.0, 2.0, 6.0, 5.0, 21.0, 21.0], 522),\n",
       " ([0.0, 8.0, 0.0, 0.0, 0.0, 0.0, 28.0, 0.0, 32.0, 32.0], 520),\n",
       " ([6.0, 0.0, 0.0, 0.0, 0.0, 1.0, 2.0, 33.0, 33.0, 25.0], 515),\n",
       " ([0.0, 0.0, 0.0, 16.0, 16.0, 5.0, 0.0, 0.0, 36.0, 27.0], 514),\n",
       " ([6.0, 0.0, 0.0, 0.0, 0.0, 0.0, 0.0, 33.0, 32.0, 29.0], 514),\n",
       " ([6.0, 0.0, 0.0, 0.0, 0.0, 0.0, 0.0, 38.0, 32.0, 24.0], 513),\n",
       " ([9.0, 1.0, 1.0, 1.0, 1.0, 1.0, 1.0, 35.0, 25.0, 25.0], 509),\n",
       " ([0.0, 0.0, 0.0, 15.0, 18.0, 1.0, 1.0, 1.0, 26.0, 38.0], 503)]"
      ]
     },
     "execution_count": 37,
     "metadata": {},
     "output_type": "execute_result"
    }
   ],
   "source": [
    "sorted(new_results, key=(lambda x: x[1]), reverse=True)[:30]"
   ]
  },
  {
   "cell_type": "code",
   "execution_count": 38,
   "metadata": {
    "ExecuteTime": {
     "end_time": "2019-10-22T00:05:40.173198Z",
     "start_time": "2019-10-22T00:05:40.141127Z"
    },
    "hidden": true
   },
   "outputs": [
    {
     "data": {
      "text/plain": [
       "[([0.0, 4.0, 6.0, 9.0, 12.0, 0.0, 27.0, 32.0, 5.0, 5.0], 147),\n",
       " ([0.0, 5.0, 6.0, 13.0, 14.0, 21.0, 1.0, 31.0, 6.0, 3.0], 146),\n",
       " ([1.0, 3.0, 14.0, 12.0, 12.0, 19.0, 1.0, 2.0, 32.0, 4.0], 145),\n",
       " ([3.0, 6.0, 8.0, 7.0, 21.0, 16.0, 2.0, 33.0, 4.0, 0.0], 141),\n",
       " ([7.0, 3.0, 3.0, 4.0, 6.0, 11.0, 26.0, 26.0, 12.0, 2.0], 141),\n",
       " ([0.0, 4.0, 6.0, 14.0, 12.0, 0.0, 27.0, 32.0, 5.0, 0.0], 137),\n",
       " ([2.0, 5.0, 7.0, 11.0, 11.0, 21.0, 2.0, 31.0, 5.0, 5.0], 135),\n",
       " ([4.0, 5.0, 5.0, 1.0, 10.0, 20.0, 20.0, 25.0, 2.0, 8.0], 134),\n",
       " ([5.0, 6.0, 2.0, 12.0, 12.0, 21.0, 3.0, 31.0, 3.0, 5.0], 131),\n",
       " ([0.0, 0.0, 5.0, 5.0, 5.0, 5.0, 35.0, 40.0, 0.0, 5.0], 130),\n",
       " ([0.0, 5.0, 7.0, 9.0, 12.0, 1.0, 26.0, 31.0, 4.0, 5.0], 129),\n",
       " ([5.0, 5.0, 7.0, 9.0, 18.0, 16.0, 3.0, 31.0, 1.0, 5.0], 129),\n",
       " ([3.0, 3.0, 3.0, 8.0, 20.0, 20.0, 31.0, 2.0, 5.0, 5.0], 126),\n",
       " ([0.0, 5.0, 6.0, 9.0, 12.0, 1.0, 26.0, 31.0, 5.0, 5.0], 125),\n",
       " ([1.0, 6.0, 8.0, 11.0, 5.0, 5.0, 27.0, 27.0, 5.0, 5.0], 124),\n",
       " ([3.0, 3.0, 3.0, 3.0, 3.0, 10.0, 30.0, 38.0, 6.0, 1.0], 119),\n",
       " ([5.0, 3.0, 3.0, 3.0, 16.0, 16.0, 21.0, 26.0, 6.0, 1.0], 108),\n",
       " ([7.0, 5.0, 7.0, 11.0, 11.0, 21.0, 2.0, 26.0, 5.0, 5.0], 100),\n",
       " ([4.0, 9.0, 5.0, 5.0, 5.0, 31.0, 31.0, 0.0, 5.0, 5.0], 99),\n",
       " ([1.0, 6.0, 8.0, 11.0, 5.0, 10.0, 27.0, 27.0, 0.0, 5.0], 99)]"
      ]
     },
     "execution_count": 38,
     "metadata": {},
     "output_type": "execute_result"
    }
   ],
   "source": [
    "sorted(new_results, key=(lambda x: x[1]), reverse=True)[-20:]"
   ]
  },
  {
   "cell_type": "code",
   "execution_count": null,
   "metadata": {
    "ExecuteTime": {
     "end_time": "2019-10-21T01:44:24.349526Z",
     "start_time": "2019-10-21T01:44:24.310532Z"
    },
    "hidden": true
   },
   "outputs": [],
   "source": [
    "sorted(results, key=(lambda x: x[1]), reverse=True)[:30]"
   ]
  },
  {
   "cell_type": "markdown",
   "metadata": {
    "hidden": true
   },
   "source": [
    "### fitness\n",
    "Only can compute relative to current population of strategies.\n",
    "* by running all the strategies against all other strategies\n",
    "* keep a percentage -> mutation then run again"
   ]
  },
  {
   "cell_type": "markdown",
   "metadata": {
    "hidden": true
   },
   "source": [
    "### crossover"
   ]
  },
  {
   "cell_type": "markdown",
   "metadata": {
    "hidden": true
   },
   "source": [
    "i guess it's generating a new strategy from previous strategy(s). One way we can do this - for 2 strategies $a$ and $b$. see who wins and by how much then do a weighted average of each ocmponent to form the new strategy\n",
    "$$c = cross(a, b)$$\n"
   ]
  },
  {
   "cell_type": "markdown",
   "metadata": {
    "hidden": true
   },
   "source": [
    "### mutation\n",
    "how do i mutate a strategy?\n",
    "* generate noise arrays and add them to strategies\n",
    "* use the noisiness as the degree of mutation/variation\n",
    "\n",
    "not really a mutation, but we could take the average of all 'better' strategies and see how that performs\n",
    "* hypothesize that it won't do as well since strategies are good when they don't waste resources and by smoothing out edge in battlefields we lose that literal edge\n",
    "* move all of one troop to another battle field -> extreme mutation"
   ]
  },
  {
   "cell_type": "code",
   "execution_count": 50,
   "metadata": {
    "ExecuteTime": {
     "end_time": "2019-10-19T19:30:41.029846Z",
     "start_time": "2019-10-19T19:30:41.009228Z"
    },
    "hidden": true
   },
   "outputs": [],
   "source": [
    "temp_noise = generate_noise_arrays(5)"
   ]
  },
  {
   "cell_type": "code",
   "execution_count": 51,
   "metadata": {
    "ExecuteTime": {
     "end_time": "2019-10-19T19:30:44.122344Z",
     "start_time": "2019-10-19T19:30:44.070312Z"
    },
    "hidden": true
   },
   "outputs": [
    {
     "data": {
      "text/plain": [
       "90"
      ]
     },
     "execution_count": 51,
     "metadata": {},
     "output_type": "execute_result"
    }
   ],
   "source": [
    "len(temp_noise)"
   ]
  },
  {
   "cell_type": "code",
   "execution_count": 52,
   "metadata": {
    "ExecuteTime": {
     "end_time": "2019-10-19T19:30:48.506966Z",
     "start_time": "2019-10-19T19:30:48.482953Z"
    },
    "hidden": true
   },
   "outputs": [
    {
     "data": {
      "text/plain": [
       "[[5, -5, 0, 0, 0, 0, 0, 0, 0, 0],\n",
       " [-5, 5, 0, 0, 0, 0, 0, 0, 0, 0],\n",
       " [5, 0, -5, 0, 0, 0, 0, 0, 0, 0],\n",
       " [-5, 0, 5, 0, 0, 0, 0, 0, 0, 0],\n",
       " [5, 0, 0, -5, 0, 0, 0, 0, 0, 0]]"
      ]
     },
     "execution_count": 52,
     "metadata": {},
     "output_type": "execute_result"
    }
   ],
   "source": [
    "temp_noise[:5]"
   ]
  },
  {
   "cell_type": "code",
   "execution_count": 53,
   "metadata": {
    "ExecuteTime": {
     "end_time": "2019-10-19T19:31:24.029376Z",
     "start_time": "2019-10-19T19:31:24.006614Z"
    },
    "hidden": true
   },
   "outputs": [],
   "source": [
    "temp_strat = [0.0, 1.0, 2.0, 16.0, 21.0, 3.0, 2.0, 1.0, 32.0, 22.0]"
   ]
  },
  {
   "cell_type": "code",
   "execution_count": 63,
   "metadata": {
    "ExecuteTime": {
     "end_time": "2019-10-19T19:38:07.025087Z",
     "start_time": "2019-10-19T19:38:06.987790Z"
    },
    "collapsed": true,
    "hidden": true
   },
   "outputs": [
    {
     "name": "stdout",
     "output_type": "stream",
     "text": [
      "[5.0, -4.0, 2.0, 16.0, 21.0, 3.0, 2.0, 1.0, 32.0, 22.0]\n",
      "[-5.0, 6.0, 2.0, 16.0, 21.0, 3.0, 2.0, 1.0, 32.0, 22.0]\n",
      "[5.0, 1.0, -3.0, 16.0, 21.0, 3.0, 2.0, 1.0, 32.0, 22.0]\n",
      "[-5.0, 1.0, 7.0, 16.0, 21.0, 3.0, 2.0, 1.0, 32.0, 22.0]\n",
      "[-5.0, 1.0, 2.0, 21.0, 21.0, 3.0, 2.0, 1.0, 32.0, 22.0]\n",
      "[-5.0, 1.0, 2.0, 16.0, 26.0, 3.0, 2.0, 1.0, 32.0, 22.0]\n",
      "[5.0, 1.0, 2.0, 16.0, 21.0, -2.0, 2.0, 1.0, 32.0, 22.0]\n",
      "[-5.0, 1.0, 2.0, 16.0, 21.0, 8.0, 2.0, 1.0, 32.0, 22.0]\n",
      "[5.0, 1.0, 2.0, 16.0, 21.0, 3.0, -3.0, 1.0, 32.0, 22.0]\n",
      "[-5.0, 1.0, 2.0, 16.0, 21.0, 3.0, 7.0, 1.0, 32.0, 22.0]\n",
      "[5.0, 1.0, 2.0, 16.0, 21.0, 3.0, 2.0, -4.0, 32.0, 22.0]\n",
      "[-5.0, 1.0, 2.0, 16.0, 21.0, 3.0, 2.0, 6.0, 32.0, 22.0]\n",
      "[-5.0, 1.0, 2.0, 16.0, 21.0, 3.0, 2.0, 1.0, 37.0, 22.0]\n",
      "[-5.0, 1.0, 2.0, 16.0, 21.0, 3.0, 2.0, 1.0, 32.0, 27.0]\n",
      "[0.0, 6.0, -3.0, 16.0, 21.0, 3.0, 2.0, 1.0, 32.0, 22.0]\n",
      "[0.0, -4.0, 7.0, 16.0, 21.0, 3.0, 2.0, 1.0, 32.0, 22.0]\n",
      "[0.0, -4.0, 2.0, 21.0, 21.0, 3.0, 2.0, 1.0, 32.0, 22.0]\n",
      "[0.0, -4.0, 2.0, 16.0, 26.0, 3.0, 2.0, 1.0, 32.0, 22.0]\n",
      "[0.0, 6.0, 2.0, 16.0, 21.0, -2.0, 2.0, 1.0, 32.0, 22.0]\n",
      "[0.0, -4.0, 2.0, 16.0, 21.0, 8.0, 2.0, 1.0, 32.0, 22.0]\n",
      "[0.0, 6.0, 2.0, 16.0, 21.0, 3.0, -3.0, 1.0, 32.0, 22.0]\n",
      "[0.0, -4.0, 2.0, 16.0, 21.0, 3.0, 7.0, 1.0, 32.0, 22.0]\n",
      "[0.0, 6.0, 2.0, 16.0, 21.0, 3.0, 2.0, -4.0, 32.0, 22.0]\n",
      "[0.0, -4.0, 2.0, 16.0, 21.0, 3.0, 2.0, 6.0, 32.0, 22.0]\n",
      "[0.0, -4.0, 2.0, 16.0, 21.0, 3.0, 2.0, 1.0, 37.0, 22.0]\n",
      "[0.0, -4.0, 2.0, 16.0, 21.0, 3.0, 2.0, 1.0, 32.0, 27.0]\n",
      "[0.0, 1.0, -3.0, 21.0, 21.0, 3.0, 2.0, 1.0, 32.0, 22.0]\n",
      "[0.0, 1.0, -3.0, 16.0, 26.0, 3.0, 2.0, 1.0, 32.0, 22.0]\n",
      "[0.0, 1.0, 7.0, 16.0, 21.0, -2.0, 2.0, 1.0, 32.0, 22.0]\n",
      "[0.0, 1.0, -3.0, 16.0, 21.0, 8.0, 2.0, 1.0, 32.0, 22.0]\n",
      "[0.0, 1.0, 7.0, 16.0, 21.0, 3.0, -3.0, 1.0, 32.0, 22.0]\n",
      "[0.0, 1.0, -3.0, 16.0, 21.0, 3.0, 7.0, 1.0, 32.0, 22.0]\n",
      "[0.0, 1.0, 7.0, 16.0, 21.0, 3.0, 2.0, -4.0, 32.0, 22.0]\n",
      "[0.0, 1.0, -3.0, 16.0, 21.0, 3.0, 2.0, 6.0, 32.0, 22.0]\n",
      "[0.0, 1.0, -3.0, 16.0, 21.0, 3.0, 2.0, 1.0, 37.0, 22.0]\n",
      "[0.0, 1.0, -3.0, 16.0, 21.0, 3.0, 2.0, 1.0, 32.0, 27.0]\n",
      "[0.0, 1.0, 2.0, 21.0, 21.0, -2.0, 2.0, 1.0, 32.0, 22.0]\n",
      "[0.0, 1.0, 2.0, 21.0, 21.0, 3.0, -3.0, 1.0, 32.0, 22.0]\n",
      "[0.0, 1.0, 2.0, 21.0, 21.0, 3.0, 2.0, -4.0, 32.0, 22.0]\n",
      "[0.0, 1.0, 2.0, 16.0, 26.0, -2.0, 2.0, 1.0, 32.0, 22.0]\n",
      "[0.0, 1.0, 2.0, 16.0, 26.0, 3.0, -3.0, 1.0, 32.0, 22.0]\n",
      "[0.0, 1.0, 2.0, 16.0, 26.0, 3.0, 2.0, -4.0, 32.0, 22.0]\n",
      "[0.0, 1.0, 2.0, 16.0, 21.0, 8.0, -3.0, 1.0, 32.0, 22.0]\n",
      "[0.0, 1.0, 2.0, 16.0, 21.0, -2.0, 7.0, 1.0, 32.0, 22.0]\n",
      "[0.0, 1.0, 2.0, 16.0, 21.0, 8.0, 2.0, -4.0, 32.0, 22.0]\n",
      "[0.0, 1.0, 2.0, 16.0, 21.0, -2.0, 2.0, 6.0, 32.0, 22.0]\n",
      "[0.0, 1.0, 2.0, 16.0, 21.0, -2.0, 2.0, 1.0, 37.0, 22.0]\n",
      "[0.0, 1.0, 2.0, 16.0, 21.0, -2.0, 2.0, 1.0, 32.0, 27.0]\n",
      "[0.0, 1.0, 2.0, 16.0, 21.0, 3.0, 7.0, -4.0, 32.0, 22.0]\n",
      "[0.0, 1.0, 2.0, 16.0, 21.0, 3.0, -3.0, 6.0, 32.0, 22.0]\n",
      "[0.0, 1.0, 2.0, 16.0, 21.0, 3.0, -3.0, 1.0, 37.0, 22.0]\n",
      "[0.0, 1.0, 2.0, 16.0, 21.0, 3.0, -3.0, 1.0, 32.0, 27.0]\n",
      "[0.0, 1.0, 2.0, 16.0, 21.0, 3.0, 2.0, -4.0, 37.0, 22.0]\n",
      "[0.0, 1.0, 2.0, 16.0, 21.0, 3.0, 2.0, -4.0, 32.0, 27.0]\n"
     ]
    }
   ],
   "source": [
    "mutated_strats = []\n",
    "for noise in temp_noise:\n",
    "    new_strat = [x+y for x, y in zip(temp_strat, noise)]\n",
    "    if all(map((lambda x : x >= 0), new_strat)):\n",
    "        mutated_strats.append(new_strat)\n",
    "    else:\n",
    "#         print(new_strat)\n",
    "        pass"
   ]
  },
  {
   "cell_type": "code",
   "execution_count": 64,
   "metadata": {
    "ExecuteTime": {
     "end_time": "2019-10-19T19:38:19.980664Z",
     "start_time": "2019-10-19T19:38:19.957839Z"
    },
    "hidden": true
   },
   "outputs": [
    {
     "data": {
      "text/plain": [
       "36"
      ]
     },
     "execution_count": 64,
     "metadata": {},
     "output_type": "execute_result"
    }
   ],
   "source": [
    "len(mutated_strats)"
   ]
  },
  {
   "cell_type": "code",
   "execution_count": 65,
   "metadata": {
    "ExecuteTime": {
     "end_time": "2019-10-21T01:34:01.527540Z",
     "start_time": "2019-10-21T01:34:01.493459Z"
    },
    "hidden": true
   },
   "outputs": [
    {
     "data": {
      "text/plain": [
       "[[5.0, 1.0, 2.0, 11.0, 21.0, 3.0, 2.0, 1.0, 32.0, 22.0],\n",
       " [5.0, 1.0, 2.0, 16.0, 16.0, 3.0, 2.0, 1.0, 32.0, 22.0],\n",
       " [5.0, 1.0, 2.0, 16.0, 21.0, 3.0, 2.0, 1.0, 27.0, 22.0],\n",
       " [5.0, 1.0, 2.0, 16.0, 21.0, 3.0, 2.0, 1.0, 32.0, 17.0]]"
      ]
     },
     "execution_count": 65,
     "metadata": {},
     "output_type": "execute_result"
    }
   ],
   "source": [
    "mutated_strats[:4]"
   ]
  },
  {
   "cell_type": "markdown",
   "metadata": {
    "hidden": true
   },
   "source": [
    "what about mixed strategies - also mutation mixed strategies"
   ]
  },
  {
   "cell_type": "code",
   "execution_count": 106,
   "metadata": {
    "hidden": true
   },
   "outputs": [
    {
     "data": {
      "text/plain": [
       "array(['I spent way too much time running genetic algorithms to do well against the strategies that did well last time, and then eventually randomly settled on this.'],\n",
       "      dtype=object)"
      ]
     },
     "execution_count": 106,
     "metadata": {},
     "output_type": "execute_result"
    }
   ],
   "source": [
    "temp_df[temp_df.total_troops != 100].loc[:, ['reason']].values[0]"
   ]
  },
  {
   "cell_type": "code",
   "execution_count": null,
   "metadata": {
    "hidden": true
   },
   "outputs": [],
   "source": []
  },
  {
   "cell_type": "markdown",
   "metadata": {},
   "source": [
    "## Mixed Strategies"
   ]
  },
  {
   "cell_type": "code",
   "execution_count": null,
   "metadata": {},
   "outputs": [],
   "source": []
  }
 ],
 "metadata": {
  "kernelspec": {
   "display_name": "Python 3",
   "language": "python",
   "name": "python3"
  },
  "language_info": {
   "codemirror_mode": {
    "name": "ipython",
    "version": 3
   },
   "file_extension": ".py",
   "mimetype": "text/x-python",
   "name": "python",
   "nbconvert_exporter": "python",
   "pygments_lexer": "ipython3",
   "version": "3.6.8"
  },
  "varInspector": {
   "cols": {
    "lenName": 16,
    "lenType": 16,
    "lenVar": 40
   },
   "kernels_config": {
    "python": {
     "delete_cmd_postfix": "",
     "delete_cmd_prefix": "del ",
     "library": "var_list.py",
     "varRefreshCmd": "print(var_dic_list())"
    },
    "r": {
     "delete_cmd_postfix": ") ",
     "delete_cmd_prefix": "rm(",
     "library": "var_list.r",
     "varRefreshCmd": "cat(var_dic_list()) "
    }
   },
   "types_to_exclude": [
    "module",
    "function",
    "builtin_function_or_method",
    "instance",
    "_Feature"
   ],
   "window_display": false
  }
 },
 "nbformat": 4,
 "nbformat_minor": 2
}
