{
 "cells": [
  {
   "cell_type": "code",
   "execution_count": 21,
   "metadata": {
    "ExecuteTime": {
     "end_time": "2019-12-04T23:51:44.883392Z",
     "start_time": "2019-12-04T23:51:44.833373Z"
    }
   },
   "outputs": [],
   "source": [
    "import sys\n",
    "sys.path.append(\"../code\")\n",
    "import pandas as pd\n",
    "import random\n",
    "from glob import glob\n",
    "import matplotlib.pyplot as plt\n",
    "%matplotlib inline"
   ]
  },
  {
   "cell_type": "code",
   "execution_count": 22,
   "metadata": {
    "ExecuteTime": {
     "end_time": "2019-12-04T23:51:45.100508Z",
     "start_time": "2019-12-04T23:51:45.062087Z"
    }
   },
   "outputs": [],
   "source": [
    "import blotto_utils as bu\n",
    "from agent import Agent\n",
    "import agent_utils as au"
   ]
  },
  {
   "cell_type": "code",
   "execution_count": 23,
   "metadata": {
    "ExecuteTime": {
     "end_time": "2019-12-04T23:51:45.341094Z",
     "start_time": "2019-12-04T23:51:45.309107Z"
    }
   },
   "outputs": [
    {
     "name": "stdout",
     "output_type": "stream",
     "text": [
      "The autoreload extension is already loaded. To reload it, use:\n",
      "  %reload_ext autoreload\n"
     ]
    }
   ],
   "source": [
    "%load_ext autoreload\n",
    "%autoreload 2"
   ]
  },
  {
   "cell_type": "code",
   "execution_count": 24,
   "metadata": {
    "ExecuteTime": {
     "end_time": "2019-12-04T23:51:45.640168Z",
     "start_time": "2019-12-04T23:51:45.609600Z"
    }
   },
   "outputs": [
    {
     "data": {
      "text/html": [
       "<style>.container { width:95% !important; }</style>"
      ],
      "text/plain": [
       "<IPython.core.display.HTML object>"
      ]
     },
     "metadata": {},
     "output_type": "display_data"
    }
   ],
   "source": [
    "from IPython.core.display import display, HTML\n",
    "display(HTML(\"<style>.container { width:95% !important; }</style>\"))"
   ]
  },
  {
   "cell_type": "code",
   "execution_count": 25,
   "metadata": {
    "ExecuteTime": {
     "end_time": "2019-12-04T23:51:46.361368Z",
     "start_time": "2019-12-04T23:51:46.336466Z"
    }
   },
   "outputs": [],
   "source": [
    "pd.options.display.max_colwidth = 10"
   ]
  },
  {
   "cell_type": "markdown",
   "metadata": {},
   "source": [
    "# 538 Data"
   ]
  },
  {
   "cell_type": "code",
   "execution_count": 6,
   "metadata": {
    "ExecuteTime": {
     "end_time": "2019-12-04T23:43:48.842092Z",
     "start_time": "2019-12-04T23:43:48.770490Z"
    }
   },
   "outputs": [],
   "source": [
    "weights = [1, 2, 3, 4, 5, 6, 7, 8, 9, 10]\n",
    "\n",
    "data_dir = '/Users/Alex/Documents/Alex/Yale/Fall 2019/CPSC_490/blotto/data/'\n",
    "\n",
    "fivethirtyeight_data_dir = data_dir + 'fivethirtyeight/'\n",
    "\n",
    "sorted(glob(fivethirtyeight_data_dir + '*'))\n",
    "\n",
    "temp_df = pd.read_csv(glob(fivethirtyeight_data_dir + '*')[0])\n",
    "\n",
    "new_column_names = list(map((lambda x : '_'.join(x.split(' ')).lower()), list(temp_df.columns)))\n",
    "new_column_names[-1] = 'reason'\n",
    "\n",
    "temp_df.rename(dict(zip(list(temp_df.columns), new_column_names)), axis=1, inplace=True)\n",
    "\n",
    "temp_df['total_troops'] = temp_df['castle_1'] + \\\n",
    "                          temp_df['castle_2'] + \\\n",
    "                          temp_df['castle_3'] + \\\n",
    "                          temp_df['castle_4'] + \\\n",
    "                          temp_df['castle_5'] + \\\n",
    "                          temp_df['castle_6'] + \\\n",
    "                          temp_df['castle_7'] + \\\n",
    "                          temp_df['castle_8'] + \\\n",
    "                          temp_df['castle_9'] + \\\n",
    "                          temp_df['castle_10']\n",
    "\n",
    "full_strats_df = temp_df[temp_df.total_troops == 100].copy()\n",
    "\n",
    "full_strats_list = full_strats_df.to_dict('records')\n",
    "\n",
    "simp_strats_list = [[int(x[1]) for x in list(y.items())[:10]] for y in full_strats_list]"
   ]
  },
  {
   "cell_type": "markdown",
   "metadata": {},
   "source": [
    "## Divide into two players"
   ]
  },
  {
   "cell_type": "code",
   "execution_count": 7,
   "metadata": {
    "ExecuteTime": {
     "end_time": "2019-12-04T23:43:49.913320Z",
     "start_time": "2019-12-04T23:43:49.896210Z"
    }
   },
   "outputs": [],
   "source": [
    "random.seed(0)"
   ]
  },
  {
   "cell_type": "code",
   "execution_count": 8,
   "metadata": {
    "ExecuteTime": {
     "end_time": "2019-12-04T23:43:50.945786Z",
     "start_time": "2019-12-04T23:43:50.922615Z"
    }
   },
   "outputs": [],
   "source": [
    "a_strat_init = random.sample(simp_strats_list, 100)\n",
    "b_strat_init = random.sample(simp_strats_list, 100)"
   ]
  },
  {
   "cell_type": "code",
   "execution_count": 9,
   "metadata": {
    "ExecuteTime": {
     "end_time": "2019-12-04T23:43:51.835557Z",
     "start_time": "2019-12-04T23:43:51.813851Z"
    }
   },
   "outputs": [
    {
     "data": {
      "text/plain": [
       "(100, 100)"
      ]
     },
     "execution_count": 9,
     "metadata": {},
     "output_type": "execute_result"
    }
   ],
   "source": [
    "len(a_strat_init), len(b_strat_init)"
   ]
  },
  {
   "cell_type": "markdown",
   "metadata": {},
   "source": [
    "# Agent"
   ]
  },
  {
   "cell_type": "code",
   "execution_count": 10,
   "metadata": {
    "ExecuteTime": {
     "end_time": "2019-12-04T23:43:52.743186Z",
     "start_time": "2019-12-04T23:43:52.718473Z"
    }
   },
   "outputs": [],
   "source": [
    "random.seed(0)"
   ]
  },
  {
   "cell_type": "code",
   "execution_count": 11,
   "metadata": {
    "ExecuteTime": {
     "end_time": "2019-12-04T23:43:53.672212Z",
     "start_time": "2019-12-04T23:43:53.652773Z"
    }
   },
   "outputs": [],
   "source": [
    "temp_noise = bu.generate_noise_arrays(1)"
   ]
  },
  {
   "cell_type": "code",
   "execution_count": 12,
   "metadata": {
    "ExecuteTime": {
     "end_time": "2019-12-04T23:43:54.666848Z",
     "start_time": "2019-12-04T23:43:54.637154Z"
    }
   },
   "outputs": [],
   "source": [
    "def evolve(a_strats, b_strats, generations, noise):\n",
    "    for _ in range(generations):\n",
    "        a_results, b_results = bu.eval_strats(a_strats, b_strats, weights)\n",
    "\n",
    "        a_fittest = sorted(a_results, key=(lambda x: (x[1], -(x[0][-1]))), reverse=True)\n",
    "        b_fittest = sorted(b_results, key=(lambda x: (x[1], -(x[0][-1]))), reverse=True)\n",
    "\n",
    "        a_next_gen = []\n",
    "        b_next_gen = []\n",
    "        for i in range(14):\n",
    "            for j in range(i+1, 15):\n",
    "                a_next_gen.append(bu.mutate_noise(bu.make_integer(bu.cross([a_fittest[i][0], a_fittest[j][0]]), seed=(i+j+i*j)), temp_noise, seed=(i+j)))\n",
    "                b_next_gen.append(bu.mutate_noise(bu.make_integer(bu.cross([b_fittest[i][0], b_fittest[j][0]]), seed=(i+j+i*j)), temp_noise, seed=(i+j)))\n",
    "\n",
    "        a_strats = a_next_gen\n",
    "        b_strats = b_next_gen\n",
    "        \n",
    "    return a_fittest, b_fittest, a_strats, b_strats"
   ]
  },
  {
   "cell_type": "code",
   "execution_count": 13,
   "metadata": {
    "ExecuteTime": {
     "end_time": "2019-12-04T23:43:55.631221Z",
     "start_time": "2019-12-04T23:43:55.597122Z"
    }
   },
   "outputs": [],
   "source": [
    "a_strat_init = random.sample(simp_strats_list, 100)\n",
    "b_strat_init = random.sample(simp_strats_list, 100)\n",
    "\n",
    "a_strats = a_strat_init\n",
    "b_strats = b_strat_init"
   ]
  },
  {
   "cell_type": "code",
   "execution_count": 14,
   "metadata": {
    "ExecuteTime": {
     "end_time": "2019-12-04T23:43:56.561586Z",
     "start_time": "2019-12-04T23:43:56.538978Z"
    }
   },
   "outputs": [],
   "source": [
    "temp_a_strats, temp_b_strats = a_strats, b_strats"
   ]
  },
  {
   "cell_type": "code",
   "execution_count": 15,
   "metadata": {
    "ExecuteTime": {
     "end_time": "2019-12-04T23:43:57.430322Z",
     "start_time": "2019-12-04T23:43:57.411931Z"
    }
   },
   "outputs": [],
   "source": [
    "best_a, best_b = [], []"
   ]
  },
  {
   "cell_type": "code",
   "execution_count": 28,
   "metadata": {
    "ExecuteTime": {
     "end_time": "2019-12-04T23:55:18.437249Z",
     "start_time": "2019-12-04T23:54:47.335201Z"
    },
    "scrolled": true
   },
   "outputs": [],
   "source": [
    "for i in range(50):\n",
    "#     print(i)\n",
    "    temp_a_fittest, temp_b_fittest, temp_a_strats, temp_b_strats = evolve(temp_a_strats, temp_b_strats, 5, temp_noise)\n",
    "    best_a.append(temp_a_fittest[0][0])\n",
    "    best_b.append(temp_b_fittest[0][0])\n",
    "#     print('\\n'.join(map(str,temp_a_fittest[:5])))"
   ]
  },
  {
   "cell_type": "code",
   "execution_count": 17,
   "metadata": {
    "ExecuteTime": {
     "end_time": "2019-12-04T23:44:38.802158Z",
     "start_time": "2019-12-04T23:44:38.778752Z"
    }
   },
   "outputs": [
    {
     "data": {
      "text/plain": [
       "(50, 50)"
      ]
     },
     "execution_count": 17,
     "metadata": {},
     "output_type": "execute_result"
    }
   ],
   "source": [
    "len(best_a), len(best_b)"
   ]
  },
  {
   "cell_type": "markdown",
   "metadata": {},
   "source": [
    "# Testing"
   ]
  },
  {
   "cell_type": "code",
   "execution_count": 18,
   "metadata": {
    "ExecuteTime": {
     "end_time": "2019-12-04T23:45:19.677026Z",
     "start_time": "2019-12-04T23:44:41.017595Z"
    }
   },
   "outputs": [
    {
     "name": "stdout",
     "output_type": "stream",
     "text": [
      "10 51.091\n",
      "15 55.192\n",
      "20 64.769\n",
      "25 65.262\n",
      "30 67.564\n",
      "40 66.809\n",
      "50 65.225\n",
      "60 65.228\n",
      "70 65.386\n",
      "80 65.263\n",
      "90 65.2\n",
      "100 65.377\n",
      "150 65.283\n",
      "200 65.374\n"
     ]
    }
   ],
   "source": [
    "for index in [10, 15, 20, 25, 30, 40, 50, 60, 70, 80, 90, 100, 150, 200]:\n",
    "    temp_a = Agent(best_a[:index])\n",
    "    temp_b = Agent(best_b[:index])\n",
    "\n",
    "    temp_sum = 0\n",
    "    times = 1000\n",
    "    for _ in range(times):\n",
    "        temp_sum += au.play_game(temp_a, temp_b, weights, weights, trials=100)\n",
    "    print(index, temp_sum/times)"
   ]
  },
  {
   "cell_type": "code",
   "execution_count": null,
   "metadata": {},
   "outputs": [],
   "source": []
  },
  {
   "cell_type": "code",
   "execution_count": null,
   "metadata": {},
   "outputs": [],
   "source": []
  }
 ],
 "metadata": {
  "kernelspec": {
   "display_name": "Python 3",
   "language": "python",
   "name": "python3"
  },
  "language_info": {
   "codemirror_mode": {
    "name": "ipython",
    "version": 3
   },
   "file_extension": ".py",
   "mimetype": "text/x-python",
   "name": "python",
   "nbconvert_exporter": "python",
   "pygments_lexer": "ipython3",
   "version": "3.6.8"
  },
  "varInspector": {
   "cols": {
    "lenName": 16,
    "lenType": 16,
    "lenVar": 40
   },
   "kernels_config": {
    "python": {
     "delete_cmd_postfix": "",
     "delete_cmd_prefix": "del ",
     "library": "var_list.py",
     "varRefreshCmd": "print(var_dic_list())"
    },
    "r": {
     "delete_cmd_postfix": ") ",
     "delete_cmd_prefix": "rm(",
     "library": "var_list.r",
     "varRefreshCmd": "cat(var_dic_list()) "
    }
   },
   "types_to_exclude": [
    "module",
    "function",
    "builtin_function_or_method",
    "instance",
    "_Feature"
   ],
   "window_display": false
  }
 },
 "nbformat": 4,
 "nbformat_minor": 2
}
