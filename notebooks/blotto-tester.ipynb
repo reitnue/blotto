{
 "cells": [
  {
   "cell_type": "code",
   "execution_count": 1,
   "metadata": {
    "ExecuteTime": {
     "end_time": "2019-12-05T00:14:13.344644Z",
     "start_time": "2019-12-05T00:14:12.836665Z"
    }
   },
   "outputs": [],
   "source": [
    "import sys\n",
    "sys.path.append(\"../code\")\n",
    "import pandas as pd\n",
    "import random\n",
    "from glob import glob\n",
    "import matplotlib.pyplot as plt\n",
    "%matplotlib inline"
   ]
  },
  {
   "cell_type": "code",
   "execution_count": 2,
   "metadata": {
    "ExecuteTime": {
     "end_time": "2019-12-05T00:14:13.362499Z",
     "start_time": "2019-12-05T00:14:13.346650Z"
    }
   },
   "outputs": [],
   "source": [
    "import blotto_utils as bu\n",
    "from agent import Agent\n",
    "import agent_utils as au"
   ]
  },
  {
   "cell_type": "code",
   "execution_count": 3,
   "metadata": {
    "ExecuteTime": {
     "end_time": "2019-12-05T00:14:13.393285Z",
     "start_time": "2019-12-05T00:14:13.366832Z"
    }
   },
   "outputs": [],
   "source": [
    "%load_ext autoreload\n",
    "%autoreload 2"
   ]
  },
  {
   "cell_type": "code",
   "execution_count": 4,
   "metadata": {
    "ExecuteTime": {
     "end_time": "2019-12-05T00:14:13.420294Z",
     "start_time": "2019-12-05T00:14:13.395370Z"
    }
   },
   "outputs": [
    {
     "data": {
      "text/html": [
       "<style>.container { width:95% !important; }</style>"
      ],
      "text/plain": [
       "<IPython.core.display.HTML object>"
      ]
     },
     "metadata": {},
     "output_type": "display_data"
    }
   ],
   "source": [
    "from IPython.core.display import display, HTML\n",
    "display(HTML(\"<style>.container { width:95% !important; }</style>\"))"
   ]
  },
  {
   "cell_type": "code",
   "execution_count": 5,
   "metadata": {
    "ExecuteTime": {
     "end_time": "2019-12-05T00:14:13.460642Z",
     "start_time": "2019-12-05T00:14:13.424246Z"
    }
   },
   "outputs": [],
   "source": [
    "pd.options.display.max_colwidth = 10"
   ]
  },
  {
   "cell_type": "markdown",
   "metadata": {},
   "source": [
    "# 538 Data"
   ]
  },
  {
   "cell_type": "code",
   "execution_count": 6,
   "metadata": {
    "ExecuteTime": {
     "end_time": "2019-12-05T00:14:13.587226Z",
     "start_time": "2019-12-05T00:14:13.497190Z"
    }
   },
   "outputs": [],
   "source": [
    "weights = [1, 2, 3, 4, 5, 6, 7, 8, 9, 10]\n",
    "\n",
    "data_dir = '/Users/Alex/Documents/Alex/Yale/Fall 2019/CPSC_490/blotto/data/'\n",
    "\n",
    "fivethirtyeight_data_dir = data_dir + 'fivethirtyeight/'\n",
    "\n",
    "sorted(glob(fivethirtyeight_data_dir + '*'))\n",
    "\n",
    "temp_df = pd.read_csv(glob(fivethirtyeight_data_dir + '*')[0])\n",
    "\n",
    "new_column_names = list(map((lambda x : '_'.join(x.split(' ')).lower()), list(temp_df.columns)))\n",
    "new_column_names[-1] = 'reason'\n",
    "\n",
    "temp_df.rename(dict(zip(list(temp_df.columns), new_column_names)), axis=1, inplace=True)\n",
    "\n",
    "temp_df['total_troops'] = temp_df['castle_1'] + \\\n",
    "                          temp_df['castle_2'] + \\\n",
    "                          temp_df['castle_3'] + \\\n",
    "                          temp_df['castle_4'] + \\\n",
    "                          temp_df['castle_5'] + \\\n",
    "                          temp_df['castle_6'] + \\\n",
    "                          temp_df['castle_7'] + \\\n",
    "                          temp_df['castle_8'] + \\\n",
    "                          temp_df['castle_9'] + \\\n",
    "                          temp_df['castle_10']\n",
    "\n",
    "full_strats_df = temp_df[temp_df.total_troops == 100].copy()\n",
    "\n",
    "full_strats_list = full_strats_df.to_dict('records')\n",
    "\n",
    "simp_strats_list = [[int(x[1]) for x in list(y.items())[:10]] for y in full_strats_list]"
   ]
  },
  {
   "cell_type": "markdown",
   "metadata": {},
   "source": [
    "## Divide into two players"
   ]
  },
  {
   "cell_type": "code",
   "execution_count": 7,
   "metadata": {
    "ExecuteTime": {
     "end_time": "2019-12-05T00:14:13.610684Z",
     "start_time": "2019-12-05T00:14:13.589454Z"
    }
   },
   "outputs": [],
   "source": [
    "random.seed(0)"
   ]
  },
  {
   "cell_type": "code",
   "execution_count": 8,
   "metadata": {
    "ExecuteTime": {
     "end_time": "2019-12-05T00:14:13.647027Z",
     "start_time": "2019-12-05T00:14:13.615562Z"
    }
   },
   "outputs": [],
   "source": [
    "a_strat_init = random.sample(simp_strats_list, 100)\n",
    "b_strat_init = random.sample(simp_strats_list, 100)"
   ]
  },
  {
   "cell_type": "code",
   "execution_count": 9,
   "metadata": {
    "ExecuteTime": {
     "end_time": "2019-12-05T00:14:13.677005Z",
     "start_time": "2019-12-05T00:14:13.652143Z"
    }
   },
   "outputs": [
    {
     "data": {
      "text/plain": [
       "(100, 100)"
      ]
     },
     "execution_count": 9,
     "metadata": {},
     "output_type": "execute_result"
    }
   ],
   "source": [
    "len(a_strat_init), len(b_strat_init)"
   ]
  },
  {
   "cell_type": "markdown",
   "metadata": {},
   "source": [
    "# Agent"
   ]
  },
  {
   "cell_type": "code",
   "execution_count": 66,
   "metadata": {
    "ExecuteTime": {
     "end_time": "2019-12-05T03:51:20.102059Z",
     "start_time": "2019-12-05T03:51:20.075901Z"
    }
   },
   "outputs": [],
   "source": [
    "random.seed(0)"
   ]
  },
  {
   "cell_type": "code",
   "execution_count": 67,
   "metadata": {
    "ExecuteTime": {
     "end_time": "2019-12-05T03:51:20.155603Z",
     "start_time": "2019-12-05T03:51:20.104522Z"
    }
   },
   "outputs": [],
   "source": [
    "temp_noise = bu.generate_noise_arrays(1)"
   ]
  },
  {
   "cell_type": "code",
   "execution_count": 68,
   "metadata": {
    "ExecuteTime": {
     "end_time": "2019-12-05T03:51:20.255203Z",
     "start_time": "2019-12-05T03:51:20.172216Z"
    }
   },
   "outputs": [],
   "source": [
    "def evolve(a_strats, b_strats, generations, noise):\n",
    "    for _ in range(generations):\n",
    "        a_results, b_results = bu.eval_strats(a_strats, b_strats, weights)\n",
    "\n",
    "        a_fittest = sorted(a_results, key=(lambda x: (x[1], -(x[0][-1]))), reverse=True)\n",
    "        b_fittest = sorted(b_results, key=(lambda x: (x[1], -(x[0][-1]))), reverse=True)\n",
    "\n",
    "        a_next_gen = []\n",
    "        b_next_gen = []\n",
    "        for i in range(14):\n",
    "            for j in range(i+1, 15):\n",
    "                a_next_gen.append(bu.mutate_noise(bu.make_integer(bu.cross([a_fittest[i][0], a_fittest[j][0]]), seed=(i+j+i*j)), temp_noise, seed=(i+j)))\n",
    "                b_next_gen.append(bu.mutate_noise(bu.make_integer(bu.cross([b_fittest[i][0], b_fittest[j][0]]), seed=(i+j+i*j)), temp_noise, seed=(i+j)))\n",
    "\n",
    "        a_strats = a_next_gen\n",
    "        b_strats = b_next_gen\n",
    "        \n",
    "    return a_fittest, b_fittest, a_strats, b_strats"
   ]
  },
  {
   "cell_type": "code",
   "execution_count": 69,
   "metadata": {
    "ExecuteTime": {
     "end_time": "2019-12-05T03:51:20.295111Z",
     "start_time": "2019-12-05T03:51:20.259704Z"
    }
   },
   "outputs": [],
   "source": [
    "a_strat_init = random.sample(simp_strats_list, 100)\n",
    "b_strat_init = random.sample(simp_strats_list, 100)\n",
    "\n",
    "a_strats = a_strat_init\n",
    "b_strats = b_strat_init"
   ]
  },
  {
   "cell_type": "code",
   "execution_count": 70,
   "metadata": {
    "ExecuteTime": {
     "end_time": "2019-12-05T03:51:20.354715Z",
     "start_time": "2019-12-05T03:51:20.310838Z"
    }
   },
   "outputs": [],
   "source": [
    "temp_a_strats, temp_b_strats = a_strats, b_strats"
   ]
  },
  {
   "cell_type": "code",
   "execution_count": 71,
   "metadata": {
    "ExecuteTime": {
     "end_time": "2019-12-05T03:51:20.403015Z",
     "start_time": "2019-12-05T03:51:20.359200Z"
    }
   },
   "outputs": [],
   "source": [
    "best_a, best_b = [], []"
   ]
  },
  {
   "cell_type": "code",
   "execution_count": 72,
   "metadata": {
    "ExecuteTime": {
     "end_time": "2019-12-05T03:51:48.521245Z",
     "start_time": "2019-12-05T03:51:20.406773Z"
    },
    "scrolled": true
   },
   "outputs": [],
   "source": [
    "for i in range(200):\n",
    "#     print(i)\n",
    "    temp_a_fittest, temp_b_fittest, temp_a_strats, temp_b_strats = evolve(temp_a_strats, temp_b_strats, 1, temp_noise)\n",
    "    best_a.append(temp_a_fittest[0][0])\n",
    "    best_b.append(temp_b_fittest[0][0])\n",
    "#     print('\\n'.join(map(str,temp_a_fittest[:5])))"
   ]
  },
  {
   "cell_type": "code",
   "execution_count": 73,
   "metadata": {
    "ExecuteTime": {
     "end_time": "2019-12-05T03:51:48.555524Z",
     "start_time": "2019-12-05T03:51:48.525262Z"
    }
   },
   "outputs": [
    {
     "data": {
      "text/plain": [
       "(200, 200)"
      ]
     },
     "execution_count": 73,
     "metadata": {},
     "output_type": "execute_result"
    }
   ],
   "source": [
    "len(best_a), len(best_b)"
   ]
  },
  {
   "cell_type": "markdown",
   "metadata": {},
   "source": [
    "# Testing"
   ]
  },
  {
   "cell_type": "code",
   "execution_count": 86,
   "metadata": {
    "ExecuteTime": {
     "end_time": "2019-12-07T07:26:18.652336Z",
     "start_time": "2019-12-07T07:26:18.575963Z"
    }
   },
   "outputs": [
    {
     "ename": "UnboundLocalError",
     "evalue": "local variable 'b_strats' referenced before assignment",
     "output_type": "error",
     "traceback": [
      "\u001b[0;31m---------------------------------------------------------------------------\u001b[0m",
      "\u001b[0;31mUnboundLocalError\u001b[0m                         Traceback (most recent call last)",
      "\u001b[0;32m<ipython-input-86-11131c72637a>\u001b[0m in \u001b[0;36m<module>\u001b[0;34m\u001b[0m\n\u001b[1;32m      6\u001b[0m     \u001b[0mtimes\u001b[0m \u001b[0;34m=\u001b[0m \u001b[0;36m1\u001b[0m\u001b[0;34m\u001b[0m\u001b[0;34m\u001b[0m\u001b[0m\n\u001b[1;32m      7\u001b[0m     \u001b[0;32mfor\u001b[0m \u001b[0m_\u001b[0m \u001b[0;32min\u001b[0m \u001b[0mrange\u001b[0m\u001b[0;34m(\u001b[0m\u001b[0mtimes\u001b[0m\u001b[0;34m)\u001b[0m\u001b[0;34m:\u001b[0m\u001b[0;34m\u001b[0m\u001b[0;34m\u001b[0m\u001b[0m\n\u001b[0;32m----> 8\u001b[0;31m         \u001b[0mtemp_sum\u001b[0m \u001b[0;34m+=\u001b[0m \u001b[0mau\u001b[0m\u001b[0;34m.\u001b[0m\u001b[0mplay_game\u001b[0m\u001b[0;34m(\u001b[0m\u001b[0mtemp_a\u001b[0m\u001b[0;34m,\u001b[0m \u001b[0mtemp_b\u001b[0m\u001b[0;34m,\u001b[0m \u001b[0mweights\u001b[0m\u001b[0;34m,\u001b[0m \u001b[0mweights\u001b[0m\u001b[0;34m,\u001b[0m \u001b[0mtrials\u001b[0m\u001b[0;34m=\u001b[0m\u001b[0;36m100\u001b[0m\u001b[0;34m)\u001b[0m\u001b[0;34m\u001b[0m\u001b[0;34m\u001b[0m\u001b[0m\n\u001b[0m\u001b[1;32m      9\u001b[0m         \u001b[0mprint\u001b[0m\u001b[0;34m(\u001b[0m\u001b[0mtype\u001b[0m\u001b[0;34m(\u001b[0m\u001b[0mtemp_a\u001b[0m\u001b[0;34m)\u001b[0m\u001b[0;34m)\u001b[0m\u001b[0;34m\u001b[0m\u001b[0;34m\u001b[0m\u001b[0m\n\u001b[1;32m     10\u001b[0m     \u001b[0mprint\u001b[0m\u001b[0;34m(\u001b[0m\u001b[0mindex\u001b[0m\u001b[0;34m,\u001b[0m \u001b[0mtemp_sum\u001b[0m\u001b[0;34m/\u001b[0m\u001b[0mtimes\u001b[0m\u001b[0;34m)\u001b[0m\u001b[0;34m\u001b[0m\u001b[0;34m\u001b[0m\u001b[0m\n",
      "\u001b[0;32m~/Documents/Alex/Yale/Fall 2019/CPSC_490/blotto/code/agent_utils.py\u001b[0m in \u001b[0;36mplay_game\u001b[0;34m(agent_a, agent_b, weight_a, weight_b, trials)\u001b[0m\n\u001b[1;32m     10\u001b[0m         \u001b[0mb_strats\u001b[0m \u001b[0;34m=\u001b[0m \u001b[0magent_b\u001b[0m\u001b[0;34m.\u001b[0m\u001b[0mplay\u001b[0m\u001b[0;34m(\u001b[0m\u001b[0mtrials\u001b[0m\u001b[0;34m=\u001b[0m\u001b[0mtrials\u001b[0m\u001b[0;34m)\u001b[0m\u001b[0;34m\u001b[0m\u001b[0;34m\u001b[0m\u001b[0m\n\u001b[1;32m     11\u001b[0m \u001b[0;34m\u001b[0m\u001b[0m\n\u001b[0;32m---> 12\u001b[0;31m     \u001b[0;32mfor\u001b[0m \u001b[0ma\u001b[0m\u001b[0;34m,\u001b[0m \u001b[0mb\u001b[0m \u001b[0;32min\u001b[0m \u001b[0mzip\u001b[0m\u001b[0;34m(\u001b[0m\u001b[0ma_strats\u001b[0m\u001b[0;34m,\u001b[0m \u001b[0mb_strats\u001b[0m\u001b[0;34m)\u001b[0m\u001b[0;34m:\u001b[0m\u001b[0;34m\u001b[0m\u001b[0;34m\u001b[0m\u001b[0m\n\u001b[0m\u001b[1;32m     13\u001b[0m         \u001b[0ma_wins\u001b[0m \u001b[0;34m+=\u001b[0m \u001b[0mbu\u001b[0m\u001b[0;34m.\u001b[0m\u001b[0mbattle\u001b[0m\u001b[0;34m(\u001b[0m\u001b[0ma\u001b[0m\u001b[0;34m,\u001b[0m \u001b[0mb\u001b[0m\u001b[0;34m,\u001b[0m \u001b[0mweight_a\u001b[0m\u001b[0;34m,\u001b[0m \u001b[0mweight_b\u001b[0m\u001b[0;34m,\u001b[0m \u001b[0msplit\u001b[0m\u001b[0;34m=\u001b[0m\u001b[0;32mFalse\u001b[0m\u001b[0;34m,\u001b[0m \u001b[0mseed\u001b[0m\u001b[0;34m=\u001b[0m\u001b[0;34m(\u001b[0m\u001b[0mbu\u001b[0m\u001b[0;34m.\u001b[0m\u001b[0ml1_norm\u001b[0m\u001b[0;34m(\u001b[0m\u001b[0ma\u001b[0m\u001b[0;34m,\u001b[0m \u001b[0mb\u001b[0m\u001b[0;34m)\u001b[0m\u001b[0;34m)\u001b[0m\u001b[0;34m)\u001b[0m\u001b[0;34m\u001b[0m\u001b[0;34m\u001b[0m\u001b[0m\n\u001b[1;32m     14\u001b[0m \u001b[0;34m\u001b[0m\u001b[0m\n",
      "\u001b[0;31mUnboundLocalError\u001b[0m: local variable 'b_strats' referenced before assignment"
     ]
    }
   ],
   "source": [
    "for index in [10, 15, 20, 25, 30, 40, 50, 60, 70, 80, 90, 100, 150, 200]:\n",
    "    temp_a = Agent(best_a[:index])\n",
    "    temp_b = Agent(best_b[:index])\n",
    "\n",
    "    temp_sum = 0\n",
    "    times = 1\n",
    "    for _ in range(times):\n",
    "        temp_sum += au.play_game(temp_a, temp_b, weights, weights, trials=100)\n",
    "        print(type(temp_a))\n",
    "    print(index, temp_sum/times)"
   ]
  },
  {
   "cell_type": "code",
   "execution_count": 78,
   "metadata": {
    "ExecuteTime": {
     "end_time": "2019-12-05T03:53:29.798020Z",
     "start_time": "2019-12-05T03:53:29.410102Z"
    }
   },
   "outputs": [
    {
     "name": "stdout",
     "output_type": "stream",
     "text": [
      "1 0.760797342192691\n",
      "10 0.646733111849391\n",
      "15 0.6223698781838317\n",
      "20 0.5825027685492802\n",
      "25 0.5138427464008859\n",
      "30 0.45071982281284606\n",
      "40 0.3842746400885936\n",
      "50 0.3610188261351052\n",
      "60 0.35658914728682173\n",
      "70 0.3289036544850498\n",
      "80 0.3233665559246955\n",
      "90 0.2978959025470653\n",
      "100 0.27464008859357697\n",
      "150 0.26245847176079734\n",
      "200 0.3001107419712071\n"
     ]
    }
   ],
   "source": [
    "for index in [1, 10, 15, 20, 25, 30, 40, 50, 60, 70, 80, 90, 100, 150, 200]:\n",
    "    agent_a = Agent(best_a[:index])\n",
    "    print(index, au.play_game(agent_a, simp_strats_list, weights, weights, trials=len(simp_strats_list)) / len(simp_strats_list))"
   ]
  },
  {
   "cell_type": "code",
   "execution_count": 80,
   "metadata": {
    "ExecuteTime": {
     "end_time": "2019-12-05T03:53:37.106202Z",
     "start_time": "2019-12-05T03:53:36.732798Z"
    }
   },
   "outputs": [
    {
     "name": "stdout",
     "output_type": "stream",
     "text": [
      "1 0.7098560354374308\n",
      "10 0.5116279069767442\n",
      "15 0.49169435215946844\n",
      "20 0.4418604651162791\n",
      "25 0.416389811738649\n",
      "30 0.3842746400885936\n",
      "40 0.27464008859357697\n",
      "50 0.292358803986711\n",
      "60 0.26578073089701\n",
      "70 0.25249169435215946\n",
      "80 0.2702104097452935\n",
      "90 0.21373200442967885\n",
      "100 0.2070874861572536\n",
      "150 0.1716500553709856\n",
      "200 0.22591362126245848\n"
     ]
    }
   ],
   "source": [
    "for index in [1, 10, 15, 20, 25, 30, 40, 50, 60, 70, 80, 90, 100, 150, 200]:\n",
    "    agent_b = Agent(best_b[:index])\n",
    "    print(index, au.play_game(agent_b, simp_strats_list, weights, weights, trials=len(simp_strats_list)) / len(simp_strats_list))"
   ]
  },
  {
   "cell_type": "code",
   "execution_count": 85,
   "metadata": {
    "ExecuteTime": {
     "end_time": "2019-12-07T07:26:01.477766Z",
     "start_time": "2019-12-07T07:26:01.191013Z"
    }
   },
   "outputs": [
    {
     "data": {
      "text/plain": [
       "agent.Agent"
      ]
     },
     "execution_count": 85,
     "metadata": {},
     "output_type": "execute_result"
    }
   ],
   "source": [
    "type(agent_b)"
   ]
  },
  {
   "cell_type": "code",
   "execution_count": 81,
   "metadata": {
    "ExecuteTime": {
     "end_time": "2019-12-05T03:57:50.451112Z",
     "start_time": "2019-12-05T03:57:50.424496Z"
    }
   },
   "outputs": [
    {
     "data": {
      "text/plain": [
       "[0, 1, 8, 14, 16, 1, 22, 3, 25, 10]"
      ]
     },
     "execution_count": 81,
     "metadata": {},
     "output_type": "execute_result"
    }
   ],
   "source": [
    "best_b[0]"
   ]
  },
  {
   "cell_type": "code",
   "execution_count": 82,
   "metadata": {
    "ExecuteTime": {
     "end_time": "2019-12-05T03:57:56.232395Z",
     "start_time": "2019-12-05T03:57:56.204591Z"
    }
   },
   "outputs": [
    {
     "data": {
      "text/plain": [
       "[1, 1, 1, 15, 20, 1, 1, 1, 30, 29]"
      ]
     },
     "execution_count": 82,
     "metadata": {},
     "output_type": "execute_result"
    }
   ],
   "source": [
    "best_a[0]"
   ]
  },
  {
   "cell_type": "markdown",
   "metadata": {},
   "source": [
    "# ew"
   ]
  },
  {
   "cell_type": "code",
   "execution_count": 83,
   "metadata": {
    "ExecuteTime": {
     "end_time": "2019-12-05T04:08:55.348626Z",
     "start_time": "2019-12-05T04:08:55.312819Z"
    }
   },
   "outputs": [],
   "source": [
    "temp_a, temp_b = bu.eval_strats([[15,10,10,10,10,10,10,10,10,5]], simp_strats_list, weights)"
   ]
  },
  {
   "cell_type": "code",
   "execution_count": 84,
   "metadata": {
    "ExecuteTime": {
     "end_time": "2019-12-05T04:08:57.215655Z",
     "start_time": "2019-12-05T04:08:57.191702Z"
    }
   },
   "outputs": [
    {
     "data": {
      "text/plain": [
       "[([15, 10, 10, 10, 10, 10, 10, 10, 10, 5], 391)]"
      ]
     },
     "execution_count": 84,
     "metadata": {},
     "output_type": "execute_result"
    }
   ],
   "source": [
    "sorted(temp_a, key=(lambda x: (x[1], -(x[0][-1]))), reverse=True)"
   ]
  },
  {
   "cell_type": "code",
   "execution_count": null,
   "metadata": {},
   "outputs": [],
   "source": []
  }
 ],
 "metadata": {
  "kernelspec": {
   "display_name": "Python 3",
   "language": "python",
   "name": "python3"
  },
  "language_info": {
   "codemirror_mode": {
    "name": "ipython",
    "version": 3
   },
   "file_extension": ".py",
   "mimetype": "text/x-python",
   "name": "python",
   "nbconvert_exporter": "python",
   "pygments_lexer": "ipython3",
   "version": "3.6.8"
  },
  "varInspector": {
   "cols": {
    "lenName": 16,
    "lenType": 16,
    "lenVar": 40
   },
   "kernels_config": {
    "python": {
     "delete_cmd_postfix": "",
     "delete_cmd_prefix": "del ",
     "library": "var_list.py",
     "varRefreshCmd": "print(var_dic_list())"
    },
    "r": {
     "delete_cmd_postfix": ") ",
     "delete_cmd_prefix": "rm(",
     "library": "var_list.r",
     "varRefreshCmd": "cat(var_dic_list()) "
    }
   },
   "types_to_exclude": [
    "module",
    "function",
    "builtin_function_or_method",
    "instance",
    "_Feature"
   ],
   "window_display": false
  }
 },
 "nbformat": 4,
 "nbformat_minor": 2
}
