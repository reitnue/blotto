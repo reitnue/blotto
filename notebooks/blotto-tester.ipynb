{
 "cells": [
  {
   "cell_type": "code",
   "execution_count": 1,
   "metadata": {
    "ExecuteTime": {
     "end_time": "2019-12-04T03:40:08.707206Z",
     "start_time": "2019-12-04T03:40:08.007617Z"
    }
   },
   "outputs": [],
   "source": [
    "import sys\n",
    "sys.path.append(\"../code\")\n",
    "import pandas as pd\n",
    "import random\n",
    "from glob import glob\n",
    "import matplotlib.pyplot as plt\n",
    "%matplotlib inline"
   ]
  },
  {
   "cell_type": "code",
   "execution_count": 2,
   "metadata": {
    "ExecuteTime": {
     "end_time": "2019-12-04T03:40:09.481871Z",
     "start_time": "2019-12-04T03:40:09.476077Z"
    }
   },
   "outputs": [],
   "source": [
    "import blotto_utils as bu"
   ]
  },
  {
   "cell_type": "code",
   "execution_count": 3,
   "metadata": {
    "ExecuteTime": {
     "end_time": "2019-12-04T03:40:10.358263Z",
     "start_time": "2019-12-04T03:40:10.327185Z"
    }
   },
   "outputs": [],
   "source": [
    "%load_ext autoreload\n",
    "%autoreload 2"
   ]
  },
  {
   "cell_type": "code",
   "execution_count": 4,
   "metadata": {
    "ExecuteTime": {
     "end_time": "2019-12-04T03:40:11.028853Z",
     "start_time": "2019-12-04T03:40:11.000712Z"
    }
   },
   "outputs": [
    {
     "data": {
      "text/html": [
       "<style>.container { width:95% !important; }</style>"
      ],
      "text/plain": [
       "<IPython.core.display.HTML object>"
      ]
     },
     "metadata": {},
     "output_type": "display_data"
    }
   ],
   "source": [
    "from IPython.core.display import display, HTML\n",
    "display(HTML(\"<style>.container { width:95% !important; }</style>\"))"
   ]
  },
  {
   "cell_type": "code",
   "execution_count": 11,
   "metadata": {
    "ExecuteTime": {
     "end_time": "2019-12-04T03:43:14.205480Z",
     "start_time": "2019-12-04T03:43:14.176635Z"
    }
   },
   "outputs": [],
   "source": [
    "pd.options.display.max_colwidth = 100"
   ]
  },
  {
   "cell_type": "markdown",
   "metadata": {},
   "source": [
    "# 538 Data"
   ]
  },
  {
   "cell_type": "code",
   "execution_count": 7,
   "metadata": {
    "ExecuteTime": {
     "end_time": "2019-12-04T03:41:45.725129Z",
     "start_time": "2019-12-04T03:41:45.652829Z"
    }
   },
   "outputs": [],
   "source": [
    "weights = [1, 2, 3, 4, 5, 6, 7, 8, 9, 10]\n",
    "\n",
    "data_dir = '/Users/Alex/Documents/Alex/Yale/Fall 2019/CPSC_490/blotto/data/'\n",
    "\n",
    "fivethirtyeight_data_dir = data_dir + 'fivethirtyeight/'\n",
    "\n",
    "sorted(glob(fivethirtyeight_data_dir + '*'))\n",
    "\n",
    "temp_df = pd.read_csv(glob(fivethirtyeight_data_dir + '*')[0])\n",
    "\n",
    "new_column_names = list(map((lambda x : '_'.join(x.split(' ')).lower()), list(temp_df.columns)))\n",
    "new_column_names[-1] = 'reason'\n",
    "\n",
    "temp_df.rename(dict(zip(list(temp_df.columns), new_column_names)), axis=1, inplace=True)\n",
    "\n",
    "temp_df['total_troops'] = temp_df['castle_1'] + \\\n",
    "                          temp_df['castle_2'] + \\\n",
    "                          temp_df['castle_3'] + \\\n",
    "                          temp_df['castle_4'] + \\\n",
    "                          temp_df['castle_5'] + \\\n",
    "                          temp_df['castle_6'] + \\\n",
    "                          temp_df['castle_7'] + \\\n",
    "                          temp_df['castle_8'] + \\\n",
    "                          temp_df['castle_9'] + \\\n",
    "                          temp_df['castle_10']\n",
    "\n",
    "full_strats_df = temp_df[temp_df.total_troops == 100].copy()\n",
    "\n",
    "full_strats_list = full_strats_df.to_dict('records')\n",
    "\n",
    "simp_strats_list = [[int(x[1]) for x in list(y.items())[:10]] for y in full_strats_list]"
   ]
  },
  {
   "cell_type": "markdown",
   "metadata": {},
   "source": [
    "## Divide into two players"
   ]
  },
  {
   "cell_type": "code",
   "execution_count": 10,
   "metadata": {
    "ExecuteTime": {
     "end_time": "2019-12-01T02:02:29.807529Z",
     "start_time": "2019-12-01T02:02:29.788039Z"
    }
   },
   "outputs": [],
   "source": [
    "random.seed(0)"
   ]
  },
  {
   "cell_type": "code",
   "execution_count": 11,
   "metadata": {
    "ExecuteTime": {
     "end_time": "2019-12-01T02:02:30.147078Z",
     "start_time": "2019-12-01T02:02:30.119246Z"
    }
   },
   "outputs": [],
   "source": [
    "a_strat_init = random.sample(simp_strats_list, 100)\n",
    "b_strat_init = random.sample(simp_strats_list, 100)"
   ]
  },
  {
   "cell_type": "code",
   "execution_count": 12,
   "metadata": {
    "ExecuteTime": {
     "end_time": "2019-12-01T02:02:30.538834Z",
     "start_time": "2019-12-01T02:02:30.507428Z"
    }
   },
   "outputs": [
    {
     "data": {
      "text/plain": [
       "(100, 100)"
      ]
     },
     "execution_count": 12,
     "metadata": {},
     "output_type": "execute_result"
    }
   ],
   "source": [
    "len(a_strat_init), len(b_strat_init)"
   ]
  },
  {
   "cell_type": "code",
   "execution_count": null,
   "metadata": {},
   "outputs": [],
   "source": []
  },
  {
   "cell_type": "markdown",
   "metadata": {},
   "source": [
    "# Agent"
   ]
  },
  {
   "cell_type": "code",
   "execution_count": null,
   "metadata": {},
   "outputs": [],
   "source": []
  }
 ],
 "metadata": {
  "kernelspec": {
   "display_name": "Python 3",
   "language": "python",
   "name": "python3"
  },
  "language_info": {
   "codemirror_mode": {
    "name": "ipython",
    "version": 3
   },
   "file_extension": ".py",
   "mimetype": "text/x-python",
   "name": "python",
   "nbconvert_exporter": "python",
   "pygments_lexer": "ipython3",
   "version": "3.6.8"
  },
  "varInspector": {
   "cols": {
    "lenName": 16,
    "lenType": 16,
    "lenVar": 40
   },
   "kernels_config": {
    "python": {
     "delete_cmd_postfix": "",
     "delete_cmd_prefix": "del ",
     "library": "var_list.py",
     "varRefreshCmd": "print(var_dic_list())"
    },
    "r": {
     "delete_cmd_postfix": ") ",
     "delete_cmd_prefix": "rm(",
     "library": "var_list.r",
     "varRefreshCmd": "cat(var_dic_list()) "
    }
   },
   "types_to_exclude": [
    "module",
    "function",
    "builtin_function_or_method",
    "instance",
    "_Feature"
   ],
   "window_display": false
  }
 },
 "nbformat": 4,
 "nbformat_minor": 2
}
