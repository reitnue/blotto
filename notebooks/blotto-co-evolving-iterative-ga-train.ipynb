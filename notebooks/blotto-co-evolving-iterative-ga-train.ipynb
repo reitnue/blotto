{
 "cells": [
  {
   "cell_type": "code",
   "execution_count": 1,
   "metadata": {
    "ExecuteTime": {
     "end_time": "2019-12-12T02:55:43.658218Z",
     "start_time": "2019-12-12T02:55:43.003397Z"
    }
   },
   "outputs": [
    {
     "data": {
      "text/html": [
       "<style>.container { width:95% !important; }</style>"
      ],
      "text/plain": [
       "<IPython.core.display.HTML object>"
      ]
     },
     "metadata": {},
     "output_type": "display_data"
    }
   ],
   "source": [
    "import sys\n",
    "sys.path.append(\"../code\")\n",
    "import pandas as pd\n",
    "import random\n",
    "from glob import glob\n",
    "import matplotlib.pyplot as plt\n",
    "import numpy as np\n",
    "%matplotlib inline\n",
    "\n",
    "import blotto_utils as bu\n",
    "import agent_utils as au\n",
    "import genetic_algorithm as ga\n",
    "\n",
    "from agent import Agent\n",
    "\n",
    "%load_ext autoreload\n",
    "%autoreload 2\n",
    "\n",
    "from IPython.core.display import display, HTML\n",
    "display(HTML(\"<style>.container { width:95% !important; }</style>\"))"
   ]
  },
  {
   "cell_type": "markdown",
   "metadata": {},
   "source": [
    "# 538 Data"
   ]
  },
  {
   "cell_type": "code",
   "execution_count": 2,
   "metadata": {
    "ExecuteTime": {
     "end_time": "2019-12-12T02:55:43.888436Z",
     "start_time": "2019-12-12T02:55:43.662167Z"
    },
    "code_folding": [
     9
    ]
   },
   "outputs": [
    {
     "name": "stdout",
     "output_type": "stream",
     "text": [
      "0\n",
      "1\n",
      "2\n"
     ]
    }
   ],
   "source": [
    "weights = [1, 2, 3, 4, 5, 6, 7, 8, 9, 10]\n",
    "\n",
    "data_dir = '/Users/Alex/Documents/Alex/Yale/Fall 2019/CPSC_490/blotto/data/'\n",
    "\n",
    "fivethirtyeight_data_dir = data_dir + 'fivethirtyeight/'\n",
    "\n",
    "data_files = sorted(glob(fivethirtyeight_data_dir + '*'))\n",
    "train_list = []\n",
    "test_list = []\n",
    "for i in range(len(data_files)):\n",
    "    print(i)\n",
    "    temp_df = pd.read_csv(data_files[i])\n",
    "    new_column_names = list(map((lambda x : '_'.join(x.split(' ')).lower()), list(temp_df.columns)))\n",
    "    new_column_names[-1] = 'reason'\n",
    "\n",
    "    temp_df.rename(dict(zip(list(temp_df.columns), new_column_names)), axis=1, inplace=True)\n",
    "\n",
    "    temp_df['total_troops'] = temp_df['castle_1'] + \\\n",
    "                              temp_df['castle_2'] + \\\n",
    "                              temp_df['castle_3'] + \\\n",
    "                              temp_df['castle_4'] + \\\n",
    "                              temp_df['castle_5'] + \\\n",
    "                              temp_df['castle_6'] + \\\n",
    "                              temp_df['castle_7'] + \\\n",
    "                              temp_df['castle_8'] + \\\n",
    "                              temp_df['castle_9'] + \\\n",
    "                              temp_df['castle_10']\n",
    "\n",
    "    full_strats_df = temp_df[temp_df.total_troops == 100].copy()\n",
    "    full_strats_list = full_strats_df.to_dict('records')\n",
    "    if i == 0:\n",
    "        train_list += [[int(x[1]) for x in list(y.items())[:10]] for y in full_strats_list]\n",
    "    else:\n",
    "        test_list += [[int(x[1]) for x in list(y.items())[:10]] for y in full_strats_list]"
   ]
  },
  {
   "cell_type": "code",
   "execution_count": 3,
   "metadata": {
    "ExecuteTime": {
     "end_time": "2019-12-12T02:55:43.921979Z",
     "start_time": "2019-12-12T02:55:43.892787Z"
    }
   },
   "outputs": [
    {
     "data": {
      "text/plain": [
       "(1349, 2227)"
      ]
     },
     "execution_count": 3,
     "metadata": {},
     "output_type": "execute_result"
    }
   ],
   "source": [
    "len(train_list), len(test_list)"
   ]
  },
  {
   "cell_type": "code",
   "execution_count": 4,
   "metadata": {
    "ExecuteTime": {
     "end_time": "2019-12-12T02:55:43.972410Z",
     "start_time": "2019-12-12T02:55:43.924151Z"
    }
   },
   "outputs": [],
   "source": [
    "sample_size = 100"
   ]
  },
  {
   "cell_type": "markdown",
   "metadata": {},
   "source": [
    "## Divide into two players"
   ]
  },
  {
   "cell_type": "code",
   "execution_count": 5,
   "metadata": {
    "ExecuteTime": {
     "end_time": "2019-12-12T02:55:44.052890Z",
     "start_time": "2019-12-12T02:55:43.975619Z"
    }
   },
   "outputs": [
    {
     "data": {
      "text/plain": [
       "(100, 100)"
      ]
     },
     "execution_count": 5,
     "metadata": {},
     "output_type": "execute_result"
    }
   ],
   "source": [
    "random.seed(0)\n",
    "\n",
    "a_strat_init = random.sample(train_list, sample_size)\n",
    "b_strat_init = random.sample(train_list, sample_size)\n",
    "\n",
    "len(a_strat_init), len(b_strat_init)"
   ]
  },
  {
   "cell_type": "markdown",
   "metadata": {},
   "source": [
    "# Co-Evolving Algorithm"
   ]
  },
  {
   "cell_type": "markdown",
   "metadata": {},
   "source": [
    "# Entire GA"
   ]
  },
  {
   "cell_type": "code",
   "execution_count": 6,
   "metadata": {
    "ExecuteTime": {
     "end_time": "2019-12-12T02:55:44.103915Z",
     "start_time": "2019-12-12T02:55:44.057924Z"
    }
   },
   "outputs": [],
   "source": [
    "generations = 100\n",
    "trials = int(1e4)"
   ]
  },
  {
   "cell_type": "code",
   "execution_count": 7,
   "metadata": {
    "ExecuteTime": {
     "end_time": "2019-12-12T02:55:44.155791Z",
     "start_time": "2019-12-12T02:55:44.109561Z"
    }
   },
   "outputs": [],
   "source": [
    "# random.seed(0)"
   ]
  },
  {
   "cell_type": "markdown",
   "metadata": {},
   "source": [
    "## Iterative Generations"
   ]
  },
  {
   "cell_type": "code",
   "execution_count": 8,
   "metadata": {
    "ExecuteTime": {
     "end_time": "2019-12-12T02:55:44.223988Z",
     "start_time": "2019-12-12T02:55:44.166557Z"
    }
   },
   "outputs": [],
   "source": [
    "temp_noise = bu.generate_noise_arrays(1)"
   ]
  },
  {
   "cell_type": "markdown",
   "metadata": {},
   "source": [
    "evaluate strategies against training data? - doesn't this defeat the whole purpose of genetic algorithm"
   ]
  },
  {
   "cell_type": "code",
   "execution_count": 9,
   "metadata": {
    "ExecuteTime": {
     "end_time": "2019-12-12T02:55:44.255006Z",
     "start_time": "2019-12-12T02:55:44.226583Z"
    }
   },
   "outputs": [],
   "source": [
    "temp_a_strats, temp_b_strats = a_strat_init, b_strat_init\n",
    "best_a, best_b = [], []"
   ]
  },
  {
   "cell_type": "code",
   "execution_count": 10,
   "metadata": {
    "ExecuteTime": {
     "end_time": "2019-12-12T02:55:57.781959Z",
     "start_time": "2019-12-12T02:55:44.259764Z"
    }
   },
   "outputs": [],
   "source": [
    "for i in range(generations):\n",
    "    temp_a_fittest, temp_b_fittest, temp_a_strats, temp_b_strats = ga.evolve(temp_a_strats, temp_b_strats, 1, temp_noise, mutate_func=ga.mutate_top, mutation_count=1)\n",
    "    best_a.append(temp_a_fittest[0][0])\n",
    "    best_b.append(temp_b_fittest[0][0])"
   ]
  },
  {
   "cell_type": "code",
   "execution_count": 11,
   "metadata": {
    "ExecuteTime": {
     "end_time": "2019-12-12T02:55:57.837446Z",
     "start_time": "2019-12-12T02:55:57.783937Z"
    }
   },
   "outputs": [
    {
     "data": {
      "text/plain": [
       "(100, 100)"
      ]
     },
     "execution_count": 11,
     "metadata": {},
     "output_type": "execute_result"
    }
   ],
   "source": [
    "len(best_a), len(best_b)"
   ]
  },
  {
   "cell_type": "markdown",
   "metadata": {},
   "source": [
    "agent generations"
   ]
  },
  {
   "cell_type": "code",
   "execution_count": 12,
   "metadata": {
    "ExecuteTime": {
     "end_time": "2019-12-12T02:59:09.032698Z",
     "start_time": "2019-12-12T02:59:08.707576Z"
    }
   },
   "outputs": [],
   "source": [
    "evol_lin_prog_agent_a, evol_lin_prog_agent_b = au.make_nash_agents(best_a, best_b)"
   ]
  },
  {
   "cell_type": "code",
   "execution_count": 13,
   "metadata": {
    "ExecuteTime": {
     "end_time": "2019-12-12T02:59:37.114504Z",
     "start_time": "2019-12-12T02:59:37.090366Z"
    }
   },
   "outputs": [],
   "source": [
    "agent_a, agent_b = Agent(best_a), Agent(best_b)"
   ]
  },
  {
   "cell_type": "code",
   "execution_count": 14,
   "metadata": {
    "ExecuteTime": {
     "end_time": "2019-12-12T03:00:03.843844Z",
     "start_time": "2019-12-12T03:00:03.521454Z"
    }
   },
   "outputs": [],
   "source": [
    "lin_prog_agent_a, lin_prog_agent_b = au.make_nash_agents(a_strat_init, b_strat_init)"
   ]
  },
  {
   "cell_type": "code",
   "execution_count": 17,
   "metadata": {
    "ExecuteTime": {
     "end_time": "2019-12-12T03:01:43.287297Z",
     "start_time": "2019-12-12T03:01:42.751235Z"
    }
   },
   "outputs": [
    {
     "name": "stdout",
     "output_type": "stream",
     "text": [
      "0.9054 0.5622\n"
     ]
    }
   ],
   "source": [
    "print(au.play_game(evol_lin_prog_agent_a, agent_b, trials=trials),\n",
    "au.play_game(evol_lin_prog_agent_a, lin_prog_agent_b, trials=trials),)"
   ]
  },
  {
   "cell_type": "code",
   "execution_count": 18,
   "metadata": {
    "ExecuteTime": {
     "end_time": "2019-12-12T03:01:55.926773Z",
     "start_time": "2019-12-12T03:01:55.399089Z"
    }
   },
   "outputs": [
    {
     "name": "stdout",
     "output_type": "stream",
     "text": [
      "0.7578 0.5913\n"
     ]
    }
   ],
   "source": [
    "print(au.play_game(evol_lin_prog_agent_b, agent_a, trials=trials),\n",
    "au.play_game(evol_lin_prog_agent_b, lin_prog_agent_a, trials=trials),)"
   ]
  },
  {
   "cell_type": "markdown",
   "metadata": {
    "heading_collapsed": true
   },
   "source": [
    "## Convergence?"
   ]
  },
  {
   "cell_type": "code",
   "execution_count": 15,
   "metadata": {
    "ExecuteTime": {
     "end_time": "2019-12-11T20:08:08.606543Z",
     "start_time": "2019-12-11T20:08:08.565252Z"
    },
    "hidden": true
   },
   "outputs": [],
   "source": [
    "best_dist_a = {}\n",
    "for j in range(len(best_a)):\n",
    "    best_dist_a[j] = []\n",
    "    for i in range(len(best_a)):\n",
    "        best_dist_a[j].append(bu.l1_norm(best_a[j], best_a[i]))"
   ]
  },
  {
   "cell_type": "code",
   "execution_count": 16,
   "metadata": {
    "ExecuteTime": {
     "end_time": "2019-12-11T20:08:08.630341Z",
     "start_time": "2019-12-11T20:08:08.609601Z"
    },
    "hidden": true
   },
   "outputs": [],
   "source": [
    "min_sum = sum(best_dist_a[0])\n",
    "min_sum_index = 0\n",
    "for x, y in best_dist_a.items():\n",
    "    if sum(y) < min_sum:\n",
    "        min_sum_index = x\n",
    "        min_sum = sum(best_dist_a[x])"
   ]
  },
  {
   "cell_type": "code",
   "execution_count": 17,
   "metadata": {
    "ExecuteTime": {
     "end_time": "2019-12-11T20:08:08.652603Z",
     "start_time": "2019-12-11T20:08:08.632288Z"
    },
    "hidden": true
   },
   "outputs": [
    {
     "name": "stdout",
     "output_type": "stream",
     "text": [
      "83\n"
     ]
    }
   ],
   "source": [
    "print(min_sum_index)"
   ]
  },
  {
   "cell_type": "code",
   "execution_count": 18,
   "metadata": {
    "ExecuteTime": {
     "end_time": "2019-12-11T20:08:08.718672Z",
     "start_time": "2019-12-11T20:08:08.656239Z"
    },
    "hidden": true
   },
   "outputs": [],
   "source": [
    "best_dist_2_a = {}\n",
    "for j in range(len(best_a)):\n",
    "    best_dist_2_a[j] = []\n",
    "    for i in range(len(best_a)):\n",
    "        best_dist_2_a[j].append(bu.l2_norm(best_a[j], best_a[i]))"
   ]
  },
  {
   "cell_type": "code",
   "execution_count": 60,
   "metadata": {
    "ExecuteTime": {
     "end_time": "2019-12-11T20:56:27.850687Z",
     "start_time": "2019-12-11T20:56:27.019009Z"
    },
    "hidden": true
   },
   "outputs": [
    {
     "data": {
      "image/png": "[encoded data removed]",
      "text/plain": [
       "<Figure size 1440x720 with 1 Axes>"
      ]
     },
     "metadata": {
      "needs_background": "light"
     },
     "output_type": "display_data"
    }
   ],
   "source": [
    "index = 40\n",
    "plt.figure(figsize=(20,10))\n",
    "plt.bar(range(len(best_dist_a[index])), best_dist_a[index], 0.3, align='center')\n",
    "plt.show()"
   ]
  },
  {
   "cell_type": "markdown",
   "metadata": {
    "hidden": true
   },
   "source": [
    "Goal(s)\n",
    "* win some percentage of the train/test set\n",
    "* beat the lin prog agent"
   ]
  },
  {
   "cell_type": "markdown",
   "metadata": {},
   "source": [
    "## Linear Prog GA results"
   ]
  },
  {
   "cell_type": "code",
   "execution_count": 160,
   "metadata": {
    "ExecuteTime": {
     "end_time": "2019-12-11T21:53:49.247109Z",
     "start_time": "2019-12-11T21:53:49.087565Z"
    }
   },
   "outputs": [],
   "source": [
    "tempa1, tempb1, tempc1, tempd1 = ga.evolve(a_strat_init, b_strat_init, 1, temp_noise, mutate_func=ga.mutate_half, mutation_count=1)"
   ]
  },
  {
   "cell_type": "code",
   "execution_count": 161,
   "metadata": {
    "ExecuteTime": {
     "end_time": "2019-12-11T21:53:49.295804Z",
     "start_time": "2019-12-11T21:53:49.252398Z"
    }
   },
   "outputs": [
    {
     "data": {
      "text/plain": [
       "[[0, 0, 6, 10, 1, 22, 28, 31, 1, 1],\n",
       " [0, 0, 6, 8, 3, 22, 28, 31, 1, 1],\n",
       " [0, 0, 1, 11, 11, 16, 26, 31, 2, 2],\n",
       " [1, 0, 1, 11, 11, 15, 26, 31, 2, 2],\n",
       " [1, 8, 2, 2, 13, 18, 20, 32, 2, 2]]"
      ]
     },
     "execution_count": 161,
     "metadata": {},
     "output_type": "execute_result"
    }
   ],
   "source": [
    "tempc1[:5]"
   ]
  },
  {
   "cell_type": "code",
   "execution_count": 162,
   "metadata": {
    "ExecuteTime": {
     "end_time": "2019-12-11T21:53:49.499910Z",
     "start_time": "2019-12-11T21:53:49.301631Z"
    }
   },
   "outputs": [],
   "source": [
    "tempa, tempb, tempc, tempd = ga.evolve(a_strat_init, b_strat_init, 1, temp_noise, mutate_func=ga.mutate_half, mutation_count=10)"
   ]
  },
  {
   "cell_type": "code",
   "execution_count": 163,
   "metadata": {
    "ExecuteTime": {
     "end_time": "2019-12-11T21:53:49.534416Z",
     "start_time": "2019-12-11T21:53:49.503139Z"
    }
   },
   "outputs": [
    {
     "data": {
      "text/plain": [
       "[[0, 0, 6, 10, 1, 22, 28, 31, 1, 1],\n",
       " [3, 0, 8, 7, 1, 24, 28, 27, 0, 2],\n",
       " [0, 0, 1, 11, 11, 16, 26, 31, 2, 2],\n",
       " [0, 1, 7, 2, 14, 14, 22, 31, 2, 7],\n",
       " [1, 8, 2, 2, 13, 18, 20, 32, 2, 2]]"
      ]
     },
     "execution_count": 163,
     "metadata": {},
     "output_type": "execute_result"
    }
   ],
   "source": [
    "tempc[:5]"
   ]
  },
  {
   "cell_type": "markdown",
   "metadata": {},
   "source": [
    "### half"
   ]
  },
  {
   "cell_type": "code",
   "execution_count": 111,
   "metadata": {
    "ExecuteTime": {
     "end_time": "2019-12-11T21:23:48.488229Z",
     "start_time": "2019-12-11T21:23:47.922812Z"
    }
   },
   "outputs": [],
   "source": [
    "half_agent_a, half_agent_b = au.make_nash_agents(best_a, best_b)"
   ]
  },
  {
   "cell_type": "code",
   "execution_count": 112,
   "metadata": {
    "ExecuteTime": {
     "end_time": "2019-12-11T21:23:48.959875Z",
     "start_time": "2019-12-11T21:23:48.490666Z"
    }
   },
   "outputs": [],
   "source": [
    "lin_prog_agent_a, lin_prog_agent_b = au.make_nash_agents(a_strat_init, b_strat_init)"
   ]
  },
  {
   "cell_type": "code",
   "execution_count": 113,
   "metadata": {
    "ExecuteTime": {
     "end_time": "2019-12-11T21:23:49.117341Z",
     "start_time": "2019-12-11T21:23:48.970803Z"
    }
   },
   "outputs": [],
   "source": [
    "agent_a, agent_b = Agent(best_a), Agent(best_b)"
   ]
  },
  {
   "cell_type": "code",
   "execution_count": 174,
   "metadata": {
    "ExecuteTime": {
     "end_time": "2019-12-11T22:01:55.628067Z",
     "start_time": "2019-12-11T21:59:57.576029Z"
    }
   },
   "outputs": [
    {
     "name": "stdout",
     "output_type": "stream",
     "text": [
      "1\n",
      "6\n",
      "11\n",
      "16\n",
      "21\n",
      "26\n",
      "31\n",
      "36\n",
      "41\n",
      "46\n"
     ]
    }
   ],
   "source": [
    "random.seed(0)\n",
    "generations = 100\n",
    "trials = int(1e4)\n",
    "sample_size = 100\n",
    "temp_noise = bu.generate_noise_arrays(1)\n",
    "\n",
    "a_strat_init = random.sample(train_list, sample_size)\n",
    "b_strat_init = random.sample(train_list, sample_size)\n",
    "\n",
    "half_agents_a = []\n",
    "half_agents_b = []\n",
    "\n",
    "std_agents_a = []\n",
    "std_agents_b = []\n",
    "\n",
    "index = list(range(1, 51, 5))\n",
    "for count in index:\n",
    "    print(count)\n",
    "    temp_a_strats, temp_b_strats = a_strat_init, b_strat_init\n",
    "    best_a, best_b = [], []\n",
    "    for i in range(generations):\n",
    "        temp_a_fittest, temp_b_fittest, temp_a_strats, temp_b_strats = ga.evolve(temp_a_strats, temp_b_strats, 1, temp_noise, mutate_func=ga.mutate_half, mutation_count=count)\n",
    "        best_a.append(temp_a_fittest[0][0])\n",
    "        best_b.append(temp_b_fittest[0][0])\n",
    "        \n",
    "    x, y = au.make_nash_agents(best_a, best_b)\n",
    "    half_agents_a.append(x)\n",
    "    half_agents_b.append(y)\n",
    "    std_agents_a.append(Agent(best_a))\n",
    "    std_agents_b.append(Agent(best_b))"
   ]
  },
  {
   "cell_type": "code",
   "execution_count": 165,
   "metadata": {
    "ExecuteTime": {
     "end_time": "2019-12-11T21:56:12.239708Z",
     "start_time": "2019-12-11T21:56:12.218453Z"
    }
   },
   "outputs": [
    {
     "data": {
      "text/plain": [
       "(10, 10)"
      ]
     },
     "execution_count": 165,
     "metadata": {},
     "output_type": "execute_result"
    }
   ],
   "source": [
    "len(half_agents_a), len(half_agents_b), len(std_agents_a), len(std_agents_b)"
   ]
  },
  {
   "cell_type": "code",
   "execution_count": 176,
   "metadata": {
    "ExecuteTime": {
     "end_time": "2019-12-11T22:04:02.137154Z",
     "start_time": "2019-12-11T22:03:43.758638Z"
    }
   },
   "outputs": [
    {
     "data": {
      "image/png": "[encoded data removed]",
      "text/plain": [
       "<Figure size 1080x720 with 1 Axes>"
      ]
     },
     "metadata": {
      "needs_background": "light"
     },
     "output_type": "display_data"
    }
   ],
   "source": [
    "results = {}\n",
    "results['mut_a v. lin_prog_a'] = []\n",
    "results['mut_a v. lin_prog_b'] = []\n",
    "results['mut_b v. lin_prog_a'] = []\n",
    "results['mut_b v. lin_prog_b'] = []\n",
    "results['std_a v. lin_prog_a'] = []\n",
    "results['std_a v. lin_prog_b'] = []\n",
    "results['std_b v. lin_prog_a'] = []\n",
    "results['std_b v. lin_prog_b'] = []\n",
    "\n",
    "for agent in half_agents_a:\n",
    "    results['mut_a v. lin_prog_a'].append(au.play_game(agent, lin_prog_agent_a, trials=trials))\n",
    "    results['mut_a v. lin_prog_b'].append(au.play_game(agent, lin_prog_agent_b, trials=trials))\n",
    "\n",
    "for agent in half_agents_b:\n",
    "    results['mut_b v. lin_prog_a'].append(au.play_game(agent, lin_prog_agent_a, trials=trials))\n",
    "    results['mut_b v. lin_prog_b'].append(au.play_game(agent, lin_prog_agent_b, trials=trials))\n",
    "    \n",
    "for agent in std_agents_a:\n",
    "    results['std_a v. lin_prog_a'].append(au.play_game(agent, lin_prog_agent_a, trials=trials))\n",
    "    results['std_a v. lin_prog_b'].append(au.play_game(agent, lin_prog_agent_b, trials=trials))\n",
    "\n",
    "for agent in std_agents_b:\n",
    "    results['std_b v. lin_prog_a'].append(au.play_game(agent, lin_prog_agent_a, trials=trials))\n",
    "    results['std_b v. lin_prog_b'].append(au.play_game(agent, lin_prog_agent_b, trials=trials))\n",
    "\n",
    "plt.figure(figsize=(15, 10))\n",
    "for key, value in results.items():\n",
    "    plt.plot(index, value, label=key)\n",
    "# plt.title(\"Linear Programming Agent on Training Data across input size\", fontsize=20)\n",
    "# plt.xlabel(\"Sample Size\", fontsize=15)\n",
    "# plt.ylabel(\"Win Percentage\", fontsize=15)\n",
    "# plt.xticks(fontsize=15)\n",
    "# plt.yticks(fontsize=15)\n",
    "plt.legend(prop={'size':18})\n",
    "plt.show()"
   ]
  },
  {
   "cell_type": "code",
   "execution_count": 177,
   "metadata": {
    "ExecuteTime": {
     "end_time": "2019-12-11T22:13:24.744827Z",
     "start_time": "2019-12-11T22:11:12.540532Z"
    }
   },
   "outputs": [
    {
     "name": "stdout",
     "output_type": "stream",
     "text": [
      "1\n",
      "6\n",
      "11\n",
      "16\n",
      "21\n",
      "26\n",
      "31\n",
      "36\n",
      "41\n",
      "46\n"
     ]
    }
   ],
   "source": [
    "random.seed(0)\n",
    "generations = 100\n",
    "trials = int(1e4)\n",
    "sample_size = 100\n",
    "temp_noise = bu.generate_noise_arrays(1)\n",
    "\n",
    "a_strat_init = random.sample(train_list, sample_size)\n",
    "b_strat_init = random.sample(train_list, sample_size)\n",
    "\n",
    "half_agents_a = []\n",
    "half_agents_b = []\n",
    "\n",
    "std_agents_a = []\n",
    "std_agents_b = []\n",
    "\n",
    "index = list(range(1, 51, 5))\n",
    "for count in index:\n",
    "    print(count)\n",
    "    temp_a_strats, temp_b_strats = a_strat_init, b_strat_init\n",
    "    best_a, best_b = [], []\n",
    "    for i in range(generations):\n",
    "        temp_a_fittest, temp_b_fittest, temp_a_strats, temp_b_strats = ga.evolve(temp_a_strats, temp_b_strats, 1, temp_noise, mutate_func=ga.mutate_top, mutation_count=count)\n",
    "        best_a.append(temp_a_fittest[0][0])\n",
    "        best_b.append(temp_b_fittest[0][0])\n",
    "        \n",
    "    x, y = au.make_nash_agents(best_a, best_b)\n",
    "    half_agents_a.append(x)\n",
    "    half_agents_b.append(y)\n",
    "    std_agents_a.append(Agent(best_a))\n",
    "    std_agents_b.append(Agent(best_b))"
   ]
  },
  {
   "cell_type": "code",
   "execution_count": 180,
   "metadata": {
    "ExecuteTime": {
     "end_time": "2019-12-12T02:34:21.456118Z",
     "start_time": "2019-12-12T02:34:21.411102Z"
    },
    "scrolled": true
   },
   "outputs": [
    {
     "data": {
      "text/plain": [
       "array([[ 0,  0, 12,  2,  0,  5, 18, 19, 10, 34],\n",
       "       [ 0,  1, 12,  1,  1,  4, 16, 20, 10, 35],\n",
       "       [ 0,  0, 12,  2,  0,  5, 18, 19, 10, 34],\n",
       "       [ 0,  0, 12,  2,  0,  5, 18, 19, 10, 34],\n",
       "       [ 0,  0, 12,  2,  0,  5, 18, 19, 10, 34],\n",
       "       [ 0,  1, 12,  1,  1,  4, 16, 20, 10, 35],\n",
       "       [ 0,  0, 12,  2,  0,  5, 18, 19, 10, 34],\n",
       "       [ 0,  0, 12,  1,  1,  5, 17, 10,  9, 45],\n",
       "       [ 0,  0, 12,  1,  1,  5, 17, 10,  9, 45],\n",
       "       [ 0,  0, 12,  2,  0,  5, 18, 19, 10, 34],\n",
       "       [ 0,  0, 12,  1,  1,  5, 17, 10,  9, 45],\n",
       "       [ 0,  0, 12,  2,  0,  5, 18, 19, 10, 34],\n",
       "       [ 0,  0, 12,  2,  0,  5, 18, 19, 10, 34],\n",
       "       [ 0,  0, 12,  1,  1,  5, 17, 10,  9, 45],\n",
       "       [ 2,  8,  3,  0, 19, 19, 23, 22,  1,  3],\n",
       "       [ 2,  8,  3,  0, 19, 19, 23, 22,  1,  3],\n",
       "       [ 2,  8,  3,  0, 19, 19, 23, 22,  1,  3],\n",
       "       [ 0,  0, 12,  1,  1,  5, 17, 10,  9, 45],\n",
       "       [ 0,  0, 12,  1,  1,  5, 17, 10,  9, 45],\n",
       "       [ 0,  0, 12,  1,  1,  5, 17, 10,  9, 45],\n",
       "       [ 0,  0, 12,  1,  1,  5, 17, 10,  9, 45],\n",
       "       [ 0,  0, 12,  1,  1,  5, 17, 10,  9, 45],\n",
       "       [ 0,  0, 12,  2,  0,  5, 18, 19, 10, 34],\n",
       "       [ 0,  0, 12,  1,  1,  5, 17, 10,  9, 45],\n",
       "       [ 2,  8,  3,  0, 19, 19, 23, 22,  1,  3],\n",
       "       [ 0,  1, 12,  1,  1,  4, 16, 20, 10, 35],\n",
       "       [ 0,  0, 15, 16,  4, 11, 23, 22,  1,  8],\n",
       "       [ 0,  0, 12,  1,  1,  5, 17, 10,  9, 45],\n",
       "       [ 0,  0, 12,  2,  0,  5, 18, 19, 10, 34],\n",
       "       [ 0,  0, 12,  2,  0,  5, 18, 19, 10, 34],\n",
       "       [ 0,  0, 14, 17,  3, 10, 23, 22,  1, 10],\n",
       "       [ 0,  0, 12,  1,  1,  5, 17, 10,  9, 45],\n",
       "       [ 0,  0, 12,  2,  0,  5, 18, 19, 10, 34],\n",
       "       [ 0,  0, 12,  2,  0,  5, 18, 19, 10, 34],\n",
       "       [ 2,  8,  3,  0, 19, 19, 23, 22,  1,  3],\n",
       "       [ 0,  0, 12,  2,  0,  5, 18, 19, 10, 34],\n",
       "       [ 0,  0, 12,  2,  0,  5, 18, 19, 10, 34],\n",
       "       [ 0,  0, 12,  2,  0,  5, 18, 19, 10, 34],\n",
       "       [ 0,  0, 12,  1,  1,  5, 17, 10,  9, 45],\n",
       "       [ 0,  1, 12,  1,  1,  4, 16, 20, 10, 35],\n",
       "       [ 0,  0, 14, 17,  3, 10, 23, 22,  1, 10],\n",
       "       [ 0,  0, 12,  2,  0,  5, 18, 19, 10, 34],\n",
       "       [ 0,  1, 12,  1,  1,  4, 16, 20, 10, 35],\n",
       "       [ 2,  8,  3,  0, 19, 19, 23, 22,  1,  3],\n",
       "       [ 0,  1, 12,  1,  1,  4, 16, 20, 10, 35],\n",
       "       [ 0,  1, 12,  1,  1,  4, 16, 20, 10, 35],\n",
       "       [ 0,  0, 15, 16,  4, 11, 23, 22,  1,  8],\n",
       "       [ 0,  0, 15, 16,  4, 11, 23, 22,  1,  8],\n",
       "       [ 0,  0, 14, 17,  3, 10, 23, 22,  1, 10],\n",
       "       [ 0,  0, 14, 17,  3, 10, 23, 22,  1, 10],\n",
       "       [ 0,  0, 12,  2,  0,  5, 18, 19, 10, 34],\n",
       "       [ 0,  0, 12,  2,  0,  5, 18, 19, 10, 34],\n",
       "       [ 0,  0, 12,  1,  1,  5, 17, 10,  9, 45],\n",
       "       [ 2,  8,  3,  0, 19, 19, 23, 22,  1,  3],\n",
       "       [ 0,  0, 15, 16,  4, 11, 23, 22,  1,  8],\n",
       "       [ 0,  0, 15, 16,  4, 11, 23, 22,  1,  8],\n",
       "       [ 0,  1, 12,  1,  1,  4, 16, 20, 10, 35],\n",
       "       [ 0,  0, 14, 17,  3, 10, 23, 22,  1, 10],\n",
       "       [ 0,  0, 12,  2,  0,  5, 18, 19, 10, 34],\n",
       "       [ 0,  0, 15, 16,  4, 11, 23, 22,  1,  8],\n",
       "       [ 0,  0, 15, 16,  4, 11, 23, 22,  1,  8],\n",
       "       [ 2,  8,  3,  0, 19, 19, 23, 22,  1,  3],\n",
       "       [ 0,  1, 12,  1,  1,  4, 16, 20, 10, 35],\n",
       "       [ 0,  0, 15, 16,  4, 11, 23, 22,  1,  8],\n",
       "       [ 0,  0, 15, 16,  4, 11, 23, 22,  1,  8],\n",
       "       [ 0,  0, 14, 17,  3, 10, 23, 22,  1, 10],\n",
       "       [ 0,  0, 12,  1,  1,  5, 17, 10,  9, 45],\n",
       "       [ 2,  8,  3,  0, 19, 19, 23, 22,  1,  3],\n",
       "       [ 0,  0, 12,  1,  1,  5, 17, 10,  9, 45],\n",
       "       [ 2,  8,  3,  0, 19, 19, 23, 22,  1,  3],\n",
       "       [ 0,  0, 12,  1,  1,  5, 17, 10,  9, 45],\n",
       "       [ 0,  0, 12,  2,  0,  5, 18, 19, 10, 34],\n",
       "       [ 0,  0, 12,  1,  1,  5, 17, 10,  9, 45],\n",
       "       [ 0,  0, 12,  2,  0,  5, 18, 19, 10, 34],\n",
       "       [ 0,  1, 12,  1,  1,  4, 16, 20, 10, 35],\n",
       "       [ 2,  8,  3,  0, 19, 19, 23, 22,  1,  3],\n",
       "       [ 0,  0, 14, 17,  3, 10, 23, 22,  1, 10],\n",
       "       [ 2,  8,  3,  0, 19, 19, 23, 22,  1,  3],\n",
       "       [ 0,  0, 14, 17,  3, 10, 23, 22,  1, 10],\n",
       "       [ 2,  8,  3,  0, 19, 19, 23, 22,  1,  3],\n",
       "       [ 0,  0, 14, 17,  3, 10, 23, 22,  1, 10],\n",
       "       [ 0,  0, 12,  2,  0,  5, 18, 19, 10, 34],\n",
       "       [ 2,  8,  3,  0, 19, 19, 23, 22,  1,  3],\n",
       "       [ 0,  1, 12,  1,  1,  4, 16, 20, 10, 35],\n",
       "       [ 0,  0, 12,  2,  0,  5, 18, 19, 10, 34],\n",
       "       [ 0,  0, 14, 17,  3, 10, 23, 22,  1, 10],\n",
       "       [ 0,  0, 12,  2,  0,  5, 18, 19, 10, 34],\n",
       "       [ 2,  8,  3,  0, 19, 19, 23, 22,  1,  3],\n",
       "       [ 0,  0, 12,  2,  0,  5, 18, 19, 10, 34],\n",
       "       [ 0,  0, 12,  1,  1,  5, 17, 10,  9, 45],\n",
       "       [ 0,  0, 14, 17,  3, 10, 23, 22,  1, 10],\n",
       "       [ 0,  1, 12,  1,  1,  4, 16, 20, 10, 35],\n",
       "       [ 0,  0, 15, 16,  4, 11, 23, 22,  1,  8],\n",
       "       [ 0,  1, 12,  1,  1,  4, 16, 20, 10, 35],\n",
       "       [ 0,  0, 14, 17,  3, 10, 23, 22,  1, 10],\n",
       "       [ 0,  0, 15, 16,  4, 11, 23, 22,  1,  8],\n",
       "       [ 0,  0, 12,  2,  0,  5, 18, 19, 10, 34],\n",
       "       [ 2,  8,  3,  0, 19, 19, 23, 22,  1,  3],\n",
       "       [ 0,  0, 12,  1,  1,  5, 17, 10,  9, 45],\n",
       "       [ 2,  8,  3,  0, 19, 19, 23, 22,  1,  3]])"
      ]
     },
     "execution_count": 180,
     "metadata": {},
     "output_type": "execute_result"
    }
   ],
   "source": [
    "half_agents_a[0].play()"
   ]
  },
  {
   "cell_type": "code",
   "execution_count": 178,
   "metadata": {
    "ExecuteTime": {
     "end_time": "2019-12-11T22:13:24.787272Z",
     "start_time": "2019-12-11T22:13:24.747203Z"
    }
   },
   "outputs": [
    {
     "data": {
      "text/plain": [
       "(10, 10, 10, 10)"
      ]
     },
     "execution_count": 178,
     "metadata": {},
     "output_type": "execute_result"
    }
   ],
   "source": [
    "len(half_agents_a), len(half_agents_b), len(std_agents_a), len(std_agents_b)"
   ]
  },
  {
   "cell_type": "code",
   "execution_count": 179,
   "metadata": {
    "ExecuteTime": {
     "end_time": "2019-12-11T22:13:43.947470Z",
     "start_time": "2019-12-11T22:13:24.793862Z"
    }
   },
   "outputs": [
    {
     "data": {
      "image/png": "[encoded data removed]",
      "text/plain": [
       "<Figure size 1080x720 with 1 Axes>"
      ]
     },
     "metadata": {
      "needs_background": "light"
     },
     "output_type": "display_data"
    }
   ],
   "source": [
    "results = {}\n",
    "results['mut_a v. lin_prog_a'] = []\n",
    "results['mut_a v. lin_prog_b'] = []\n",
    "results['mut_b v. lin_prog_a'] = []\n",
    "results['mut_b v. lin_prog_b'] = []\n",
    "results['std_a v. lin_prog_a'] = []\n",
    "results['std_a v. lin_prog_b'] = []\n",
    "results['std_b v. lin_prog_a'] = []\n",
    "results['std_b v. lin_prog_b'] = []\n",
    "\n",
    "for agent in half_agents_a:\n",
    "    results['mut_a v. lin_prog_a'].append(au.play_game(agent, lin_prog_agent_a, trials=trials))\n",
    "    results['mut_a v. lin_prog_b'].append(au.play_game(agent, lin_prog_agent_b, trials=trials))\n",
    "\n",
    "for agent in half_agents_b:\n",
    "    results['mut_b v. lin_prog_a'].append(au.play_game(agent, lin_prog_agent_a, trials=trials))\n",
    "    results['mut_b v. lin_prog_b'].append(au.play_game(agent, lin_prog_agent_b, trials=trials))\n",
    "    \n",
    "for agent in std_agents_a:\n",
    "    results['std_a v. lin_prog_a'].append(au.play_game(agent, lin_prog_agent_a, trials=trials))\n",
    "    results['std_a v. lin_prog_b'].append(au.play_game(agent, lin_prog_agent_b, trials=trials))\n",
    "\n",
    "for agent in std_agents_b:\n",
    "    results['std_b v. lin_prog_a'].append(au.play_game(agent, lin_prog_agent_a, trials=trials))\n",
    "    results['std_b v. lin_prog_b'].append(au.play_game(agent, lin_prog_agent_b, trials=trials))\n",
    "\n",
    "plt.figure(figsize=(15, 10))\n",
    "for key, value in results.items():\n",
    "    plt.plot(index, value, label=key)\n",
    "# plt.title(\"Linear Programming Agent on Training Data across input size\", fontsize=20)\n",
    "# plt.xlabel(\"Sample Size\", fontsize=15)\n",
    "# plt.ylabel(\"Win Percentage\", fontsize=15)\n",
    "# plt.xticks(fontsize=15)\n",
    "# plt.yticks(fontsize=15)\n",
    "plt.legend(prop={'size':18})\n",
    "plt.show()"
   ]
  },
  {
   "cell_type": "code",
   "execution_count": null,
   "metadata": {},
   "outputs": [],
   "source": []
  },
  {
   "cell_type": "markdown",
   "metadata": {},
   "source": [
    "#### test"
   ]
  },
  {
   "cell_type": "code",
   "execution_count": 114,
   "metadata": {
    "ExecuteTime": {
     "end_time": "2019-12-11T21:23:49.726878Z",
     "start_time": "2019-12-11T21:23:49.136778Z"
    }
   },
   "outputs": [
    {
     "data": {
      "text/plain": [
       "0.7182999999999999"
      ]
     },
     "execution_count": 114,
     "metadata": {},
     "output_type": "execute_result"
    }
   ],
   "source": [
    "au.play_game(half_agent_a, half_agent_b, trials=trials)"
   ]
  },
  {
   "cell_type": "code",
   "execution_count": 115,
   "metadata": {
    "ExecuteTime": {
     "end_time": "2019-12-11T21:23:50.400490Z",
     "start_time": "2019-12-11T21:23:49.757227Z"
    }
   },
   "outputs": [
    {
     "data": {
      "text/plain": [
       "0.5094"
      ]
     },
     "execution_count": 115,
     "metadata": {},
     "output_type": "execute_result"
    }
   ],
   "source": [
    "au.play_game(agent_a, lin_prog_agent_a, trials=trials)"
   ]
  },
  {
   "cell_type": "code",
   "execution_count": 116,
   "metadata": {
    "ExecuteTime": {
     "end_time": "2019-12-11T21:23:50.746680Z",
     "start_time": "2019-12-11T21:23:50.405153Z"
    }
   },
   "outputs": [
    {
     "data": {
      "text/plain": [
       "0.519"
      ]
     },
     "execution_count": 116,
     "metadata": {},
     "output_type": "execute_result"
    }
   ],
   "source": [
    "au.play_game(agent_a, lin_prog_agent_b, trials=trials)"
   ]
  },
  {
   "cell_type": "code",
   "execution_count": 117,
   "metadata": {
    "ExecuteTime": {
     "end_time": "2019-12-11T21:23:51.337326Z",
     "start_time": "2019-12-11T21:23:50.749336Z"
    }
   },
   "outputs": [
    {
     "data": {
      "text/plain": [
       "0.4474"
      ]
     },
     "execution_count": 117,
     "metadata": {},
     "output_type": "execute_result"
    }
   ],
   "source": [
    "au.play_game(agent_b, lin_prog_agent_a, trials=trials)"
   ]
  },
  {
   "cell_type": "code",
   "execution_count": 118,
   "metadata": {
    "ExecuteTime": {
     "end_time": "2019-12-11T21:23:52.015761Z",
     "start_time": "2019-12-11T21:23:51.361737Z"
    }
   },
   "outputs": [
    {
     "data": {
      "text/plain": [
       "0.4141"
      ]
     },
     "execution_count": 118,
     "metadata": {},
     "output_type": "execute_result"
    }
   ],
   "source": [
    "au.play_game(agent_b, lin_prog_agent_b, trials=trials)"
   ]
  },
  {
   "cell_type": "code",
   "execution_count": 119,
   "metadata": {
    "ExecuteTime": {
     "end_time": "2019-12-11T21:23:52.542122Z",
     "start_time": "2019-12-11T21:23:52.042496Z"
    }
   },
   "outputs": [
    {
     "data": {
      "text/plain": [
       "0.483"
      ]
     },
     "execution_count": 119,
     "metadata": {},
     "output_type": "execute_result"
    }
   ],
   "source": [
    "au.play_game(half_agent_a, agent_b, trials=trials)"
   ]
  },
  {
   "cell_type": "code",
   "execution_count": 120,
   "metadata": {
    "ExecuteTime": {
     "end_time": "2019-12-11T21:23:53.037298Z",
     "start_time": "2019-12-11T21:23:52.546625Z"
    }
   },
   "outputs": [
    {
     "data": {
      "text/plain": [
       "0.5708"
      ]
     },
     "execution_count": 120,
     "metadata": {},
     "output_type": "execute_result"
    }
   ],
   "source": [
    "au.play_game(half_agent_b, agent_a, trials=trials)"
   ]
  },
  {
   "cell_type": "code",
   "execution_count": 121,
   "metadata": {
    "ExecuteTime": {
     "end_time": "2019-12-11T21:23:53.848233Z",
     "start_time": "2019-12-11T21:23:53.085522Z"
    }
   },
   "outputs": [
    {
     "data": {
      "text/plain": [
       "0.4395"
      ]
     },
     "execution_count": 121,
     "metadata": {},
     "output_type": "execute_result"
    }
   ],
   "source": [
    "au.play_game(half_agent_a, lin_prog_agent_a, trials=trials)"
   ]
  },
  {
   "cell_type": "code",
   "execution_count": 122,
   "metadata": {
    "ExecuteTime": {
     "end_time": "2019-12-11T21:23:54.503360Z",
     "start_time": "2019-12-11T21:23:53.902228Z"
    }
   },
   "outputs": [
    {
     "data": {
      "text/plain": [
       "0.6476"
      ]
     },
     "execution_count": 122,
     "metadata": {},
     "output_type": "execute_result"
    }
   ],
   "source": [
    "au.play_game(half_agent_a, lin_prog_agent_b, trials=trials)"
   ]
  },
  {
   "cell_type": "code",
   "execution_count": 123,
   "metadata": {
    "ExecuteTime": {
     "end_time": "2019-12-11T21:23:54.971611Z",
     "start_time": "2019-12-11T21:23:54.508448Z"
    }
   },
   "outputs": [
    {
     "data": {
      "text/plain": [
       "0.4683"
      ]
     },
     "execution_count": 123,
     "metadata": {},
     "output_type": "execute_result"
    }
   ],
   "source": [
    "au.play_game(half_agent_b, lin_prog_agent_a, trials=trials)"
   ]
  },
  {
   "cell_type": "code",
   "execution_count": 124,
   "metadata": {
    "ExecuteTime": {
     "end_time": "2019-12-11T21:23:55.663904Z",
     "start_time": "2019-12-11T21:23:54.986595Z"
    }
   },
   "outputs": [
    {
     "data": {
      "text/plain": [
       "0.41400000000000003"
      ]
     },
     "execution_count": 124,
     "metadata": {},
     "output_type": "execute_result"
    }
   ],
   "source": [
    "au.play_game(half_agent_b, lin_prog_agent_b, trials=trials)"
   ]
  },
  {
   "cell_type": "code",
   "execution_count": 125,
   "metadata": {
    "ExecuteTime": {
     "end_time": "2019-12-11T21:23:55.849505Z",
     "start_time": "2019-12-11T21:23:55.674341Z"
    }
   },
   "outputs": [
    {
     "data": {
      "text/plain": [
       "0.49147516679021497"
      ]
     },
     "execution_count": 125,
     "metadata": {},
     "output_type": "execute_result"
    }
   ],
   "source": [
    "au.play_game(half_agent_a, train_list, trials=len(train_list))"
   ]
  },
  {
   "cell_type": "code",
   "execution_count": 126,
   "metadata": {
    "ExecuteTime": {
     "end_time": "2019-12-11T21:23:56.149295Z",
     "start_time": "2019-12-11T21:23:55.859938Z"
    }
   },
   "outputs": [
    {
     "data": {
      "text/plain": [
       "0.4507042253521127"
      ]
     },
     "execution_count": 126,
     "metadata": {},
     "output_type": "execute_result"
    }
   ],
   "source": [
    "au.play_game(half_agent_b, train_list, trials=len(train_list))"
   ]
  },
  {
   "cell_type": "code",
   "execution_count": 127,
   "metadata": {
    "ExecuteTime": {
     "end_time": "2019-12-11T21:23:56.434741Z",
     "start_time": "2019-12-11T21:23:56.226308Z"
    }
   },
   "outputs": [
    {
     "data": {
      "text/plain": [
       "0.4854063762909744"
      ]
     },
     "execution_count": 127,
     "metadata": {},
     "output_type": "execute_result"
    }
   ],
   "source": [
    "au.play_game(half_agent_a, test_list, trials=len(test_list))"
   ]
  },
  {
   "cell_type": "code",
   "execution_count": 128,
   "metadata": {
    "ExecuteTime": {
     "end_time": "2019-12-11T21:23:56.588354Z",
     "start_time": "2019-12-11T21:23:56.437184Z"
    }
   },
   "outputs": [
    {
     "data": {
      "text/plain": [
       "0.47238437359676694"
      ]
     },
     "execution_count": 128,
     "metadata": {},
     "output_type": "execute_result"
    }
   ],
   "source": [
    "au.play_game(half_agent_b, test_list, trials=len(test_list))"
   ]
  },
  {
   "cell_type": "code",
   "execution_count": null,
   "metadata": {},
   "outputs": [],
   "source": []
  },
  {
   "cell_type": "markdown",
   "metadata": {},
   "source": [
    "## Mixed Strategies"
   ]
  }
 ],
 "metadata": {
  "kernelspec": {
   "display_name": "Python 3",
   "language": "python",
   "name": "python3"
  },
  "language_info": {
   "codemirror_mode": {
    "name": "ipython",
    "version": 3
   },
   "file_extension": ".py",
   "mimetype": "text/x-python",
   "name": "python",
   "nbconvert_exporter": "python",
   "pygments_lexer": "ipython3",
   "version": "3.6.8"
  },
  "varInspector": {
   "cols": {
    "lenName": 16,
    "lenType": 16,
    "lenVar": 40
   },
   "kernels_config": {
    "python": {
     "delete_cmd_postfix": "",
     "delete_cmd_prefix": "del ",
     "library": "var_list.py",
     "varRefreshCmd": "print(var_dic_list())"
    },
    "r": {
     "delete_cmd_postfix": ") ",
     "delete_cmd_prefix": "rm(",
     "library": "var_list.r",
     "varRefreshCmd": "cat(var_dic_list()) "
    }
   },
   "types_to_exclude": [
    "module",
    "function",
    "builtin_function_or_method",
    "instance",
    "_Feature"
   ],
   "window_display": false
  }
 },
 "nbformat": 4,
 "nbformat_minor": 2
}
